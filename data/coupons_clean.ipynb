{
 "cells": [
  {
   "cell_type": "code",
   "execution_count": 1,
   "metadata": {},
   "outputs": [],
   "source": [
    "import pandas as pd\n",
    "import csv\n",
    "import sqlite3\n",
    "import matplotlib.pyplot as plt\n",
    "import matplotlib\n",
    "import numpy as np\n",
    "import urllib\n",
    "from scipy.stats import mannwhitneyu\n",
    "import re\n",
    "import os.path\n",
    "from langdetect import detect\n",
    "import string\n",
    "import nltk\n",
    "from nltk.tokenize import sent_tokenize, word_tokenize\n",
    "from sklearn.feature_extraction.text import CountVectorizer, HashingVectorizer, TfidfTransformer\n",
    "import fastcluster\n",
    "from sklearn.metrics.pairwise import euclidean_distances, cosine_distances\n",
    "from scipy.spatial.distance import squareform\n",
    "import sys\n",
    "from scipy.cluster.hierarchy import fcluster, dendrogram\n",
    "from nltk.stem.porter import PorterStemmer\n",
    "import math\n",
    "import gensim \n",
    "import hdbscan\n",
    "from gensim.models import Word2Vec\n",
    "from gensim.models.doc2vec import Doc2Vec, TaggedDocument\n",
    "import warnings\n",
    "warnings.filterwarnings('ignore')\n",
    "sys.setrecursionlimit(100000)\n",
    "matplotlib.style.use('ggplot')"
   ]
  },
  {
   "cell_type": "markdown",
   "metadata": {},
   "source": [
    "## YouTube - Exploratory Analyses\n",
    "### Loading the dataset\n",
    "First, let us load the dataset from the database."
   ]
  },
  {
   "cell_type": "code",
   "execution_count": 3,
   "metadata": {},
   "outputs": [],
   "source": [
    "con = sqlite3.connect('youtube.db')\n",
    "video = pd.read_sql_query('''SELECT v.autoId as autoId, \n",
    "                                    v.id as id,\n",
    "                                    v.categoryId as categoryId,\n",
    "                                    v.channelId as channelId,\n",
    "                                    v.publishedAt as publishedAt,\n",
    "                                    v.title as title,\n",
    "                                    v.description as description,\n",
    "                                    v.viewCount as viewCount,\n",
    "                                    v.likeCount as likeCount,\n",
    "                                    v.dislikeCount as dislikeCount,\n",
    "                                    v.favoriteCount as favoriteCount,\n",
    "                                    v.commentCount as commentCount,\n",
    "                                    v.duration as duration,\n",
    "                                    v.defaultLanguage as defaultLanguage,\n",
    "                                    c.title as channelTitle,\n",
    "                                    c.description as channelDescription,\n",
    "                                    c.publishedAt as channelPublishedAt,\n",
    "                                    c.viewCount as channelViewCount,\n",
    "                                    c.commentCount as channelCommentCount,\n",
    "                                    c.subscriberCount as channelSubscriberCount,\n",
    "                                    c.videoCount as channelVideoCount,\n",
    "                                    c.country as channelCountry\n",
    "                                    from video v left join channel c on v.channelId = c.id limit 130000''', con)"
   ]
  },
  {
   "cell_type": "markdown",
   "metadata": {},
   "source": [
    "Next, let's examine the count of videos we collected. The tables are ``video``, ``url``, ``urlResolve``, and ``category``."
   ]
  },
  {
   "cell_type": "code",
   "execution_count": 4,
   "metadata": {},
   "outputs": [
    {
     "name": "stdout",
     "output_type": "stream",
     "text": [
      "(130000, 22)\n"
     ]
    }
   ],
   "source": [
    "print video.shape"
   ]
  },
  {
   "cell_type": "code",
   "execution_count": 5,
   "metadata": {},
   "outputs": [
    {
     "data": {
      "text/plain": [
       "['autoId',\n",
       " 'id',\n",
       " 'categoryId',\n",
       " 'channelId',\n",
       " 'publishedAt',\n",
       " 'title',\n",
       " 'description',\n",
       " 'viewCount',\n",
       " 'likeCount',\n",
       " 'dislikeCount',\n",
       " 'favoriteCount',\n",
       " 'commentCount',\n",
       " 'duration',\n",
       " 'defaultLanguage',\n",
       " 'channelTitle',\n",
       " 'channelDescription',\n",
       " 'channelPublishedAt',\n",
       " 'channelViewCount',\n",
       " 'channelCommentCount',\n",
       " 'channelSubscriberCount',\n",
       " 'channelVideoCount',\n",
       " 'channelCountry']"
      ]
     },
     "execution_count": 5,
     "metadata": {},
     "output_type": "execute_result"
    }
   ],
   "source": [
    "list(video.columns.values)"
   ]
  },
  {
   "cell_type": "code",
   "execution_count": 6,
   "metadata": {},
   "outputs": [
    {
     "name": "stdout",
     "output_type": "stream",
     "text": [
      "(130000, 22)\n"
     ]
    }
   ],
   "source": [
    "print video.shape"
   ]
  },
  {
   "cell_type": "markdown",
   "metadata": {},
   "source": [
    "### Examining the affiliate video descriptions"
   ]
  },
  {
   "cell_type": "markdown",
   "metadata": {},
   "source": [
    "What languages are these descriptions in?"
   ]
  },
  {
   "cell_type": "code",
   "execution_count": 7,
   "metadata": {},
   "outputs": [
    {
     "name": "stdout",
     "output_type": "stream",
     "text": [
      "en         44354\n",
      "Unknown    38227\n",
      "es          6506\n",
      "pt          5044\n",
      "ru          4035\n",
      "de          3323\n",
      "ja          2737\n",
      "fr          2730\n",
      "ko          2194\n",
      "ar          1936\n",
      "it          1924\n",
      "id          1566\n",
      "tr          1155\n",
      "ca          1067\n",
      "ro          1033\n",
      "vi          1027\n",
      "nl           936\n",
      "th           876\n",
      "pl           874\n",
      "tl           706\n",
      "so           641\n",
      "sv           549\n",
      "et           500\n",
      "af           479\n",
      "no           478\n",
      "da           421\n",
      "hr           401\n",
      "bg           394\n",
      "cy           354\n",
      "hu           343\n",
      "fi           332\n",
      "sw           330\n",
      "sl           271\n",
      "cs           244\n",
      "el           224\n",
      "he           214\n",
      "zh-cn        188\n",
      "uk           187\n",
      "lt           184\n",
      "sk           164\n",
      "sq           158\n",
      "zh-tw        143\n",
      "mk           112\n",
      "fa           107\n",
      "bn            79\n",
      "lv            78\n",
      "hi            63\n",
      "ur            30\n",
      "ta            24\n",
      "ne            15\n",
      "ml            14\n",
      "te            13\n",
      "mr            11\n",
      "pa             2\n",
      "gu             2\n",
      "kn             1\n",
      "dtype: int64\n"
     ]
    }
   ],
   "source": [
    "def get_language(x):\n",
    "    language = 'Unknown'\n",
    "    try:\n",
    "        language = detect(x.description.strip())\n",
    "    except:\n",
    "        pass\n",
    "    return language\n",
    "\n",
    "vids = video.apply(get_language, axis=1)\n",
    "print vids.value_counts()"
   ]
  },
  {
   "cell_type": "code",
   "execution_count": 8,
   "metadata": {},
   "outputs": [],
   "source": [
    "videos_en = video[vids == 'en'].copy()"
   ]
  },
  {
   "cell_type": "code",
   "execution_count": 9,
   "metadata": {},
   "outputs": [
    {
     "data": {
      "text/plain": [
       "(44354, 22)"
      ]
     },
     "execution_count": 9,
     "metadata": {},
     "output_type": "execute_result"
    }
   ],
   "source": [
    "videos_en.shape"
   ]
  },
  {
   "cell_type": "code",
   "execution_count": 2,
   "metadata": {},
   "outputs": [],
   "source": [
    "#could write to csv\n",
    "# with open('videos_en.tsv', 'wb') as csvfile:\n",
    "#     writer = csv.writer(csvfile, delimiter='\\t', quoting=csv.QUOTE_MINIMAL)\n",
    "#     count = 0\n",
    "#     for index, row in videos_en.iterrows():\n",
    "#         try:\n",
    "#             writer.writerow([row[\"id\"].encode('utf-8'), row[\"description\"].encode('utf-8'), row[\"channelTitle\"].encode('utf-8')])\n",
    "#         except:\n",
    "#             count += 1\n",
    "#     print count\n",
    "\n",
    "# videos = []\n",
    "# with open(\"videos_en.tsv\", 'rb') as csvfile:\n",
    "#     reader = csv.reader(csvfile, delimiter='\\t')\n",
    "#     for row in reader:\n",
    "#         videos.append([row[0], row[1], row[2]])\n",
    "        \n",
    "# videos_en = pd.DataFrame(videos, columns=['id', 'description', 'channelTitle'])\n",
    "# videos = 0\n",
    "        "
   ]
  },
  {
   "cell_type": "code",
   "execution_count": 4,
   "metadata": {},
   "outputs": [
    {
     "name": "stdout",
     "output_type": "stream",
     "text": [
      "(230749, 4)\n",
      "871\n"
     ]
    }
   ],
   "source": [
    "# Add a sentence number value here\n",
    "rows = []\n",
    "\n",
    "def description_parse(desc):\n",
    "    sentences = []\n",
    "    for line in desc.splitlines():\n",
    "        for sent in sent_tokenize(line):\n",
    "            sentences.append(sent)\n",
    "    \n",
    "    return sentences\n",
    "\n",
    "sentences = []\n",
    "count = 0\n",
    "for index, row in videos_en.iterrows():\n",
    "    try:\n",
    "        sentences = description_parse(row.description)\n",
    "        for sent in sentences:\n",
    "            if len(tokenize(sent)) != 0:\n",
    "                rows.append([row['id'], row['channelTitle'], row['description'], sent])\n",
    "    except:\n",
    "        count+=1\n",
    "\n",
    "videos_en_new = pd.DataFrame(rows, columns=['id', 'channelTitle', 'description', 'sentence'])\n",
    "del videos_en #clear this from memory\n",
    "print videos_en_new.shape\n",
    "print count"
   ]
  },
  {
   "cell_type": "code",
   "execution_count": 7,
   "metadata": {},
   "outputs": [
    {
     "name": "stdout",
     "output_type": "stream",
     "text": [
      "75404\n"
     ]
    }
   ],
   "source": [
    "with open('sentences_en.tsv', 'wb') as csvfile:\n",
    "    writer = csv.writer(csvfile, delimiter='\\t', quoting=csv.QUOTE_MINIMAL)\n",
    "    count = 0\n",
    "    for index, row in videos_en_new.iterrows():\n",
    "        try:\n",
    "            writer.writerow([row[\"id\"].encode('utf-8'), row[\"description\"].encode('utf-8'), row[\"channelTitle\"].encode('utf-8'), row[\"sentence\"].encode('utf-8')])\n",
    "        except UnicodeDecodeError:\n",
    "            count += 1\n",
    "    print count"
   ]
  }
 ],
 "metadata": {
  "kernelspec": {
   "display_name": "Python 2",
   "language": "python",
   "name": "python2"
  },
  "language_info": {
   "codemirror_mode": {
    "name": "ipython",
    "version": 2
   },
   "file_extension": ".py",
   "mimetype": "text/x-python",
   "name": "python",
   "nbconvert_exporter": "python",
   "pygments_lexer": "ipython2",
   "version": "2.7.15"
  }
 },
 "nbformat": 4,
 "nbformat_minor": 2
}
