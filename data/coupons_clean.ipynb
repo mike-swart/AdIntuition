{
 "cells": [
  {
   "cell_type": "code",
   "execution_count": 1,
   "metadata": {},
   "outputs": [],
   "source": [
    "import pandas as pd\n",
    "import csv\n",
    "import sqlite3\n",
    "import matplotlib.pyplot as plt\n",
    "import matplotlib\n",
    "import numpy as np\n",
    "import urllib\n",
    "from scipy.stats import mannwhitneyu\n",
    "import re\n",
    "import os.path\n",
    "from langdetect import detect\n",
    "import string\n",
    "import nltk\n",
    "from nltk.tokenize import sent_tokenize, word_tokenize\n",
    "from sklearn.feature_extraction.text import CountVectorizer, HashingVectorizer, TfidfTransformer\n",
    "import fastcluster\n",
    "from sklearn.metrics.pairwise import euclidean_distances, cosine_distances\n",
    "from scipy.spatial.distance import squareform\n",
    "import sys\n",
    "from scipy.cluster.hierarchy import fcluster, dendrogram\n",
    "from nltk.stem.porter import PorterStemmer\n",
    "import math\n",
    "import gensim \n",
    "import hdbscan\n",
    "from gensim.models import Word2Vec\n",
    "from gensim.models.doc2vec import Doc2Vec, TaggedDocument\n",
    "import warnings\n",
    "warnings.filterwarnings('ignore')\n",
    "sys.setrecursionlimit(100000)\n",
    "matplotlib.style.use('ggplot')"
   ]
  },
  {
   "cell_type": "markdown",
   "metadata": {},
   "source": [
    "## YouTube - Exploratory Analyses\n",
    "### Loading the dataset\n",
    "First, let us load the dataset from the database."
   ]
  },
  {
   "cell_type": "code",
   "execution_count": 2,
   "metadata": {},
   "outputs": [],
   "source": [
    "con = sqlite3.connect('youtube.db')\n",
    "video = pd.read_sql_query('''SELECT v.autoId as autoId, \n",
    "                                    v.id as id,\n",
    "                                    v.categoryId as categoryId,\n",
    "                                    v.channelId as channelId,\n",
    "                                    v.publishedAt as publishedAt,\n",
    "                                    v.title as title,\n",
    "                                    v.description as description,\n",
    "                                    v.viewCount as viewCount,\n",
    "                                    v.likeCount as likeCount,\n",
    "                                    v.dislikeCount as dislikeCount,\n",
    "                                    v.favoriteCount as favoriteCount,\n",
    "                                    v.commentCount as commentCount,\n",
    "                                    v.duration as duration,\n",
    "                                    v.defaultLanguage as defaultLanguage,\n",
    "                                    c.title as channelTitle,\n",
    "                                    c.description as channelDescription,\n",
    "                                    c.publishedAt as channelPublishedAt,\n",
    "                                    c.viewCount as channelViewCount,\n",
    "                                    c.commentCount as channelCommentCount,\n",
    "                                    c.subscriberCount as channelSubscriberCount,\n",
    "                                    c.videoCount as channelVideoCount,\n",
    "                                    c.country as channelCountry\n",
    "                                    from video v left join channel c on v.channelId = c.id''', con)"
   ]
  },
  {
   "cell_type": "markdown",
   "metadata": {},
   "source": [
    "Next, let's examine the count of videos we collected. The tables are ``video``, ``url``, ``urlResolve``, and ``category``."
   ]
  },
  {
   "cell_type": "code",
   "execution_count": 3,
   "metadata": {},
   "outputs": [
    {
     "name": "stdout",
     "output_type": "stream",
     "text": [
      "(515999, 22)\n"
     ]
    }
   ],
   "source": [
    "print video.shape"
   ]
  },
  {
   "cell_type": "code",
   "execution_count": 4,
   "metadata": {},
   "outputs": [
    {
     "data": {
      "text/plain": [
       "['autoId',\n",
       " 'id',\n",
       " 'categoryId',\n",
       " 'channelId',\n",
       " 'publishedAt',\n",
       " 'title',\n",
       " 'description',\n",
       " 'viewCount',\n",
       " 'likeCount',\n",
       " 'dislikeCount',\n",
       " 'favoriteCount',\n",
       " 'commentCount',\n",
       " 'duration',\n",
       " 'defaultLanguage',\n",
       " 'channelTitle',\n",
       " 'channelDescription',\n",
       " 'channelPublishedAt',\n",
       " 'channelViewCount',\n",
       " 'channelCommentCount',\n",
       " 'channelSubscriberCount',\n",
       " 'channelVideoCount',\n",
       " 'channelCountry']"
      ]
     },
     "execution_count": 4,
     "metadata": {},
     "output_type": "execute_result"
    }
   ],
   "source": [
    "list(video.columns.values)"
   ]
  },
  {
   "cell_type": "code",
   "execution_count": 5,
   "metadata": {},
   "outputs": [
    {
     "name": "stdout",
     "output_type": "stream",
     "text": [
      "(515999, 22)\n"
     ]
    }
   ],
   "source": [
    "print video.shape"
   ]
  },
  {
   "cell_type": "markdown",
   "metadata": {},
   "source": [
    "### Examining the affiliate video descriptions"
   ]
  },
  {
   "cell_type": "markdown",
   "metadata": {},
   "source": [
    "What languages are these descriptions in?"
   ]
  },
  {
   "cell_type": "code",
   "execution_count": 6,
   "metadata": {},
   "outputs": [
    {
     "name": "stdout",
     "output_type": "stream",
     "text": [
      "en         174699\n",
      "Unknown    152337\n",
      "es          26259\n",
      "pt          20001\n",
      "ru          16068\n",
      "de          13311\n",
      "fr          10916\n",
      "ja          10804\n",
      "ko           8359\n",
      "ar           7724\n",
      "it           7602\n",
      "id           6305\n",
      "tr           4588\n",
      "vi           4210\n",
      "ca           4182\n",
      "ro           4163\n",
      "nl           3797\n",
      "pl           3586\n",
      "th           3379\n",
      "tl           2859\n",
      "so           2554\n",
      "sv           2136\n",
      "et           2073\n",
      "af           1917\n",
      "no           1891\n",
      "da           1637\n",
      "hr           1598\n",
      "bg           1561\n",
      "cy           1483\n",
      "fi           1381\n",
      "sw           1342\n",
      "hu           1331\n",
      "cs           1059\n",
      "sl           1048\n",
      "el            898\n",
      "he            831\n",
      "sk            753\n",
      "lt            716\n",
      "zh-cn         695\n",
      "uk            683\n",
      "sq            595\n",
      "zh-tw         555\n",
      "mk            484\n",
      "fa            415\n",
      "lv            286\n",
      "bn            268\n",
      "hi            227\n",
      "ta            101\n",
      "ur             97\n",
      "te             56\n",
      "ml             51\n",
      "ne             46\n",
      "mr             40\n",
      "pa             20\n",
      "kn             14\n",
      "gu              8\n",
      "dtype: int64\n"
     ]
    }
   ],
   "source": [
    "def get_language(x):\n",
    "    language = 'Unknown'\n",
    "    try:\n",
    "        language = detect(x.description.strip())\n",
    "    except:\n",
    "        pass\n",
    "    return language\n",
    "\n",
    "vids = video.apply(get_language, axis=1)\n",
    "print vids.value_counts()"
   ]
  },
  {
   "cell_type": "code",
   "execution_count": 7,
   "metadata": {},
   "outputs": [],
   "source": [
    "videos_en = video[vids == 'en'].copy()"
   ]
  },
  {
   "cell_type": "code",
   "execution_count": 8,
   "metadata": {},
   "outputs": [
    {
     "data": {
      "text/plain": [
       "(174699, 22)"
      ]
     },
     "execution_count": 8,
     "metadata": {},
     "output_type": "execute_result"
    }
   ],
   "source": [
    "videos_en.shape"
   ]
  },
  {
   "cell_type": "code",
   "execution_count": 9,
   "metadata": {},
   "outputs": [
    {
     "name": "stdout",
     "output_type": "stream",
     "text": [
      "0\n"
     ]
    }
   ],
   "source": [
    "#could write to csv\n",
    "with open('videos_en_1.tsv', 'wb') as csvfile:\n",
    "    writer = csv.writer(csvfile, delimiter='\\t', quoting=csv.QUOTE_MINIMAL)\n",
    "    count = 0\n",
    "    for index, row in videos_en.iterrows():\n",
    "        iden = row[\"id\"]\n",
    "        if iden:\n",
    "            iden = iden.encode('utf-8')\n",
    "        desc = row[\"description\"]\n",
    "        if desc:\n",
    "            desc = desc.encode('utf-8')\n",
    "        chanTitle = row[\"channelTitle\"]\n",
    "        if chanTitle:\n",
    "            chanTitle = chanTitle.encode('utf-8')\n",
    "        writer.writerow([iden, desc, chanTitle])\n",
    "#         except:\n",
    "            \n",
    "#             count += 1\n",
    "    print count\n",
    "\n",
    "# videos = []\n",
    "# with open(\"videos_en.tsv\", 'rb') as csvfile:\n",
    "#     reader = csv.reader(csvfile, delimiter='\\t')\n",
    "#     for row in reader:\n",
    "#         videos.append([row[0], row[1], row[2]])\n",
    "        \n",
    "# videos_en = pd.DataFrame(videos, columns=['id', 'description', 'channelTitle'])\n",
    "# videos = 0\n",
    "        "
   ]
  },
  {
   "cell_type": "code",
   "execution_count": 10,
   "metadata": {},
   "outputs": [
    {
     "name": "stdout",
     "output_type": "stream",
     "text": [
      "(1138630, 4)\n",
      "0\n",
      "0\n"
     ]
    }
   ],
   "source": [
    "# Add a sentence number value here\n",
    "rows = []\n",
    "\n",
    "def description_parse(desc):\n",
    "    sentences = []\n",
    "    for line in desc.splitlines():\n",
    "        for sent in sent_tokenize(line):\n",
    "            sentences.append(sent)\n",
    "    \n",
    "    return sentences\n",
    "\n",
    "sentences = []\n",
    "count = 0\n",
    "count1 = 0\n",
    "for index, row in videos_en.iterrows():\n",
    "    if not row.description:\n",
    "        count1 += 1\n",
    "    sentences = description_parse(row.description)\n",
    "    for sent in sentences:\n",
    "        if len(word_tokenize(sent)) != 0:\n",
    "            rows.append([row['id'], row['channelTitle'], row['description'], sent])\n",
    "    #except:\n",
    "        #count+=1\n",
    "\n",
    "videos_en_new = pd.DataFrame(rows, columns=['id', 'channelTitle', 'description', 'sentence'])\n",
    "#del videos_en #clear this from memory\n",
    "print videos_en_new.shape\n",
    "print count1\n",
    "print count"
   ]
  },
  {
   "cell_type": "code",
   "execution_count": 11,
   "metadata": {},
   "outputs": [
    {
     "name": "stdout",
     "output_type": "stream",
     "text": [
      "0\n"
     ]
    }
   ],
   "source": [
    "with open('sentences_en1.tsv', 'wb') as csvfile:\n",
    "    writer = csv.writer(csvfile, delimiter='\\t', quoting=csv.QUOTE_MINIMAL)\n",
    "    count = 0\n",
    "    for index, row in videos_en_new.iterrows():\n",
    "        iden = row[\"id\"]\n",
    "        if iden:\n",
    "            iden = iden.encode('utf-8')\n",
    "        desc = row[\"description\"]\n",
    "        if desc:\n",
    "            desc = desc.encode('utf-8')\n",
    "        chanTitle = row[\"channelTitle\"]\n",
    "        if chanTitle:\n",
    "            chanTitle = chanTitle.encode('utf-8')\n",
    "        sent = row[\"sentence\"]\n",
    "        if sent:\n",
    "            sent = sent.encode('utf-8')\n",
    "        try:\n",
    "            writer.writerow([iden, desc, chanTitle, sent])\n",
    "        except UnicodeDecodeError:\n",
    "            count += 1\n",
    "    print count"
   ]
  },
  {
   "cell_type": "code",
   "execution_count": null,
   "metadata": {},
   "outputs": [],
   "source": []
  }
 ],
 "metadata": {
  "kernelspec": {
   "display_name": "Python 2",
   "language": "python",
   "name": "python2"
  },
  "language_info": {
   "codemirror_mode": {
    "name": "ipython",
    "version": 2
   },
   "file_extension": ".py",
   "mimetype": "text/x-python",
   "name": "python",
   "nbconvert_exporter": "python",
   "pygments_lexer": "ipython2",
   "version": "2.7.15"
  }
 },
 "nbformat": 4,
 "nbformat_minor": 2
}
