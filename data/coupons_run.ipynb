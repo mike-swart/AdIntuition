{
 "cells": [
  {
   "cell_type": "code",
   "execution_count": 1,
   "metadata": {},
   "outputs": [],
   "source": [
    "import pandas as pd\n",
    "import csv\n",
    "import numpy as np\n",
    "import re\n",
    "import string\n",
    "import nltk\n",
    "from nltk.tokenize import sent_tokenize, word_tokenize\n",
    "from sklearn.feature_extraction.text import CountVectorizer, HashingVectorizer, TfidfTransformer\n",
    "from sklearn.metrics.pairwise import euclidean_distances, cosine_distances\n",
    "import sys\n",
    "from nltk.stem.porter import PorterStemmer\n",
    "import math\n",
    "import hdbscan\n",
    "import warnings\n",
    "warnings.filterwarnings('ignore')\n",
    "sys.setrecursionlimit(100000)"
   ]
  },
  {
   "cell_type": "markdown",
   "metadata": {},
   "source": [
    "# Cluster"
   ]
  },
  {
   "cell_type": "code",
   "execution_count": 2,
   "metadata": {},
   "outputs": [],
   "source": [
    "videos = []\n",
    "with open(\"sentences_en.tsv\", 'rt') as csvfile:\n",
    "    reader = csv.reader(csvfile, delimiter='\\t')\n",
    "    for row in reader:\n",
    "        videos.append([row[0], row[1], row[2], row[3]])\n",
    "        \n",
    "videos_en_new = pd.DataFrame(videos, columns=['id', 'description', 'channelTitle', 'sentence'])\n",
    "del videos"
   ]
  },
  {
   "cell_type": "code",
   "execution_count": 3,
   "metadata": {},
   "outputs": [
    {
     "name": "stdout",
     "output_type": "stream",
     "text": [
      "(155345, 4)\n",
      "id                                                    JnJCH-sPG3w\n",
      "description     I OWN NOTHING!!! \\n\\nSong: Paramore \"The Only ...\n",
      "channelTitle                                        Vampire Tears\n",
      "sentence                                          I OWN NOTHING!!\n",
      "Name: 0, dtype: object\n"
     ]
    }
   ],
   "source": [
    "print(videos_en_new.shape)\n",
    "print(videos_en_new.loc[0])"
   ]
  },
  {
   "cell_type": "code",
   "execution_count": 4,
   "metadata": {},
   "outputs": [],
   "source": [
    "videos_en_new = videos_en_new[:100000]"
   ]
  },
  {
   "cell_type": "code",
   "execution_count": 5,
   "metadata": {
    "scrolled": false
   },
   "outputs": [],
   "source": [
    "stemmer = PorterStemmer()\n",
    "\n",
    "def tokenize(line):\n",
    "    if (line is None):\n",
    "        line = ''\n",
    "    printable = set(string.printable)\n",
    "    line = ''.join(filter(lambda x: x in printable, line)) \n",
    "    stopwords = nltk.corpus.stopwords.words('english')\n",
    "\n",
    "    tokenizer = nltk.RegexpTokenizer(r'[a-zA-Z]*\\'[a-zA-Z]*|\\w+')\n",
    "    \n",
    "    tokens = []\n",
    "    \n",
    "    line = re.sub(r'(http[s]?://|www.)(?:[a-zA-Z]|[0-9]|[$-_@.&+]*|[!*\\\\(\\\\),]|(?:%[0-9a-fA-F][0-9a-fA-F]))*', '', line).lower()\n",
    "    tokens.extend(tokenizer.tokenize(line))\n",
    "    \n",
    "    tokens_ = [f.strip(string.punctuation) for f in tokens]\n",
    "    tokens_ = [f for f in tokens_ if f != '' and f not in stopwords and len(f) != 1]\n",
    "    tokens_ = [f for f in tokens_ if not (f.isdigit() or f[0] == '-' and f[1:].isdigit())]\n",
    "    tokens_ = [stemmer.stem(f) for f in tokens_]\n",
    "\n",
    "    return tokens_\n"
   ]
  },
  {
   "cell_type": "code",
   "execution_count": 7,
   "metadata": {},
   "outputs": [],
   "source": [
    "countVec = CountVectorizer(tokenizer=tokenize).fit(videos_en_new['sentence'])\n",
    "#try with binary=True as well"
   ]
  },
  {
   "cell_type": "code",
   "execution_count": 8,
   "metadata": {},
   "outputs": [],
   "source": [
    "lineVec = countVec.transform(videos_en_new['sentence'])"
   ]
  },
  {
   "cell_type": "code",
   "execution_count": 9,
   "metadata": {},
   "outputs": [
    {
     "name": "stdout",
     "output_type": "stream",
     "text": [
      "(100000, 50550)\n"
     ]
    }
   ],
   "source": [
    "print(lineVec.shape)"
   ]
  },
  {
   "cell_type": "code",
   "execution_count": 10,
   "metadata": {
    "scrolled": true
   },
   "outputs": [],
   "source": [
    "clusterer = hdbscan.HDBSCAN(min_cluster_size=5)"
   ]
  },
  {
   "cell_type": "code",
   "execution_count": 11,
   "metadata": {},
   "outputs": [
    {
     "data": {
      "text/plain": [
       "HDBSCAN(algorithm='best', allow_single_cluster=False, alpha=1.0,\n",
       "    approx_min_span_tree=True, cluster_selection_method='eom',\n",
       "    core_dist_n_jobs=4, gen_min_span_tree=False, leaf_size=40,\n",
       "    match_reference_implementation=False, memory=Memory(location=None),\n",
       "    metric='euclidean', min_cluster_size=5, min_samples=None, p=None,\n",
       "    prediction_data=False)"
      ]
     },
     "execution_count": 11,
     "metadata": {},
     "output_type": "execute_result"
    }
   ],
   "source": [
    "clusterer.fit(lineVec)"
   ]
  },
  {
   "cell_type": "code",
   "execution_count": 12,
   "metadata": {},
   "outputs": [],
   "source": [
    "videos_en_new[\"cluster\"] = clusterer.labels_"
   ]
  },
  {
   "cell_type": "code",
   "execution_count": 19,
   "metadata": {},
   "outputs": [
    {
     "name": "stdout",
     "output_type": "stream",
     "text": [
      "0\n"
     ]
    }
   ],
   "source": [
    "with open('sentences_clustered.tsv', 'wt') as csvfile:\n",
    "    writer = csv.writer(csvfile, delimiter='\\t', quoting=csv.QUOTE_MINIMAL)\n",
    "    count = 0\n",
    "    for index, row in videos_en_new.iterrows():\n",
    "        writer.writerow([\n",
    "            row[\"id\"].encode('utf-8'), \n",
    "            row[\"description\"].encode('utf-8'), \n",
    "            row[\"channelTitle\"].encode('utf-8'), \n",
    "            row[\"sentence\"].encode('utf-8'), \n",
    "            row.cluster,\n",
    "        ])\n",
    "    print(count)"
   ]
  },
  {
   "cell_type": "code",
   "execution_count": null,
   "metadata": {},
   "outputs": [],
   "source": []
  }
 ],
 "metadata": {
  "kernelspec": {
   "display_name": "Python 2",
   "language": "python",
   "name": "python2"
  },
  "language_info": {
   "codemirror_mode": {
    "name": "ipython",
    "version": 2
   },
   "file_extension": ".py",
   "mimetype": "text/x-python",
   "name": "python",
   "nbconvert_exporter": "python",
   "pygments_lexer": "ipython2",
   "version": "2.7.15"
  }
 },
 "nbformat": 4,
 "nbformat_minor": 2
}
