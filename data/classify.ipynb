{
 "cells": [
  {
   "cell_type": "code",
   "execution_count": 1,
   "metadata": {},
   "outputs": [],
   "source": [
    "import pandas as pd\n",
    "import csv\n",
    "import numpy as np\n",
    "import re\n",
    "import string as string_library\n",
    "import nltk\n",
    "from nltk.tokenize import sent_tokenize, word_tokenize\n",
    "from sklearn.feature_extraction.text import CountVectorizer\n",
    "from sklearn.ensemble import RandomForestClassifier\n",
    "from sklearn.svm import SVC\n",
    "from sklearn.model_selection import train_test_split, cross_validate\n",
    "from sklearn import metrics\n",
    "from sklearn.model_selection import cross_val_score, cross_val_predict, GridSearchCV\n",
    "import sys\n",
    "from matplotlib import pyplot as plt\n",
    "from sklearn.model_selection import KFold\n",
    "from nltk.stem.porter import PorterStemmer\n",
    "import math\n",
    "import warnings\n",
    "import random\n",
    "warnings.filterwarnings('ignore')\n",
    "sys.setrecursionlimit(100000)"
   ]
  },
  {
   "cell_type": "markdown",
   "metadata": {},
   "source": [
    "# Build the training set and then Classify"
   ]
  },
  {
   "cell_type": "code",
   "execution_count": 2,
   "metadata": {},
   "outputs": [],
   "source": [
    "# read in the sentences that were already clustered\n",
    "videos = []\n",
    "match_ids = {}\n",
    "with open(\"sentence_clusters_fastcluster_nonbinary_all.tsv\", 'rt') as csvfile:\n",
    "    reader = csv.reader(csvfile, delimiter='\\t')\n",
    "    for row in reader:\n",
    "        if row[0] not in match_ids:\n",
    "            match_ids[row[0]] = True\n",
    "        videos.append([row[0], row[1], row[2], row[3], row[4]])\n",
    "        \n",
    "videos_en = pd.DataFrame(videos, columns=['id', 'description', 'channelTitle', 'sentence', 'clusterNum'])\n",
    "del videos"
   ]
  },
  {
   "cell_type": "code",
   "execution_count": 3,
   "metadata": {
    "scrolled": true
   },
   "outputs": [],
   "source": [
    "# add in an isCoupon variable to the dataframe. isCoupon = 1 if the sentence is in our cluster of coupon codes\n",
    "num_coupon_codes = 0\n",
    "match_sentences = {}\n",
    "for i, row in videos_en.iterrows():\n",
    "    if row['clusterNum'] == str(68):\n",
    "        num_coupon_codes += 1\n",
    "        match_sentences[row.sentence] = True\n",
    "        videos_en.at[i, 'isCoupon'] = 1\n",
    "    else:\n",
    "        videos_en.at[i, 'isCoupon'] = 0"
   ]
  },
  {
   "cell_type": "code",
   "execution_count": 4,
   "metadata": {},
   "outputs": [
    {
     "name": "stdout",
     "output_type": "stream",
     "text": [
      "(77706, 6)\n"
     ]
    }
   ],
   "source": [
    "print videos_en.shape"
   ]
  },
  {
   "cell_type": "code",
   "execution_count": 5,
   "metadata": {},
   "outputs": [
    {
     "name": "stdout",
     "output_type": "stream",
     "text": [
      "177\n"
     ]
    }
   ],
   "source": [
    "print num_coupon_codes"
   ]
  },
  {
   "cell_type": "code",
   "execution_count": 6,
   "metadata": {},
   "outputs": [],
   "source": [
    "# There are few coupon codes compared to the size of the dataset\n",
    "# Need to shrink the negative sample size in our training dataset\n",
    "# get a random set of 1000 videos from the set\n",
    "sample_set = videos_en.sample(n=1000)"
   ]
  },
  {
   "cell_type": "code",
   "execution_count": 7,
   "metadata": {},
   "outputs": [
    {
     "data": {
      "text/plain": [
       "(1000, 6)"
      ]
     },
     "execution_count": 7,
     "metadata": {},
     "output_type": "execute_result"
    }
   ],
   "source": [
    "sample_set.shape"
   ]
  },
  {
   "cell_type": "code",
   "execution_count": 8,
   "metadata": {},
   "outputs": [
    {
     "name": "stdout",
     "output_type": "stream",
     "text": [
      "(177, 6)\n"
     ]
    }
   ],
   "source": [
    "# get the sentences that are in the coupon code cluster\n",
    "positives = []\n",
    "for i, row in videos_en.iterrows():\n",
    "    if row['isCoupon'] == 1:\n",
    "        positives.append([row.id, row.description, row.channelTitle, row.sentence, row.clusterNum, row.isCoupon])\n",
    "        \n",
    "positiveDF = pd.DataFrame(positives, columns=['id', 'description', 'channelTitle', 'sentence', 'clusterNum', 'isCoupon'])\n",
    "del positives\n",
    "print(positiveDF.shape)"
   ]
  },
  {
   "cell_type": "code",
   "execution_count": 9,
   "metadata": {},
   "outputs": [
    {
     "data": {
      "text/plain": [
       "(1177, 6)"
      ]
     },
     "execution_count": 9,
     "metadata": {},
     "output_type": "execute_result"
    }
   ],
   "source": [
    "# join the set of random values and the set of positives\n",
    "training_set = sample_set.append(positiveDF, ignore_index=True)\n",
    "training_set.shape"
   ]
  },
  {
   "cell_type": "code",
   "execution_count": 10,
   "metadata": {},
   "outputs": [],
   "source": [
    "#shuffle the training set\n",
    "training_set = training_set.sample(frac=1).reset_index(drop=True)"
   ]
  },
  {
   "cell_type": "code",
   "execution_count": 11,
   "metadata": {},
   "outputs": [],
   "source": [
    "y = training_set.isCoupon"
   ]
  },
  {
   "cell_type": "code",
   "execution_count": 12,
   "metadata": {
    "scrolled": false
   },
   "outputs": [],
   "source": [
    "#stemmer = PorterStemmer()\n",
    "\n",
    "def tokenize(line):\n",
    "    if (line is None):\n",
    "        line = ''\n",
    "    printable = set(string_library.printable)\n",
    "    line = ''.join(filter(lambda x: x in printable, line)) \n",
    "    stopwords = nltk.corpus.stopwords.words('english')\n",
    "\n",
    "    tokenizer = nltk.RegexpTokenizer(r'[a-zA-Z]*\\'[a-zA-Z]*|\\w+')\n",
    "    \n",
    "    tokens = []\n",
    "    \n",
    "    line = re.sub(r'(http[s]?://|www.)(?:[a-zA-Z]|[0-9]|[$-_@.&+]*|[!*\\\\(\\\\),]|(?:%[0-9a-fA-F][0-9a-fA-F]))*', '', line).lower()\n",
    "    tokens.extend(tokenizer.tokenize(line))\n",
    "    \n",
    "    tokens_ = [f.strip(string_library.punctuation) for f in tokens]\n",
    "    for i in range(len(tokens_)):\n",
    "        if tokens_[i][0:2] == \"b'\":\n",
    "            tokens_[i] = tokens[i][2:]\n",
    "    tokens_ = [f for f in tokens_ if f != '' and f not in stopwords and len(f) != 1]\n",
    "    tokens_ = [f for f in tokens_ if not (f.isdigit() or f[0] == '-' and f[1:].isdigit())]\n",
    "    #tokens_ = [stemmer.stem(f) for f in tokens_]\n",
    "\n",
    "    return tokens_\n"
   ]
  },
  {
   "cell_type": "code",
   "execution_count": 13,
   "metadata": {},
   "outputs": [],
   "source": [
    "# all of the possible parameters to check for\n",
    "params = {'C': [0.01, 0.1, 0.5, 0.8, 0.9, 1, 1.2, 1.5, 2, 5, 10], 'kernel': ['linear', 'rbf', 'poly'], 'degree': [2, 3, 5, 10, 20, 50]}\n",
    "clf = GridSearchCV(SVC(probability=True), params, cv=5)"
   ]
  },
  {
   "cell_type": "code",
   "execution_count": 14,
   "metadata": {},
   "outputs": [
    {
     "name": "stdout",
     "output_type": "stream",
     "text": [
      "Round 1\n",
      "Best Params:  {'kernel': 'linear', 'C': 0.5, 'degree': 2}\n",
      "Best Score:  0.9987244897959183\n",
      "{'score_time': array([0.00050688, 0.00054002, 0.00056195, 0.00055099, 0.00050497]), 'test_score': array([1., 1., 1., 1., 1.]), 'train_score': array([1., 1., 1., 1., 1.]), 'fit_time': array([5.70196605, 5.7077949 , 5.81953216, 5.72484398, 5.70858097])}\n",
      "r2 score:  0.9234356781966576\n",
      "F1 Score:  0.9666666666666666\n",
      "Confusion matrix: \n",
      "[[166   0]\n",
      " [  2  29]]\n"
     ]
    },
    {
     "data": {
      "image/png": "[encoded data removed]",
      "text/plain": [
       "<Figure size 432x288 with 1 Axes>"
      ]
     },
     "metadata": {
      "needs_background": "light"
     },
     "output_type": "display_data"
    },
    {
     "name": "stdout",
     "output_type": "stream",
     "text": [
      "_______________________________________________________________\n",
      "Round 2\n",
      "Best Params:  {'kernel': 'linear', 'C': 1.2, 'degree': 2}\n",
      "Best Score:  1.0\n",
      "{'score_time': array([0.00052714, 0.0005331 , 0.00055289, 0.00060916, 0.00053191]), 'test_score': array([0.975     , 1.        , 1.        , 1.        , 0.97435897]), 'train_score': array([1.        , 1.        , 1.        , 0.99363057, 0.99363057]), 'fit_time': array([6.16305995, 6.24224401, 6.10856295, 6.10822988, 6.05387402])}\n",
      "r2 score:  1.0\n",
      "F1 Score:  1.0\n",
      "Confusion matrix: \n",
      "[[168   0]\n",
      " [  0  28]]\n"
     ]
    },
    {
     "data": {
      "image/png": "[encoded data removed]",
      "text/plain": [
       "<Figure size 432x288 with 1 Axes>"
      ]
     },
     "metadata": {
      "needs_background": "light"
     },
     "output_type": "display_data"
    },
    {
     "name": "stdout",
     "output_type": "stream",
     "text": [
      "_______________________________________________________________\n",
      "Round 3\n",
      "Best Params:  {'kernel': 'linear', 'C': 0.8, 'degree': 2}\n",
      "Best Score:  0.9974522292993631\n",
      "{'score_time': array([0.00056601, 0.00051403, 0.00055313, 0.00049996, 0.00051308]), 'test_score': array([0.975     , 1.        , 1.        , 1.        , 0.94871795]), 'train_score': array([1.        , 1.        , 1.        , 1.        , 0.98726115]), 'fit_time': array([6.23473907, 6.01663399, 5.85889387, 6.20603609, 5.69436312])}\n",
      "r2 score:  1.0\n",
      "F1 Score:  1.0\n",
      "Confusion matrix: \n",
      "[[172   0]\n",
      " [  0  24]]\n"
     ]
    },
    {
     "data": {
      "image/png": "[encoded data removed]",
      "text/plain": [
       "<Figure size 432x288 with 1 Axes>"
      ]
     },
     "metadata": {
      "needs_background": "light"
     },
     "output_type": "display_data"
    },
    {
     "name": "stdout",
     "output_type": "stream",
     "text": [
      "_______________________________________________________________\n"
     ]
    }
   ],
   "source": [
    "# run kfold 3 times\n",
    "kf = KFold(n_splits=3, shuffle=True)\n",
    "kf.get_n_splits(training_set)\n",
    "round_num = 0\n",
    "for train_index, test_index in kf.split(training_set):\n",
    "    round_num += 1\n",
    "    print 'Round', round_num\n",
    "    #get the training, validating, and testing sets for the sentences\n",
    "    X_train, X_temp = training_set.loc[train_index], training_set.loc[test_index]\n",
    "    split_X = np.split(X_temp, [X_temp.shape[0]/2])\n",
    "    X_validate = split_X[0]\n",
    "    X_test = split_X[1]\n",
    "    #get the training, validating, and testing sets for the isCoupon types\n",
    "    y_train, y_temp = y.loc[train_index], y.loc[test_index]\n",
    "    split_y = np.split(y_temp, [y_temp.shape[0]/2])\n",
    "    y_validate = split_y[0]\n",
    "    y_test = split_y[1]\n",
    "    \n",
    "    #Get the word vector from the training set\n",
    "    countVec = CountVectorizer(tokenizer=tokenize, min_df=3).fit(X_train['sentence'])\n",
    "    #create the word frequency from the word vector for the training, validating, and testing sets\n",
    "    lineVec = countVec.transform(X_train['sentence'])\n",
    "    validateVec = countVec.transform(X_validate['sentence'])\n",
    "    testVec = countVec.transform(X_test['sentence'])\n",
    "    \n",
    "    #fit the classifier\n",
    "    clf.fit(lineVec, X_train['isCoupon'])\n",
    "    print \"Best Params: \", clf.best_params_\n",
    "    print \"Best Score: \", clf.best_score_\n",
    "    \n",
    "    #cross validate\n",
    "    cv_results = cross_validate(clf, validateVec, y_validate, cv=5, return_train_score=True)\n",
    "    print cv_results\n",
    "    \n",
    "    #test on the test set\n",
    "    predictions = clf.predict(testVec)\n",
    "    print 'r2 score: ', metrics.r2_score(y_test, predictions)\n",
    "    print 'F1 Score: ', metrics.f1_score(y_test, predictions)\n",
    "    print 'Confusion matrix: '\n",
    "    print metrics.confusion_matrix(y_test, predictions)\n",
    "    predicted_probabilites = clf.predict_proba(testVec)[:,1]\n",
    "    fpr, tpr, thresholds = metrics.roc_curve(y_test, predicted_probabilites) \n",
    "    plt.plot([0, 1], [0, 1], 'k--')\n",
    "    plt.plot(fpr, tpr, label='Logistic Regression')\n",
    "    plt.xlabel('False Positive Rate')\n",
    "    plt.ylabel('True Positive Rate')\n",
    "    plt.show()\n",
    "    print '_______________________________________________________________'"
   ]
  },
  {
   "cell_type": "markdown",
   "metadata": {},
   "source": [
    "# Check How the weights will work in the Browser Extension"
   ]
  },
  {
   "cell_type": "code",
   "execution_count": 15,
   "metadata": {},
   "outputs": [
    {
     "name": "stdout",
     "output_type": "stream",
     "text": [
      "(588, 6)\n",
      "(294, 6)\n",
      "(295, 6)\n"
     ]
    }
   ],
   "source": [
    "# build the classifier with the best values found above\n",
    "classifier = SVC(kernel='linear', C=1, degree=2)\n",
    "X_temp = np.split(training_set, [training_set.shape[0]/2])\n",
    "X_train = X_temp[0]\n",
    "split_X = np.split(X_temp[1], [X_temp[1].shape[0]/2])\n",
    "X_validate = split_X[0]\n",
    "X_test = split_X[1]\n",
    "print X_train.shape\n",
    "print X_validate.shape\n",
    "print X_test.shape"
   ]
  },
  {
   "cell_type": "code",
   "execution_count": 16,
   "metadata": {},
   "outputs": [],
   "source": [
    "#Get the word vectors\n",
    "countVec = CountVectorizer(tokenizer=tokenize, min_df=3).fit(X_train['sentence'])"
   ]
  },
  {
   "cell_type": "code",
   "execution_count": 17,
   "metadata": {},
   "outputs": [],
   "source": [
    "#transform sentences into vectors\n",
    "lineVec = countVec.transform(X_train['sentence'])\n",
    "validateVec = countVec.transform(X_validate['sentence'])\n",
    "testVec = countVec.transform(X_test['sentence'])"
   ]
  },
  {
   "cell_type": "code",
   "execution_count": 18,
   "metadata": {},
   "outputs": [
    {
     "name": "stdout",
     "output_type": "stream",
     "text": [
      "(588, 175)\n",
      "(294, 175)\n",
      "(295, 175)\n"
     ]
    }
   ],
   "source": [
    "print lineVec.shape\n",
    "print validateVec.shape\n",
    "print testVec.shape"
   ]
  },
  {
   "cell_type": "code",
   "execution_count": 19,
   "metadata": {
    "scrolled": true
   },
   "outputs": [
    {
     "data": {
      "text/plain": [
       "SVC(C=1, cache_size=200, class_weight=None, coef0=0.0,\n",
       "  decision_function_shape='ovr', degree=2, gamma='auto_deprecated',\n",
       "  kernel='linear', max_iter=-1, probability=False, random_state=None,\n",
       "  shrinking=True, tol=0.001, verbose=False)"
      ]
     },
     "execution_count": 19,
     "metadata": {},
     "output_type": "execute_result"
    }
   ],
   "source": [
    "#fit the classifier\n",
    "classifier.fit(lineVec, X_train['isCoupon'])"
   ]
  },
  {
   "cell_type": "code",
   "execution_count": 20,
   "metadata": {},
   "outputs": [
    {
     "name": "stdout",
     "output_type": "stream",
     "text": [
      "r2 score:  1.0\n",
      "F1 Score:  1.0\n"
     ]
    }
   ],
   "source": [
    "predictions = classifier.predict(testVec)\n",
    "print 'r2 score: ', metrics.r2_score(X_test['isCoupon'], predictions)\n",
    "print 'F1 Score: ', metrics.f1_score(X_test['isCoupon'], predictions)"
   ]
  },
  {
   "cell_type": "code",
   "execution_count": 21,
   "metadata": {},
   "outputs": [
    {
     "data": {
      "text/plain": [
       "{'fit_time': array([7.2837441 , 7.17559791, 7.3439939 , 7.27620792, 7.08459592]),\n",
       " 'score_time': array([0.00065994, 0.0006659 , 0.00052714, 0.00051713, 0.00061512]),\n",
       " 'test_score': array([1.        , 0.96610169, 1.        , 0.98305085, 1.        ]),\n",
       " 'train_score': array([0.99574468, 0.99574468, 0.99574468, 1.        , 1.        ])}"
      ]
     },
     "execution_count": 21,
     "metadata": {},
     "output_type": "execute_result"
    }
   ],
   "source": [
    "cross_validate(clf, validateVec, X_validate['isCoupon'], cv=5, return_train_score=True)"
   ]
  },
  {
   "cell_type": "code",
   "execution_count": 22,
   "metadata": {},
   "outputs": [],
   "source": [
    "predictions = classifier.predict(testVec)"
   ]
  },
  {
   "cell_type": "code",
   "execution_count": 23,
   "metadata": {},
   "outputs": [
    {
     "name": "stdout",
     "output_type": "stream",
     "text": [
      "r2 score:  1.0\n",
      "F1 Score:  1.0\n"
     ]
    }
   ],
   "source": [
    "print 'r2 score: ', metrics.r2_score(X_test['isCoupon'], predictions)\n",
    "print 'F1 Score: ', metrics.f1_score(X_test['isCoupon'], predictions)"
   ]
  },
  {
   "cell_type": "code",
   "execution_count": 24,
   "metadata": {
    "scrolled": true
   },
   "outputs": [
    {
     "name": "stdout",
     "output_type": "stream",
     "text": [
      "1.86593 \tcheckout\n",
      "1.99971 \tcode\n",
      "1.00000 \tcodes\n",
      "0.50000 \tdiscount\n",
      "0.13399 \tinformation\n",
      "0.00000 \tmusic\n",
      "0.03359 \tsave\n",
      "0.13351 \tstream\n",
      "0.13392 \tsuperior\n",
      "0.01618 \tuse\n"
     ]
    }
   ],
   "source": [
    "features = countVec.get_feature_names()\n",
    "weights = classifier.coef_.toarray()[0]\n",
    "for i in range(len(weights)):\n",
    "    if weights[i] > 0:\n",
    "        print \"%1.5f\" % weights[i], \"\\t\", features[i]"
   ]
  },
  {
   "cell_type": "code",
   "execution_count": 25,
   "metadata": {},
   "outputs": [],
   "source": [
    "features = countVec.get_feature_names()\n",
    "\n",
    "def get_vector(sentence):\n",
    "    vector = [0] * len(features)\n",
    "    tokens = tokenize(sentence)\n",
    "    for token in tokens:\n",
    "        if token in features:\n",
    "            vector[features.index(token)] += 1\n",
    "    return vector"
   ]
  },
  {
   "cell_type": "code",
   "execution_count": 26,
   "metadata": {},
   "outputs": [],
   "source": [
    "false_positives = 0\n",
    "false_negatives = 0\n",
    "for i, row in videos_en.iterrows():\n",
    "    tot = 0\n",
    "    vector = get_vector(row['sentence'])\n",
    "    for j in range(len(weights)):\n",
    "        tot += weights[j] * vector[j]\n",
    "    if tot > 0.5:\n",
    "        if row['isCoupon'] == 0:\n",
    "            #print \"False +: \", row['sentence']\n",
    "            false_positives += 1\n",
    "    else:\n",
    "        if row['isCoupon'] == 1:\n",
    "            false_negatives += 1\n",
    "            #print \"False -: \", row['sentence']"
   ]
  },
  {
   "cell_type": "code",
   "execution_count": 27,
   "metadata": {},
   "outputs": [
    {
     "name": "stdout",
     "output_type": "stream",
     "text": [
      "Total Inputs:  77706\n",
      "False Positives:  123\n",
      "False Positive Percentage: 0.16 %\n",
      "False Negatives:  0\n",
      "False Negative Percentage: 0.00 %\n"
     ]
    }
   ],
   "source": [
    "total_vids = videos_en.shape[0]\n",
    "print \"Total Inputs: \", total_vids\n",
    "print \"False Positives: \", false_positives # some of these are coupon codes\n",
    "print \"False Positive Percentage: %1.2f\" % (false_positives/(total_vids*1.0) * 100), \"%\"\n",
    "print \"False Negatives: \", false_negatives # could be a result of imperfections in the cluster\n",
    "print \"False Negative Percentage: %1.2f\" % (false_negatives/(total_vids*1.0) * 100), \"%\""
   ]
  },
  {
   "cell_type": "markdown",
   "metadata": {},
   "source": [
    "# Export features and Weights"
   ]
  },
  {
   "cell_type": "code",
   "execution_count": 28,
   "metadata": {
    "scrolled": true
   },
   "outputs": [
    {
     "name": "stdout",
     "output_type": "stream",
     "text": [
      "175 175\n",
      "const CouponWeights = [-0.000091225325396, -0.000154690952283, -0.044722324741698, -0.004190488434367, -0.000091225325396, -0.044722324741698, 1.865925657523899, 1.999712635243791, 1.000000000000000, -0.004190488434367, -0.100454270569854, 0.500000000000000, -0.000183391354017, -0.000091225325396, -0.000041538248269, -0.000082986726799, -0.015997331310574, -0.067165231081675, -0.000082986726799, -0.000091225325396, 0.133993499419597, -0.033289039488179, -0.133534800800062, -0.016534227402228, -0.004190488434367, 0.000000000000000, -0.118632763901686, -0.000091225325396, -0.067165231081675, -0.004190488434367, -0.044722324741698, 0.033589479820219, -0.000082986726799, -0.500000000000000, -0.000082986726799, 0.133507084780844, 0.133915682228483, -0.032865467396576, -0.000091225325396, 0.016179781961365, -0.033575751261456, -0.000418021836881, -0.000183391354017];\n",
      "const CouponFeatures = [\"additional\",\"also\",\"auto\",\"best\",\"call\",\"car\",\"checkout\",\"code\",\"codes\",\"county\",\"design\",\"discount\",\"download\",\"email\",\"free\",\"get\",\"go\",\"good\",\"help\",\"info\",\"information\",\"like\",\"live\",\"make\",\"making\",\"music\",\"name\",\"please\",\"project\",\"quality\",\"sales\",\"save\",\"series\",\"services\",\"sponsors\",\"stream\",\"superior\",\"tips\",\"us\",\"use\",\"using\",\"world\",\"year\"];\n",
      "43 43\n"
     ]
    }
   ],
   "source": [
    "features = countVec.get_feature_names()\n",
    "non_zero_features = []\n",
    "print len(features), len(weights)\n",
    "num_zeroes = 0\n",
    "weights_string = \"const CouponWeights = [\"\n",
    "for i in range(len(weights)):\n",
    "    item = weights[i]\n",
    "    if item == 0:\n",
    "        num_zeroes += 1\n",
    "    else:\n",
    "        non_zero_features.append(features[i])\n",
    "        weights_string += '%1.15f' % item + \", \"\n",
    "weights_string = weights_string[0:-2] + \"];\"\n",
    "\n",
    "features_string = \"const CouponFeatures = [\"\n",
    "for item in non_zero_features:\n",
    "    temp = item\n",
    "    features_string += '\"' + temp + '\",'\n",
    "features_string = features_string[0:-1] + \"];\"\n",
    "\n",
    "print weights_string\n",
    "print features_string\n",
    "print len(non_zero_features), len(weights)-num_zeroes"
   ]
  },
  {
   "cell_type": "code",
   "execution_count": 29,
   "metadata": {},
   "outputs": [
    {
     "name": "stdout",
     "output_type": "stream",
     "text": [
      "[ \"i\" , \"me\" , \"my\" , \"myself\" , \"we\" , \"our\" , \"ours\" , \"ourselves\" , \"you\" , \"you're\" , \"you've\" , \"you'll\" , \"you'd\" , \"your\" , \"yours\" , \"yourself\" , \"yourselves\" , \"he\" , \"him\" , \"his\" , \"himself\" , \"she\" , \"she's\" , \"her\" , \"hers\" , \"herself\" , \"it\" , \"it's\" , \"its\" , \"itself\" , \"they\" , \"them\" , \"their\" , \"theirs\" , \"themselves\" , \"what\" , \"which\" , \"who\" , \"whom\" , \"this\" , \"that\" , \"that'll\" , \"these\" , \"those\" , \"am\" , \"is\" , \"are\" , \"was\" , \"were\" , \"be\" , \"been\" , \"being\" , \"have\" , \"has\" , \"had\" , \"having\" , \"do\" , \"does\" , \"did\" , \"doing\" , \"a\" , \"an\" , \"the\" , \"and\" , \"but\" , \"if\" , \"or\" , \"because\" , \"as\" , \"until\" , \"while\" , \"of\" , \"at\" , \"by\" , \"for\" , \"with\" , \"about\" , \"against\" , \"between\" , \"into\" , \"through\" , \"during\" , \"before\" , \"after\" , \"above\" , \"below\" , \"to\" , \"from\" , \"up\" , \"down\" , \"in\" , \"out\" , \"on\" , \"off\" , \"over\" , \"under\" , \"again\" , \"further\" , \"then\" , \"once\" , \"here\" , \"there\" , \"when\" , \"where\" , \"why\" , \"how\" , \"all\" , \"any\" , \"both\" , \"each\" , \"few\" , \"more\" , \"most\" , \"other\" , \"some\" , \"such\" , \"no\" , \"nor\" , \"not\" , \"only\" , \"own\" , \"same\" , \"so\" , \"than\" , \"too\" , \"very\" , \"s\" , \"t\" , \"can\" , \"will\" , \"just\" , \"don\" , \"don't\" , \"should\" , \"should've\" , \"now\" , \"d\" , \"ll\" , \"m\" , \"o\" , \"re\" , \"ve\" , \"y\" , \"ain\" , \"aren\" , \"aren't\" , \"couldn\" , \"couldn't\" , \"didn\" , \"didn't\" , \"doesn\" , \"doesn't\" , \"hadn\" , \"hadn't\" , \"hasn\" , \"hasn't\" , \"haven\" , \"haven't\" , \"isn\" , \"isn't\" , \"ma\" , \"mightn\" , \"mightn't\" , \"mustn\" , \"mustn't\" , \"needn\" , \"needn't\" , \"shan\" , \"shan't\" , \"shouldn\" , \"shouldn't\" , \"wasn\" , \"wasn't\" , \"weren\" , \"weren't\" , \"won\" , \"won't\" , \"wouldn\" , \"wouldn't\" ,\n"
     ]
    }
   ],
   "source": [
    "print \"[\",\n",
    "for word in nltk.corpus.stopwords.words('english'):\n",
    "    print \"\\\"\" + word+ \"\\\"\", \",\","
   ]
  },
  {
   "cell_type": "code",
   "execution_count": null,
   "metadata": {},
   "outputs": [],
   "source": []
  },
  {
   "cell_type": "code",
   "execution_count": null,
   "metadata": {},
   "outputs": [],
   "source": []
  },
  {
   "cell_type": "code",
   "execution_count": 30,
   "metadata": {},
   "outputs": [],
   "source": [
    "# kf = KFold(n_splits=3, shuffle=True)\n",
    "# kf.get_n_splits(videos_en_new)\n",
    "# round_num = 0\n",
    "# for train_index, test_index in kf.split(videos_en_new):\n",
    "#     round_num += 1\n",
    "#     print 'Round', round_num\n",
    "#     X_train, X_test = videos_en_new.loc[train_index], videos_en_new.loc[test_index]\n",
    "#     y = videos_en_new.isCoupon\n",
    "#     y_train, y_test = y.loc[train_index], y.loc[test_index]\n",
    "#     lineVec = countVec.transform(X_train['sentence'])\n",
    "#     testVec = countVec.transform(X_test['sentence'])\n",
    "#     clf.fit(lineVec, X_train['isCoupon'])\n",
    "#     predictions = clf.predict(testVec)\n",
    "#     print \"Best Params: \", clf.best_params_\n",
    "#     print \"Best Score: \", clf.best_score_\n",
    "#     #print 'AUC Cross-validated scores:', cross_val_score(clf, lineVec, y_train, cv=5, scoring='roc_auc')\n",
    "#     print 'r2 score: ', metrics.r2_score(y_test, predictions)\n",
    "#     print 'F1 Score: ', metrics.f1_score(y_test, predictions)\n",
    "#     print 'Confusion matrix: '\n",
    "#     print metrics.confusion_matrix(y_test, predictions)\n",
    "#     predicted_probabilites = clf.predict_proba(testVec)[:,1]\n",
    "#     fpr, tpr, thresholds = metrics.roc_curve(y_test, predicted_probabilites) \n",
    "#     plt.plot([0, 1], [0, 1], 'k--')\n",
    "#     plt.plot(fpr, tpr, label='Logistic Regression')\n",
    "#     plt.xlabel('False Positive Rate')\n",
    "#     plt.ylabel('True Positive Rate')\n",
    "#     plt.show()\n",
    "#     print '_______________________________________________________________'"
   ]
  },
  {
   "cell_type": "code",
   "execution_count": null,
   "metadata": {},
   "outputs": [],
   "source": []
  }
 ],
 "metadata": {
  "kernelspec": {
   "display_name": "Python 2",
   "language": "python",
   "name": "python2"
  },
  "language_info": {
   "codemirror_mode": {
    "name": "ipython",
    "version": 2
   },
   "file_extension": ".py",
   "mimetype": "text/x-python",
   "name": "python",
   "nbconvert_exporter": "python",
   "pygments_lexer": "ipython2",
   "version": "2.7.15"
  }
 },
 "nbformat": 4,
 "nbformat_minor": 2
}
