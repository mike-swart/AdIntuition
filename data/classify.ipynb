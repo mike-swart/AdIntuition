{
 "cells": [
  {
   "cell_type": "code",
   "execution_count": 1,
   "metadata": {},
   "outputs": [],
   "source": [
    "import pandas as pd\n",
    "import csv\n",
    "import numpy as np\n",
    "import re\n",
    "import string as string_library\n",
    "import nltk\n",
    "from nltk.tokenize import sent_tokenize, word_tokenize\n",
    "from sklearn.feature_extraction.text import CountVectorizer\n",
    "from sklearn.ensemble import RandomForestClassifier\n",
    "from sklearn.svm import SVC\n",
    "from sklearn.model_selection import train_test_split\n",
    "from sklearn import metrics\n",
    "from sklearn.model_selection import cross_val_score, cross_val_predict, GridSearchCV\n",
    "import sys\n",
    "from matplotlib import pyplot as plt\n",
    "from sklearn.model_selection import KFold\n",
    "from nltk.stem.porter import PorterStemmer\n",
    "import math\n",
    "import warnings\n",
    "import random\n",
    "warnings.filterwarnings('ignore')\n",
    "sys.setrecursionlimit(100000)"
   ]
  },
  {
   "cell_type": "markdown",
   "metadata": {},
   "source": [
    "# Build the training set and then Classify"
   ]
  },
  {
   "cell_type": "code",
   "execution_count": 2,
   "metadata": {},
   "outputs": [],
   "source": [
    "videos = []\n",
    "with open(\"sentence_clusters_fastcluster_nonbinary_all.tsv\", 'rt') as csvfile:\n",
    "    reader = csv.reader(csvfile, delimiter='\\t')\n",
    "    for row in reader:\n",
    "        videos.append([row[0], row[1], row[2], row[3], row[4]])\n",
    "        \n",
    "videos_en_new = pd.DataFrame(videos, columns=['id', 'description', 'channelTitle', 'sentence', 'clusterNum'])\n",
    "del videos"
   ]
  },
  {
   "cell_type": "code",
   "execution_count": 3,
   "metadata": {
    "scrolled": true
   },
   "outputs": [],
   "source": [
    "num_coupon_codes = 0\n",
    "for i, row in videos_en_new.iterrows():\n",
    "    if row['clusterNum'] == str(68):\n",
    "        num_coupon_codes += 1\n",
    "        videos_en_new.at[i, 'isCoupon'] = 1\n",
    "    else:\n",
    "        videos_en_new.at[i, 'isCoupon'] = 0"
   ]
  },
  {
   "cell_type": "code",
   "execution_count": 4,
   "metadata": {},
   "outputs": [
    {
     "name": "stdout",
     "output_type": "stream",
     "text": [
      "(77706, 6)\n"
     ]
    }
   ],
   "source": [
    "print videos_en_new.shape"
   ]
  },
  {
   "cell_type": "code",
   "execution_count": 5,
   "metadata": {},
   "outputs": [
    {
     "name": "stdout",
     "output_type": "stream",
     "text": [
      "177\n"
     ]
    }
   ],
   "source": [
    "print num_coupon_codes"
   ]
  },
  {
   "cell_type": "code",
   "execution_count": 6,
   "metadata": {},
   "outputs": [],
   "source": [
    "# There are few coupon codes compared to the size of the dataset\n",
    "# Need to shrink the negative sample size in our training dataset\n",
    "sample_set = videos_en_new.sample(n=1000)"
   ]
  },
  {
   "cell_type": "code",
   "execution_count": 7,
   "metadata": {},
   "outputs": [
    {
     "data": {
      "text/plain": [
       "(1000, 6)"
      ]
     },
     "execution_count": 7,
     "metadata": {},
     "output_type": "execute_result"
    }
   ],
   "source": [
    "sample_set.shape"
   ]
  },
  {
   "cell_type": "code",
   "execution_count": 8,
   "metadata": {},
   "outputs": [
    {
     "name": "stdout",
     "output_type": "stream",
     "text": [
      "(177, 6)\n"
     ]
    }
   ],
   "source": [
    "positives = []\n",
    "for i, row in videos_en_new.iterrows():\n",
    "    if row['isCoupon'] == 1:\n",
    "        positives.append([row.id, row.description, row.channelTitle, row.sentence, row.clusterNum, row.isCoupon])\n",
    "        \n",
    "positiveDF = pd.DataFrame(positives, columns=['id', 'description', 'channelTitle', 'sentence', 'clusterNum', 'isCoupon'])\n",
    "del positives\n",
    "print(positiveDF.shape)"
   ]
  },
  {
   "cell_type": "code",
   "execution_count": 9,
   "metadata": {},
   "outputs": [
    {
     "data": {
      "text/plain": [
       "(1177, 6)"
      ]
     },
     "execution_count": 9,
     "metadata": {},
     "output_type": "execute_result"
    }
   ],
   "source": [
    "training_set = sample_set.append(positiveDF, ignore_index=True)\n",
    "training_set.shape"
   ]
  },
  {
   "cell_type": "code",
   "execution_count": 10,
   "metadata": {},
   "outputs": [],
   "source": [
    "y = training_set.isCoupon"
   ]
  },
  {
   "cell_type": "code",
   "execution_count": 11,
   "metadata": {
    "scrolled": false
   },
   "outputs": [],
   "source": [
    "#stemmer = PorterStemmer()\n",
    "\n",
    "def tokenize(line):\n",
    "    if (line is None):\n",
    "        line = ''\n",
    "    printable = set(string_library.printable)\n",
    "    line = ''.join(filter(lambda x: x in printable, line)) \n",
    "    stopwords = nltk.corpus.stopwords.words('english')\n",
    "\n",
    "    tokenizer = nltk.RegexpTokenizer(r'[a-zA-Z]*\\'[a-zA-Z]*|\\w+')\n",
    "    \n",
    "    tokens = []\n",
    "    \n",
    "    line = re.sub(r'(http[s]?://|www.)(?:[a-zA-Z]|[0-9]|[$-_@.&+]*|[!*\\\\(\\\\),]|(?:%[0-9a-fA-F][0-9a-fA-F]))*', '', line).lower()\n",
    "    tokens.extend(tokenizer.tokenize(line))\n",
    "    \n",
    "    tokens_ = [f.strip(string_library.punctuation) for f in tokens]\n",
    "    for i in range(len(tokens_)):\n",
    "        if tokens_[i][0:2] == \"b'\":\n",
    "            tokens_[i] = tokens[i][2:]\n",
    "    tokens_ = [f for f in tokens_ if f != '' and f not in stopwords and len(f) != 1]\n",
    "    tokens_ = [f for f in tokens_ if not (f.isdigit() or f[0] == '-' and f[1:].isdigit())]\n",
    "    #tokens_ = [stemmer.stem(f) for f in tokens_]\n",
    "\n",
    "    return tokens_\n"
   ]
  },
  {
   "cell_type": "code",
   "execution_count": 12,
   "metadata": {},
   "outputs": [
    {
     "name": "stdout",
     "output_type": "stream",
     "text": [
      "[ \"i\" , \"me\" , \"my\" , \"myself\" , \"we\" , \"our\" , \"ours\" , \"ourselves\" , \"you\" , \"you're\" , \"you've\" , \"you'll\" , \"you'd\" , \"your\" , \"yours\" , \"yourself\" , \"yourselves\" , \"he\" , \"him\" , \"his\" , \"himself\" , \"she\" , \"she's\" , \"her\" , \"hers\" , \"herself\" , \"it\" , \"it's\" , \"its\" , \"itself\" , \"they\" , \"them\" , \"their\" , \"theirs\" , \"themselves\" , \"what\" , \"which\" , \"who\" , \"whom\" , \"this\" , \"that\" , \"that'll\" , \"these\" , \"those\" , \"am\" , \"is\" , \"are\" , \"was\" , \"were\" , \"be\" , \"been\" , \"being\" , \"have\" , \"has\" , \"had\" , \"having\" , \"do\" , \"does\" , \"did\" , \"doing\" , \"a\" , \"an\" , \"the\" , \"and\" , \"but\" , \"if\" , \"or\" , \"because\" , \"as\" , \"until\" , \"while\" , \"of\" , \"at\" , \"by\" , \"for\" , \"with\" , \"about\" , \"against\" , \"between\" , \"into\" , \"through\" , \"during\" , \"before\" , \"after\" , \"above\" , \"below\" , \"to\" , \"from\" , \"up\" , \"down\" , \"in\" , \"out\" , \"on\" , \"off\" , \"over\" , \"under\" , \"again\" , \"further\" , \"then\" , \"once\" , \"here\" , \"there\" , \"when\" , \"where\" , \"why\" , \"how\" , \"all\" , \"any\" , \"both\" , \"each\" , \"few\" , \"more\" , \"most\" , \"other\" , \"some\" , \"such\" , \"no\" , \"nor\" , \"not\" , \"only\" , \"own\" , \"same\" , \"so\" , \"than\" , \"too\" , \"very\" , \"s\" , \"t\" , \"can\" , \"will\" , \"just\" , \"don\" , \"don't\" , \"should\" , \"should've\" , \"now\" , \"d\" , \"ll\" , \"m\" , \"o\" , \"re\" , \"ve\" , \"y\" , \"ain\" , \"aren\" , \"aren't\" , \"couldn\" , \"couldn't\" , \"didn\" , \"didn't\" , \"doesn\" , \"doesn't\" , \"hadn\" , \"hadn't\" , \"hasn\" , \"hasn't\" , \"haven\" , \"haven't\" , \"isn\" , \"isn't\" , \"ma\" , \"mightn\" , \"mightn't\" , \"mustn\" , \"mustn't\" , \"needn\" , \"needn't\" , \"shan\" , \"shan't\" , \"shouldn\" , \"shouldn't\" , \"wasn\" , \"wasn't\" , \"weren\" , \"weren't\" , \"won\" , \"won't\" , \"wouldn\" , \"wouldn't\" ,\n"
     ]
    }
   ],
   "source": [
    "print \"[\",\n",
    "for word in nltk.corpus.stopwords.words('english'):\n",
    "    print \"\\\"\" + word+ \"\\\"\", \",\","
   ]
  },
  {
   "cell_type": "code",
   "execution_count": 13,
   "metadata": {},
   "outputs": [],
   "source": [
    "countVec = CountVectorizer(tokenizer=tokenize, min_df=4).fit(training_set['sentence'])"
   ]
  },
  {
   "cell_type": "code",
   "execution_count": 14,
   "metadata": {},
   "outputs": [
    {
     "data": {
      "text/plain": [
       "245"
      ]
     },
     "execution_count": 14,
     "metadata": {},
     "output_type": "execute_result"
    }
   ],
   "source": [
    "len(countVec.get_feature_names())"
   ]
  },
  {
   "cell_type": "code",
   "execution_count": 15,
   "metadata": {},
   "outputs": [],
   "source": [
    "params = {'C': [0.01, 0.1, 0.5, 0.8, 0.9, 1, 1.2, 1.5, 2, 5, 10], 'kernel': ['linear', 'rbf', 'poly'], 'degree': [2, 3, 5, 10, 20, 50]}\n",
    "clf = GridSearchCV(SVC(probability=True), params, cv=5)"
   ]
  },
  {
   "cell_type": "code",
   "execution_count": 16,
   "metadata": {},
   "outputs": [
    {
     "name": "stdout",
     "output_type": "stream",
     "text": [
      "Round 1\n",
      "Best Params:  {'kernel': 'linear', 'C': 0.5, 'degree': 2}\n",
      "Best Score:  0.9987244897959183\n",
      "AUC Cross-validated scores: [1.        0.9993985 1.        1.        1.       ]\n",
      "r2 score:  0.9393206381883685\n",
      "F1 Score:  0.9739130434782608\n",
      "Confusion matrix: \n",
      "[[334   1]\n",
      " [  2  56]]\n"
     ]
    },
    {
     "data": {
      "image/png": "[encoded data removed]",
      "text/plain": [
       "<Figure size 432x288 with 1 Axes>"
      ]
     },
     "metadata": {
      "needs_background": "light"
     },
     "output_type": "display_data"
    },
    {
     "name": "stdout",
     "output_type": "stream",
     "text": [
      "_______________________________________________________________\n",
      "Round 2\n",
      "Best Params:  {'kernel': 'linear', 'C': 0.8, 'degree': 2}\n",
      "Best Score:  0.9949044585987261\n",
      "AUC Cross-validated scores: [1.         1.         1.         0.99984336 1.        ]\n",
      "r2 score:  1.0\n",
      "F1 Score:  1.0\n",
      "Confusion matrix: \n",
      "[[333   0]\n",
      " [  0  59]]\n"
     ]
    },
    {
     "data": {
      "image/png": "[encoded data removed]",
      "text/plain": [
       "<Figure size 432x288 with 1 Axes>"
      ]
     },
     "metadata": {
      "needs_background": "light"
     },
     "output_type": "display_data"
    },
    {
     "name": "stdout",
     "output_type": "stream",
     "text": [
      "_______________________________________________________________\n",
      "Round 3\n",
      "Best Params:  {'kernel': 'linear', 'C': 1.5, 'degree': 2}\n",
      "Best Score:  0.9987261146496815\n",
      "AUC Cross-validated scores: [1.         1.         1.         0.99852893 1.        ]\n",
      "r2 score:  0.9810874704491725\n",
      "F1 Score:  0.9921259842519685\n",
      "Confusion matrix: \n",
      "[[328   1]\n",
      " [  0  63]]\n"
     ]
    },
    {
     "data": {
      "image/png": "[encoded data removed]",
      "text/plain": [
       "<Figure size 432x288 with 1 Axes>"
      ]
     },
     "metadata": {
      "needs_background": "light"
     },
     "output_type": "display_data"
    },
    {
     "name": "stdout",
     "output_type": "stream",
     "text": [
      "_______________________________________________________________\n"
     ]
    }
   ],
   "source": [
    "kf = KFold(n_splits=3, shuffle=True)\n",
    "kf.get_n_splits(training_set)\n",
    "round_num = 0\n",
    "for train_index, test_index in kf.split(training_set):\n",
    "    round_num += 1\n",
    "    print 'Round', round_num\n",
    "    X_train, X_test = training_set.loc[train_index], training_set.loc[test_index]\n",
    "    y_train, y_test = y.loc[train_index], y.loc[test_index]\n",
    "    lineVec = countVec.transform(X_train['sentence'])\n",
    "    testVec = countVec.transform(X_test['sentence'])\n",
    "    clf.fit(lineVec, X_train['isCoupon'])\n",
    "    predictions = clf.predict(testVec)\n",
    "    print \"Best Params: \", clf.best_params_\n",
    "    print \"Best Score: \", clf.best_score_\n",
    "    print 'AUC Cross-validated scores:', cross_val_score(clf, lineVec, y_train, cv=5, scoring='roc_auc')\n",
    "    print 'r2 score: ', metrics.r2_score(y_test, predictions)\n",
    "    print 'F1 Score: ', metrics.f1_score(y_test, predictions)\n",
    "    print 'Confusion matrix: '\n",
    "    print metrics.confusion_matrix(y_test, predictions)\n",
    "    predicted_probabilites = clf.predict_proba(testVec)[:,1]\n",
    "    fpr, tpr, thresholds = metrics.roc_curve(y_test, predicted_probabilites) \n",
    "    plt.plot([0, 1], [0, 1], 'k--')\n",
    "    plt.plot(fpr, tpr, label='Logistic Regression')\n",
    "    plt.xlabel('False Positive Rate')\n",
    "    plt.ylabel('True Positive Rate')\n",
    "    plt.show()\n",
    "    print '_______________________________________________________________'"
   ]
  },
  {
   "cell_type": "markdown",
   "metadata": {},
   "source": [
    "# Check How the weights will work in the Browser Extension"
   ]
  },
  {
   "cell_type": "code",
   "execution_count": 17,
   "metadata": {},
   "outputs": [
    {
     "data": {
      "text/plain": [
       "SVC(C=1, cache_size=200, class_weight=None, coef0=0.0,\n",
       "  decision_function_shape='ovr', degree=2, gamma='auto_deprecated',\n",
       "  kernel='linear', max_iter=-1, probability=False, random_state=None,\n",
       "  shrinking=True, tol=0.001, verbose=False)"
      ]
     },
     "execution_count": 17,
     "metadata": {},
     "output_type": "execute_result"
    }
   ],
   "source": [
    "classifier = SVC(kernel='linear', C=1, degree=2)\n",
    "lineVec = countVec.transform(training_set['sentence'])\n",
    "classifier.fit(lineVec, training_set['isCoupon'])"
   ]
  },
  {
   "cell_type": "code",
   "execution_count": 18,
   "metadata": {
    "scrolled": true
   },
   "outputs": [
    {
     "name": "stdout",
     "output_type": "stream",
     "text": [
      "1.99992 \tcheckout\n",
      "1.99942 \tcode\n",
      "1.56506 \tcodes\n",
      "0.00042 \tcoupon\n",
      "0.43470 \tdiscount\n",
      "0.00047 \tproducts\n",
      "0.43478 \tpsn\n",
      "0.00006 \tsave\n"
     ]
    }
   ],
   "source": [
    "features = countVec.get_feature_names()\n",
    "weights = classifier.coef_.toarray()[0]\n",
    "for i in range(len(weights)):\n",
    "    if weights[i] > 0:\n",
    "        print \"%1.5f\" % weights[i], \"\\t\", features[i]"
   ]
  },
  {
   "cell_type": "code",
   "execution_count": 19,
   "metadata": {},
   "outputs": [],
   "source": [
    "features = countVec.get_feature_names()\n",
    "\n",
    "def get_vector(sentence):\n",
    "    vector = [0] * len(features)\n",
    "    tokens = tokenize(sentence)\n",
    "    for token in tokens:\n",
    "        if token in features:\n",
    "            vector[features.index(token)] += 1\n",
    "    return vector"
   ]
  },
  {
   "cell_type": "code",
   "execution_count": 20,
   "metadata": {},
   "outputs": [],
   "source": [
    "false_positives = 0\n",
    "false_negatives = 0\n",
    "for i, row in videos_en_new.iterrows():\n",
    "    tot = 0\n",
    "    vector = get_vector(row['sentence'])\n",
    "    for j in range(len(weights)):\n",
    "        tot += weights[j] * vector[j]\n",
    "    if tot > 1:\n",
    "        if row['isCoupon'] == 0:\n",
    "            #print \"False +: \", row['sentence']\n",
    "            false_positives += 1\n",
    "    else:\n",
    "        if row['isCoupon'] == 1:\n",
    "            false_negatives += 1\n",
    "            #print \"False -: \", row['sentence']"
   ]
  },
  {
   "cell_type": "code",
   "execution_count": 21,
   "metadata": {},
   "outputs": [
    {
     "name": "stdout",
     "output_type": "stream",
     "text": [
      "Total Inputs:  77706\n",
      "False Positives:  117\n",
      "False Positive Percentage: 0.15 %\n",
      "False Negatives:  0\n"
     ]
    }
   ],
   "source": [
    "total_vids = videos_en_new.shape[0]\n",
    "print \"Total Inputs: \", total_vids\n",
    "print \"False Positives: \", false_positives # some of these are coupon codes\n",
    "print \"False Positive Percentage: %1.2f\" % (false_positives/(total_vids*1.0) * 100), \"%\"\n",
    "print \"False Negatives: \", false_negatives # could be a result of imperfections in the cluster"
   ]
  },
  {
   "cell_type": "markdown",
   "metadata": {},
   "source": [
    "# Export features and Weights"
   ]
  },
  {
   "cell_type": "code",
   "execution_count": 22,
   "metadata": {
    "scrolled": true
   },
   "outputs": [
    {
     "name": "stdout",
     "output_type": "stream",
     "text": [
      "245 245\n",
      "const CouponWeights = [-0.00012450592212507713, -0.00015106737564107853, -0.00031359848219128170, -0.00012450592212507713, -0.00007982301128326309, -0.00007982301128326309, -0.00002557933460532871, -0.52193298172818680669, 1.99991793412003149299, -0.00046393724313512075, -0.00027081629850073141, 1.99942120278743118433, 1.56506175212848153144, -0.00004803490949437019, -0.00030643870188213837, 0.00041955039420813346, 0.43470431077497950767, -0.00016866282584093246, -0.52193298172818680669, -0.00004331641018606724, -0.00008206587996827986, -0.00014922487184815258, -0.00007982301128326309, -0.00027081629850073141, -0.00014922487184815258, -0.00014062283652711382, -0.00016114660182036528, -0.00028416784943504627, -0.52193298172818680669, -0.00041814862151268043, 0.00046959236249419711, 0.43478230302227971471, 0.00006108494730403647, -0.00014922487184815258, -0.00002557933460532871, -0.00004673840755380543, -0.00008252130132337674, -0.00044159565259323935, -0.00012450592212507713, -1.00000000000000000000, -0.21750812005940919902, -0.21750812005940919902, -0.00007982301128326309, -0.00026431291630091280, -0.00013848617983670261, -0.00012925970887718216, -0.00016114660182036528, -0.00014922487184815258, -0.00041814862151268043, -0.00027081629850073141];\n",
      "const CouponFeatures = [\"app\",\"available\",\"beautiful\",\"best\",\"call\",\"car\",\"cars\",\"channel\",\"checkout\",\"click\",\"co\",\"code\",\"codes\",\"com\",\"contact\",\"coupon\",\"discount\",\"enjoy\",\"entertainment\",\"free\",\"get\",\"high\",\"inc\",\"international\",\"la\",\"live\",\"mlb\",\"news\",\"park\",\"peace\",\"products\",\"psn\",\"save\",\"school\",\"series\",\"show\",\"shows\",\"song\",\"test\",\"time\",\"twitch\",\"twitter\",\"us\",\"use\",\"using\",\"video\",\"visit\",\"vs\",\"want\",\"year\"];\n",
      "50 50\n"
     ]
    }
   ],
   "source": [
    "features = countVec.get_feature_names()\n",
    "non_zero_features = []\n",
    "print len(features), len(weights)\n",
    "num_zeroes = 0\n",
    "weights_string = \"const CouponWeights = [\"\n",
    "for i in range(len(weights)):\n",
    "    item = weights[i]\n",
    "    if item == 0:\n",
    "        num_zeroes += 1\n",
    "    else:\n",
    "        non_zero_features.append(features[i])\n",
    "        weights_string += '%1.20f' % item + \", \"\n",
    "weights_string = weights_string[0:-2] + \"];\"\n",
    "\n",
    "features_string = \"const CouponFeatures = [\"\n",
    "for item in non_zero_features:\n",
    "    temp = item\n",
    "    features_string += '\"' + temp + '\",'\n",
    "features_string = features_string[0:-1] + \"];\"\n",
    "\n",
    "print weights_string\n",
    "print features_string\n",
    "print len(non_zero_features), len(weights)-num_zeroes"
   ]
  },
  {
   "cell_type": "code",
   "execution_count": null,
   "metadata": {},
   "outputs": [],
   "source": []
  },
  {
   "cell_type": "code",
   "execution_count": null,
   "metadata": {},
   "outputs": [],
   "source": []
  },
  {
   "cell_type": "code",
   "execution_count": null,
   "metadata": {},
   "outputs": [
    {
     "name": "stdout",
     "output_type": "stream",
     "text": [
      "Round 1\n",
      "Best Params:  {'kernel': 'linear', 'C': 1.2, 'degree': 2}\n",
      "Best Score:  0.9990348235657478\n",
      "r2 score:  0.6240711355368063\n",
      "F1 Score:  0.8095238095238094\n",
      "Confusion matrix: \n",
      "[[25827    11]\n",
      " [   13    51]]\n"
     ]
    },
    {
     "data": {
      "image/png": "[encoded data removed]",
      "text/plain": [
       "<Figure size 432x288 with 1 Axes>"
      ]
     },
     "metadata": {
      "needs_background": "light"
     },
     "output_type": "display_data"
    },
    {
     "name": "stdout",
     "output_type": "stream",
     "text": [
      "_______________________________________________________________\n",
      "Round 2\n"
     ]
    }
   ],
   "source": [
    "kf = KFold(n_splits=3, shuffle=True)\n",
    "kf.get_n_splits(videos_en_new)\n",
    "round_num = 0\n",
    "for train_index, test_index in kf.split(videos_en_new):\n",
    "    round_num += 1\n",
    "    print 'Round', round_num\n",
    "    X_train, X_test = videos_en_new.loc[train_index], videos_en_new.loc[test_index]\n",
    "    y = videos_en_new.isCoupon\n",
    "    y_train, y_test = y.loc[train_index], y.loc[test_index]\n",
    "    lineVec = countVec.transform(X_train['sentence'])\n",
    "    testVec = countVec.transform(X_test['sentence'])\n",
    "    clf.fit(lineVec, X_train['isCoupon'])\n",
    "    predictions = clf.predict(testVec)\n",
    "    print \"Best Params: \", clf.best_params_\n",
    "    print \"Best Score: \", clf.best_score_\n",
    "    #print 'AUC Cross-validated scores:', cross_val_score(clf, lineVec, y_train, cv=5, scoring='roc_auc')\n",
    "    print 'r2 score: ', metrics.r2_score(y_test, predictions)\n",
    "    print 'F1 Score: ', metrics.f1_score(y_test, predictions)\n",
    "    print 'Confusion matrix: '\n",
    "    print metrics.confusion_matrix(y_test, predictions)\n",
    "    predicted_probabilites = clf.predict_proba(testVec)[:,1]\n",
    "    fpr, tpr, thresholds = metrics.roc_curve(y_test, predicted_probabilites) \n",
    "    plt.plot([0, 1], [0, 1], 'k--')\n",
    "    plt.plot(fpr, tpr, label='Logistic Regression')\n",
    "    plt.xlabel('False Positive Rate')\n",
    "    plt.ylabel('True Positive Rate')\n",
    "    plt.show()\n",
    "    print '_______________________________________________________________'"
   ]
  },
  {
   "cell_type": "code",
   "execution_count": null,
   "metadata": {},
   "outputs": [],
   "source": []
  }
 ],
 "metadata": {
  "kernelspec": {
   "display_name": "Python 2",
   "language": "python",
   "name": "python2"
  },
  "language_info": {
   "codemirror_mode": {
    "name": "ipython",
    "version": 2
   },
   "file_extension": ".py",
   "mimetype": "text/x-python",
   "name": "python",
   "nbconvert_exporter": "python",
   "pygments_lexer": "ipython2",
   "version": "2.7.15"
  }
 },
 "nbformat": 4,
 "nbformat_minor": 2
}
