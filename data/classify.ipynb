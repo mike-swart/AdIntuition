{
 "cells": [
  {
   "cell_type": "code",
   "execution_count": 1,
   "metadata": {},
   "outputs": [],
   "source": [
    "import pandas as pd\n",
    "import csv\n",
    "import numpy as np\n",
    "import re\n",
    "import string as string_library\n",
    "import nltk\n",
    "from nltk.tokenize import sent_tokenize, word_tokenize\n",
    "from sklearn.feature_extraction.text import CountVectorizer\n",
    "from sklearn.ensemble import RandomForestClassifier\n",
    "from sklearn.neural_network import MLPClassifier\n",
    "from sklearn.naive_bayes import GaussianNB\n",
    "from sklearn.tree import DecisionTreeClassifier\n",
    "from sklearn.svm import SVC\n",
    "from sklearn.model_selection import train_test_split, cross_validate\n",
    "from sklearn import metrics\n",
    "from sklearn.model_selection import cross_val_score, cross_val_predict, GridSearchCV\n",
    "import sys\n",
    "from matplotlib import pyplot as plt\n",
    "from sklearn.model_selection import KFold\n",
    "from nltk.stem.porter import PorterStemmer\n",
    "import math\n",
    "import warnings\n",
    "import random\n",
    "warnings.filterwarnings('ignore')\n",
    "sys.setrecursionlimit(100000)"
   ]
  },
  {
   "cell_type": "markdown",
   "metadata": {},
   "source": [
    "Starting with 515,999 random videos scraped from YouTube, I took the descriptions that were in English and then looked for the existence of potential coupon codes. Splitting the description into sentences, I kept track of any sentence that might have a coupon code. For example, Casey Neistat is a famous social media influencer with a YouTube channel called \"CaseyNeistat\". My dictionary generator would have checked the description of his videos for his full channel title, \"CaseyNeistat\", individual components of his channel title split on a lowercase to uppercase transitions or spaces, \"Casey\" and \"Neistat\", and then the initials of his channel title components, \"CN\". All of these could also have a number appended to the end. 170,473 sentences were found to have potential coupon codes, so I split clustered these sentences and manually inspected them. \n",
    "\n",
    "In this notebook, I read in the clustered sentences, and then label them as having a coupon code based on their cluster number. Adding in some random values from the set, I split the data into 3 subsets and train the model with different classifiers to get the best combination to classify the dataset. Then, using the best option, I check the performance overall and export the weights."
   ]
  },
  {
   "cell_type": "markdown",
   "metadata": {},
   "source": [
    "# Build the training set and then Classify"
   ]
  },
  {
   "cell_type": "code",
   "execution_count": 2,
   "metadata": {},
   "outputs": [],
   "source": [
    "# read in the sentences that were already clustered\n",
    "videos = []\n",
    "match_ids = {}\n",
    "with open(\"sentence_clusters_fastcluster_nonbinary_all.tsv\", 'rt') as csvfile:\n",
    "    reader = csv.reader(csvfile, delimiter='\\t')\n",
    "    for row in reader:\n",
    "        if row[0] not in match_ids:\n",
    "            match_ids[row[0]] = True\n",
    "        videos.append([row[0], row[1], row[2], row[3], row[4]])\n",
    "        \n",
    "videos_en = pd.DataFrame(videos, columns=['id', 'description', 'channelTitle', 'sentence', 'clusterNum'])\n",
    "del videos"
   ]
  },
  {
   "cell_type": "code",
   "execution_count": 3,
   "metadata": {
    "scrolled": true
   },
   "outputs": [],
   "source": [
    "# add in an isCoupon variable to the dataframe. isCoupon = 1 if the sentence is in our cluster of coupon codes\n",
    "num_coupon_codes = 0\n",
    "match_sentences = {}\n",
    "for i, row in videos_en.iterrows():\n",
    "    if row['clusterNum'] == str(68):\n",
    "        num_coupon_codes += 1\n",
    "        match_sentences[row.sentence] = True\n",
    "        videos_en.at[i, 'isCoupon'] = 1\n",
    "    else:\n",
    "        videos_en.at[i, 'isCoupon'] = 0"
   ]
  },
  {
   "cell_type": "code",
   "execution_count": 4,
   "metadata": {},
   "outputs": [
    {
     "name": "stdout",
     "output_type": "stream",
     "text": [
      "(77706, 6)\n"
     ]
    }
   ],
   "source": [
    "print videos_en.shape"
   ]
  },
  {
   "cell_type": "code",
   "execution_count": 5,
   "metadata": {},
   "outputs": [
    {
     "name": "stdout",
     "output_type": "stream",
     "text": [
      "177\n"
     ]
    }
   ],
   "source": [
    "print num_coupon_codes"
   ]
  },
  {
   "cell_type": "code",
   "execution_count": 6,
   "metadata": {},
   "outputs": [],
   "source": [
    "# There are few coupon codes compared to the size of the dataset\n",
    "# Need to shrink the negative sample size in our training dataset\n",
    "# get a random set of 1000 videos from the set\n",
    "sample_set = videos_en.sample(n=1000)"
   ]
  },
  {
   "cell_type": "code",
   "execution_count": 7,
   "metadata": {},
   "outputs": [
    {
     "data": {
      "text/plain": [
       "(1000, 6)"
      ]
     },
     "execution_count": 7,
     "metadata": {},
     "output_type": "execute_result"
    }
   ],
   "source": [
    "sample_set.shape"
   ]
  },
  {
   "cell_type": "code",
   "execution_count": 8,
   "metadata": {},
   "outputs": [
    {
     "name": "stdout",
     "output_type": "stream",
     "text": [
      "(177, 6)\n"
     ]
    }
   ],
   "source": [
    "# get the sentences that are in the coupon code cluster\n",
    "positives = []\n",
    "for i, row in videos_en.iterrows():\n",
    "    if row['isCoupon'] == 1:\n",
    "        positives.append([row.id, row.description, row.channelTitle, row.sentence, row.clusterNum, row.isCoupon])\n",
    "        \n",
    "positiveDF = pd.DataFrame(positives, columns=['id', 'description', 'channelTitle', 'sentence', 'clusterNum', 'isCoupon'])\n",
    "del positives\n",
    "print(positiveDF.shape)"
   ]
  },
  {
   "cell_type": "code",
   "execution_count": 9,
   "metadata": {},
   "outputs": [
    {
     "data": {
      "text/plain": [
       "(1177, 6)"
      ]
     },
     "execution_count": 9,
     "metadata": {},
     "output_type": "execute_result"
    }
   ],
   "source": [
    "# join the set of random values and the set of positives\n",
    "data = sample_set.append(positiveDF, ignore_index=True)\n",
    "data.shape"
   ]
  },
  {
   "cell_type": "code",
   "execution_count": 10,
   "metadata": {},
   "outputs": [],
   "source": [
    "#shuffle the training set\n",
    "data = data.sample(frac=1).reset_index(drop=True)"
   ]
  },
  {
   "cell_type": "code",
   "execution_count": 11,
   "metadata": {},
   "outputs": [],
   "source": [
    "y = data.isCoupon"
   ]
  },
  {
   "cell_type": "code",
   "execution_count": 12,
   "metadata": {
    "scrolled": false
   },
   "outputs": [],
   "source": [
    "#stemmer = PorterStemmer()\n",
    "\n",
    "def tokenize(line):\n",
    "    if (line is None):\n",
    "        line = ''\n",
    "    printable = set(string_library.printable)\n",
    "    line = ''.join(filter(lambda x: x in printable, line)) \n",
    "    stopwords = nltk.corpus.stopwords.words('english')\n",
    "\n",
    "    tokenizer = nltk.RegexpTokenizer(r'[a-zA-Z]*\\'[a-zA-Z]*|\\w+')\n",
    "    \n",
    "    tokens = []\n",
    "    \n",
    "    line = re.sub(r'(http[s]?://|www.)(?:[a-zA-Z]|[0-9]|[$-_@.&+]*|[!*\\\\(\\\\),]|(?:%[0-9a-fA-F][0-9a-fA-F]))*', '', line).lower()\n",
    "    tokens.extend(tokenizer.tokenize(line))\n",
    "    \n",
    "    tokens_ = [f.strip(string_library.punctuation) for f in tokens]\n",
    "    for i in range(len(tokens_)):\n",
    "        if tokens_[i][0:2] == \"b'\":\n",
    "            tokens_[i] = tokens[i][2:]\n",
    "    tokens_ = [f for f in tokens_ if f != '' and f not in stopwords and len(f) != 1]\n",
    "    tokens_ = [f for f in tokens_ if not (f.isdigit() or f[0] == '-' and f[1:].isdigit())]\n",
    "    #tokens_ = [stemmer.stem(f) for f in tokens_]\n",
    "\n",
    "    return tokens_\n"
   ]
  },
  {
   "cell_type": "code",
   "execution_count": 13,
   "metadata": {},
   "outputs": [],
   "source": [
    "# all of the possible parameters to check for\n",
    "params = {'C': [0.01, 0.1, 0.5, 0.8, 0.9, 1, 1.2, 1.5, 2, 5, 10], 'kernel': ['linear', 'rbf', 'poly'], 'degree': [2, 3, 5, 10, 20, 50]}\n",
    "clf = GridSearchCV(SVC(probability=True), params, cv=5)"
   ]
  },
  {
   "cell_type": "code",
   "execution_count": 14,
   "metadata": {},
   "outputs": [
    {
     "name": "stdout",
     "output_type": "stream",
     "text": [
      "Round 1\n",
      "Best Params:  {'kernel': 'linear', 'C': 1.2, 'degree': 2}\n",
      "Best Score:  1.0\n",
      "{'score_time': array([0.00074196, 0.00069118, 0.0005579 , 0.00064087, 0.00053501]), 'test_score': array([1., 1., 1., 1., 1.]), 'train_score': array([1., 1., 1., 1., 1.]), 'fit_time': array([6.32287383, 6.39934301, 6.28397799, 6.34685302, 6.36714506])}\n",
      "r2 score:  0.9234356781966576\n",
      "F1 Score:  0.96875\n",
      "Confusion matrix: \n",
      "[[164   2]\n",
      " [  0  31]]\n"
     ]
    },
    {
     "data": {
      "image/png": "[encoded data removed]",
      "text/plain": [
       "<Figure size 432x288 with 1 Axes>"
      ]
     },
     "metadata": {
      "needs_background": "light"
     },
     "output_type": "display_data"
    },
    {
     "name": "stdout",
     "output_type": "stream",
     "text": [
      "_______________________________________________________________\n",
      "Round 2\n",
      "Best Params:  {'kernel': 'linear', 'C': 0.5, 'degree': 2}\n",
      "Best Score:  0.9949044585987261\n",
      "{'score_time': array([0.00054312, 0.00054097, 0.00053883, 0.00054812, 0.00054097]), 'test_score': array([1.   , 0.975, 1.   , 1.   , 1.   ]), 'train_score': array([1.        , 1.        , 1.        , 0.99367089, 1.        ]), 'fit_time': array([6.20146585, 6.18313694, 6.107723  , 6.14869785, 6.14642501])}\n",
      "r2 score:  1.0\n",
      "F1 Score:  1.0\n",
      "Confusion matrix: \n",
      "[[167   0]\n",
      " [  0  29]]\n"
     ]
    },
    {
     "data": {
      "image/png": "[encoded data removed]",
      "text/plain": [
       "<Figure size 432x288 with 1 Axes>"
      ]
     },
     "metadata": {
      "needs_background": "light"
     },
     "output_type": "display_data"
    },
    {
     "name": "stdout",
     "output_type": "stream",
     "text": [
      "_______________________________________________________________\n",
      "Round 3\n",
      "Best Params:  {'kernel': 'linear', 'C': 1.5, 'degree': 2}\n",
      "Best Score:  0.9974522292993631\n",
      "{'score_time': array([0.00060105, 0.00063515, 0.00053811, 0.00058103, 0.000561  ]), 'test_score': array([1.        , 0.97435897, 1.        , 0.97435897, 1.        ]), 'train_score': array([1.        , 0.99363057, 1.        , 0.99363057, 1.        ]), 'fit_time': array([6.44439578, 6.67053795, 6.42922282, 6.49685597, 6.46656799])}\n",
      "r2 score:  1.0\n",
      "F1 Score:  1.0\n",
      "Confusion matrix: \n",
      "[[165   0]\n",
      " [  0  31]]\n"
     ]
    },
    {
     "data": {
      "image/png": "[encoded data removed]",
      "text/plain": [
       "<Figure size 432x288 with 1 Axes>"
      ]
     },
     "metadata": {
      "needs_background": "light"
     },
     "output_type": "display_data"
    },
    {
     "name": "stdout",
     "output_type": "stream",
     "text": [
      "_______________________________________________________________\n"
     ]
    }
   ],
   "source": [
    "# run kfold 3 times\n",
    "kf = KFold(n_splits=3, shuffle=True)\n",
    "kf.get_n_splits(data)\n",
    "round_num = 0\n",
    "for train_index, test_index in kf.split(data):\n",
    "    round_num += 1\n",
    "    print 'Round', round_num\n",
    "    #get the training, validating, and testing sets for the sentences\n",
    "    X_train, X_temp = data.loc[train_index], data.loc[test_index]\n",
    "    split_X = np.split(X_temp, [X_temp.shape[0]/2])\n",
    "    X_validate = split_X[0]\n",
    "    X_test = split_X[1]\n",
    "    #get the training, validating, and testing sets for the isCoupon types\n",
    "    y_train, y_temp = y.loc[train_index], y.loc[test_index]\n",
    "    split_y = np.split(y_temp, [y_temp.shape[0]/2])\n",
    "    y_validate = split_y[0]\n",
    "    y_test = split_y[1]\n",
    "    \n",
    "    #Get the word vector from the training set\n",
    "    countVec = CountVectorizer(tokenizer=tokenize, min_df=3).fit(X_train['sentence'])\n",
    "    #create the word frequency from the word vector for the training, validating, and testing sets\n",
    "    lineVec = countVec.transform(X_train['sentence'])\n",
    "    validateVec = countVec.transform(X_validate['sentence'])\n",
    "    testVec = countVec.transform(X_test['sentence'])\n",
    "    \n",
    "    #fit the classifier\n",
    "    clf.fit(lineVec, X_train['isCoupon'])\n",
    "    print \"Best Params: \", clf.best_params_\n",
    "    print \"Best Score: \", clf.best_score_\n",
    "    \n",
    "    #cross validate\n",
    "    cv_results = cross_validate(clf, validateVec, y_validate, cv=5, return_train_score=True)\n",
    "    print cv_results\n",
    "    \n",
    "    #test on the test set\n",
    "    predictions = clf.predict(testVec)\n",
    "    print 'r2 score: ', metrics.r2_score(y_test, predictions)\n",
    "    print 'F1 Score: ', metrics.f1_score(y_test, predictions)\n",
    "    print 'Confusion matrix: '\n",
    "    print metrics.confusion_matrix(y_test, predictions)\n",
    "    predicted_probabilites = clf.predict_proba(testVec)[:,1]\n",
    "    fpr, tpr, thresholds = metrics.roc_curve(y_test, predicted_probabilites) \n",
    "    plt.plot([0, 1], [0, 1], 'k--')\n",
    "    plt.plot(fpr, tpr, label='Logistic Regression')\n",
    "    plt.xlabel('False Positive Rate')\n",
    "    plt.ylabel('True Positive Rate')\n",
    "    plt.show()\n",
    "    print '_______________________________________________________________'"
   ]
  },
  {
   "cell_type": "code",
   "execution_count": 15,
   "metadata": {},
   "outputs": [],
   "source": [
    "# all of the possible parameters to check for\n",
    "params = {'n_estimators': [1, 3, 5, 7, 10, 15], 'max_depth': [None, 1, 5, 10, 15, 30]}\n",
    "clf = GridSearchCV(RandomForestClassifier(), params, cv=5)"
   ]
  },
  {
   "cell_type": "code",
   "execution_count": 16,
   "metadata": {},
   "outputs": [
    {
     "name": "stdout",
     "output_type": "stream",
     "text": [
      "Round 1\n",
      "Best Params:  {'n_estimators': 15, 'max_depth': 30}\n",
      "Best Score:  0.9974489795918368\n",
      "{'score_time': array([0.00222802, 0.00159001, 0.00215793, 0.00073695, 0.00159001]), 'test_score': array([1.        , 1.        , 1.        , 0.97435897, 0.97368421]), 'train_score': array([1.        , 1.        , 1.        , 0.99363057, 1.        ]), 'fit_time': array([4.51333094, 4.56100893, 4.34861803, 4.159091  , 4.24103189])}\n",
      "r2 score:  1.0\n",
      "F1 Score:  1.0\n",
      "Confusion matrix: \n",
      "[[173   0]\n",
      " [  0  24]]\n"
     ]
    },
    {
     "data": {
      "image/png": "[encoded data removed]",
      "text/plain": [
       "<Figure size 432x288 with 1 Axes>"
      ]
     },
     "metadata": {
      "needs_background": "light"
     },
     "output_type": "display_data"
    },
    {
     "name": "stdout",
     "output_type": "stream",
     "text": [
      "_______________________________________________________________\n",
      "Round 2\n",
      "Best Params:  {'n_estimators': 3, 'max_depth': 30}\n",
      "Best Score:  0.9961783439490446\n",
      "{'score_time': array([0.00166297, 0.0021081 , 0.00183702, 0.001333  , 0.00142002]), 'test_score': array([1., 1., 1., 1., 1.]), 'train_score': array([1., 1., 1., 1., 1.]), 'fit_time': array([4.29612803, 4.32973409, 4.41119695, 4.67784595, 4.66361094])}\n",
      "r2 score:  0.8425702811244979\n",
      "F1 Score:  0.9354838709677419\n",
      "Confusion matrix: \n",
      "[[163   3]\n",
      " [  1  29]]\n"
     ]
    },
    {
     "data": {
      "image/png": "[encoded data removed]",
      "text/plain": [
       "<Figure size 432x288 with 1 Axes>"
      ]
     },
     "metadata": {
      "needs_background": "light"
     },
     "output_type": "display_data"
    },
    {
     "name": "stdout",
     "output_type": "stream",
     "text": [
      "_______________________________________________________________\n",
      "Round 3\n",
      "Best Params:  {'n_estimators': 10, 'max_depth': None}\n",
      "Best Score:  0.9974522292993631\n",
      "{'score_time': array([0.00132585, 0.0011909 , 0.00081897, 0.00165701, 0.00107002]), 'test_score': array([1.        , 0.94871795, 0.97435897, 0.97435897, 1.        ]), 'train_score': array([0.99358974, 1.        , 0.96815287, 0.99363057, 1.        ]), 'fit_time': array([4.45734096, 4.46622109, 4.44843507, 4.44232297, 4.45227695])}\n",
      "r2 score:  0.9666836647968724\n",
      "F1 Score:  0.9866666666666666\n",
      "Confusion matrix: \n",
      "[[158   1]\n",
      " [  0  37]]\n"
     ]
    },
    {
     "data": {
      "image/png": "[encoded data removed]",
      "text/plain": [
       "<Figure size 432x288 with 1 Axes>"
      ]
     },
     "metadata": {
      "needs_background": "light"
     },
     "output_type": "display_data"
    },
    {
     "name": "stdout",
     "output_type": "stream",
     "text": [
      "_______________________________________________________________\n"
     ]
    }
   ],
   "source": [
    "# run kfold 3 times\n",
    "kf = KFold(n_splits=3, shuffle=True)\n",
    "kf.get_n_splits(data)\n",
    "round_num = 0\n",
    "for train_index, test_index in kf.split(data):\n",
    "    round_num += 1\n",
    "    print 'Round', round_num\n",
    "    #get the training, validating, and testing sets for the sentences\n",
    "    X_train, X_temp = data.loc[train_index], data.loc[test_index]\n",
    "    split_X = np.split(X_temp, [X_temp.shape[0]/2])\n",
    "    X_validate = split_X[0]\n",
    "    X_test = split_X[1]\n",
    "    #get the training, validating, and testing sets for the isCoupon types\n",
    "    y_train, y_temp = y.loc[train_index], y.loc[test_index]\n",
    "    split_y = np.split(y_temp, [y_temp.shape[0]/2])\n",
    "    y_validate = split_y[0]\n",
    "    y_test = split_y[1]\n",
    "    \n",
    "    #Get the word vector from the training set\n",
    "    countVec = CountVectorizer(tokenizer=tokenize, min_df=3).fit(X_train['sentence'])\n",
    "    #create the word frequency from the word vector for the training, validating, and testing sets\n",
    "    lineVec = countVec.transform(X_train['sentence'])\n",
    "    validateVec = countVec.transform(X_validate['sentence'])\n",
    "    testVec = countVec.transform(X_test['sentence'])\n",
    "    \n",
    "    #fit the classifier\n",
    "    clf.fit(lineVec, X_train['isCoupon'])\n",
    "    print \"Best Params: \", clf.best_params_\n",
    "    print \"Best Score: \", clf.best_score_\n",
    "    \n",
    "    #cross validate\n",
    "    cv_results = cross_validate(clf, validateVec, y_validate, cv=5, return_train_score=True)\n",
    "    print cv_results\n",
    "    \n",
    "    #test on the test set\n",
    "    predictions = clf.predict(testVec)\n",
    "    print 'r2 score: ', metrics.r2_score(y_test, predictions)\n",
    "    print 'F1 Score: ', metrics.f1_score(y_test, predictions)\n",
    "    print 'Confusion matrix: '\n",
    "    print metrics.confusion_matrix(y_test, predictions)\n",
    "    predicted_probabilites = clf.predict_proba(testVec)[:,1]\n",
    "    fpr, tpr, thresholds = metrics.roc_curve(y_test, predicted_probabilites) \n",
    "    plt.plot([0, 1], [0, 1], 'k--')\n",
    "    plt.plot(fpr, tpr, label='Logistic Regression')\n",
    "    plt.xlabel('False Positive Rate')\n",
    "    plt.ylabel('True Positive Rate')\n",
    "    plt.show()\n",
    "    print '_______________________________________________________________'"
   ]
  },
  {
   "cell_type": "code",
   "execution_count": 17,
   "metadata": {},
   "outputs": [],
   "source": [
    "# all of the possible parameters to check for\n",
    "params = {'max_depth':[None, 1, 5, 10, 15, 30]}\n",
    "clf = GridSearchCV(DecisionTreeClassifier(), params, cv=5)"
   ]
  },
  {
   "cell_type": "code",
   "execution_count": 18,
   "metadata": {},
   "outputs": [
    {
     "name": "stdout",
     "output_type": "stream",
     "text": [
      "Round 1\n",
      "Best Params:  {'max_depth': None}\n",
      "Best Score:  0.9987244897959183\n",
      "{'score_time': array([0.00046492, 0.00050712, 0.00047278, 0.00053787, 0.00051117]), 'test_score': array([1., 1., 1., 1., 1.]), 'train_score': array([1., 1., 1., 1., 1.]), 'fit_time': array([0.1243391 , 0.12681198, 0.12686801, 0.12445498, 0.12565494])}\n",
      "r2 score:  0.9617178390983288\n",
      "F1 Score:  0.9841269841269841\n",
      "Confusion matrix: \n",
      "[[165   1]\n",
      " [  0  31]]\n"
     ]
    },
    {
     "data": {
      "image/png": "[encoded data removed]",
      "text/plain": [
       "<Figure size 432x288 with 1 Axes>"
      ]
     },
     "metadata": {
      "needs_background": "light"
     },
     "output_type": "display_data"
    },
    {
     "name": "stdout",
     "output_type": "stream",
     "text": [
      "_______________________________________________________________\n",
      "Round 2\n",
      "Best Params:  {'max_depth': None}\n",
      "Best Score:  0.9974522292993631\n",
      "{'score_time': array([0.00048089, 0.00047112, 0.00049806, 0.00046992, 0.00054598]), 'test_score': array([1., 1., 1., 1., 1.]), 'train_score': array([1., 1., 1., 1., 1.]), 'fit_time': array([0.12962413, 0.12810397, 0.13962197, 0.13554406, 0.12630296])}\n",
      "r2 score:  1.0\n",
      "F1 Score:  1.0\n",
      "Confusion matrix: \n",
      "[[168   0]\n",
      " [  0  28]]\n"
     ]
    },
    {
     "data": {
      "image/png": "[encoded data removed]",
      "text/plain": [
       "<Figure size 432x288 with 1 Axes>"
      ]
     },
     "metadata": {
      "needs_background": "light"
     },
     "output_type": "display_data"
    },
    {
     "name": "stdout",
     "output_type": "stream",
     "text": [
      "_______________________________________________________________\n",
      "Round 3\n",
      "Best Params:  {'max_depth': None}\n",
      "Best Score:  0.9987261146496815\n",
      "{'score_time': array([0.0005219 , 0.00060105, 0.00048995, 0.00055885, 0.00059986]), 'test_score': array([0.975     , 1.        , 1.        , 1.        , 0.94871795]), 'train_score': array([1., 1., 1., 1., 1.]), 'fit_time': array([0.1275661 , 0.12734389, 0.12653518, 0.12633801, 0.12608695])}\n",
      "r2 score:  0.8906860011154489\n",
      "F1 Score:  0.9538461538461539\n",
      "Confusion matrix: \n",
      "[[162   1]\n",
      " [  2  31]]\n"
     ]
    },
    {
     "data": {
      "image/png": "[encoded data removed]",
      "text/plain": [
       "<Figure size 432x288 with 1 Axes>"
      ]
     },
     "metadata": {
      "needs_background": "light"
     },
     "output_type": "display_data"
    },
    {
     "name": "stdout",
     "output_type": "stream",
     "text": [
      "_______________________________________________________________\n"
     ]
    }
   ],
   "source": [
    "# run kfold 3 times\n",
    "kf = KFold(n_splits=3, shuffle=True)\n",
    "kf.get_n_splits(data)\n",
    "round_num = 0\n",
    "for train_index, test_index in kf.split(data):\n",
    "    round_num += 1\n",
    "    print 'Round', round_num\n",
    "    #get the training, validating, and testing sets for the sentences\n",
    "    X_train, X_temp = data.loc[train_index], data.loc[test_index]\n",
    "    split_X = np.split(X_temp, [X_temp.shape[0]/2])\n",
    "    X_validate = split_X[0]\n",
    "    X_test = split_X[1]\n",
    "    #get the training, validating, and testing sets for the isCoupon types\n",
    "    y_train, y_temp = y.loc[train_index], y.loc[test_index]\n",
    "    split_y = np.split(y_temp, [y_temp.shape[0]/2])\n",
    "    y_validate = split_y[0]\n",
    "    y_test = split_y[1]\n",
    "    \n",
    "    #Get the word vector from the training set\n",
    "    countVec = CountVectorizer(tokenizer=tokenize, min_df=3).fit(X_train['sentence'])\n",
    "    #create the word frequency from the word vector for the training, validating, and testing sets\n",
    "    lineVec = countVec.transform(X_train['sentence'])\n",
    "    validateVec = countVec.transform(X_validate['sentence'])\n",
    "    testVec = countVec.transform(X_test['sentence'])\n",
    "    \n",
    "    #fit the classifier\n",
    "    clf.fit(lineVec, X_train['isCoupon'])\n",
    "    print \"Best Params: \", clf.best_params_\n",
    "    print \"Best Score: \", clf.best_score_\n",
    "    \n",
    "    #cross validate\n",
    "    cv_results = cross_validate(clf, validateVec, y_validate, cv=5, return_train_score=True)\n",
    "    print cv_results\n",
    "    \n",
    "    #test on the test set\n",
    "    predictions = clf.predict(testVec)\n",
    "    print 'r2 score: ', metrics.r2_score(y_test, predictions)\n",
    "    print 'F1 Score: ', metrics.f1_score(y_test, predictions)\n",
    "    print 'Confusion matrix: '\n",
    "    print metrics.confusion_matrix(y_test, predictions)\n",
    "    predicted_probabilites = clf.predict_proba(testVec)[:,1]\n",
    "    fpr, tpr, thresholds = metrics.roc_curve(y_test, predicted_probabilites) \n",
    "    plt.plot([0, 1], [0, 1], 'k--')\n",
    "    plt.plot(fpr, tpr, label='Logistic Regression')\n",
    "    plt.xlabel('False Positive Rate')\n",
    "    plt.ylabel('True Positive Rate')\n",
    "    plt.show()\n",
    "    print '_______________________________________________________________'"
   ]
  },
  {
   "cell_type": "markdown",
   "metadata": {},
   "source": [
    "# Check How the weights will work in the Browser Extension"
   ]
  },
  {
   "cell_type": "code",
   "execution_count": 60,
   "metadata": {},
   "outputs": [
    {
     "name": "stdout",
     "output_type": "stream",
     "text": [
      "(588, 6)\n",
      "(294, 6)\n",
      "(295, 6)\n"
     ]
    }
   ],
   "source": [
    "# build the classifier with the best values found above\n",
    "classifier = SVC(kernel='linear', C=1, degree=2)\n",
    "X_temp = np.split(data, [data.shape[0]/2])\n",
    "X_train = X_temp[0]\n",
    "split_X = np.split(X_temp[1], [X_temp[1].shape[0]/2])\n",
    "X_validate = split_X[0]\n",
    "X_test = split_X[1]\n",
    "print X_train.shape\n",
    "print X_validate.shape\n",
    "print X_test.shape"
   ]
  },
  {
   "cell_type": "code",
   "execution_count": 61,
   "metadata": {},
   "outputs": [],
   "source": [
    "#Get the word vectors\n",
    "countVec = CountVectorizer(tokenizer=tokenize, min_df=3).fit(X_train['sentence'])"
   ]
  },
  {
   "cell_type": "code",
   "execution_count": 62,
   "metadata": {},
   "outputs": [],
   "source": [
    "#transform sentences into vectors\n",
    "lineVec = countVec.transform(X_train['sentence'])\n",
    "validateVec = countVec.transform(X_validate['sentence'])\n",
    "testVec = countVec.transform(X_test['sentence'])"
   ]
  },
  {
   "cell_type": "code",
   "execution_count": 63,
   "metadata": {},
   "outputs": [
    {
     "name": "stdout",
     "output_type": "stream",
     "text": [
      "(588, 202)\n",
      "(294, 202)\n",
      "(295, 202)\n"
     ]
    }
   ],
   "source": [
    "print lineVec.shape\n",
    "print validateVec.shape\n",
    "print testVec.shape"
   ]
  },
  {
   "cell_type": "code",
   "execution_count": 64,
   "metadata": {
    "scrolled": true
   },
   "outputs": [
    {
     "data": {
      "text/plain": [
       "SVC(C=1, cache_size=200, class_weight=None, coef0=0.0,\n",
       "  decision_function_shape='ovr', degree=2, gamma='auto_deprecated',\n",
       "  kernel='linear', max_iter=-1, probability=False, random_state=None,\n",
       "  shrinking=True, tol=0.001, verbose=False)"
      ]
     },
     "execution_count": 64,
     "metadata": {},
     "output_type": "execute_result"
    }
   ],
   "source": [
    "#fit the classifier\n",
    "classifier.fit(lineVec, X_train['isCoupon'])"
   ]
  },
  {
   "cell_type": "code",
   "execution_count": 65,
   "metadata": {},
   "outputs": [
    {
     "name": "stdout",
     "output_type": "stream",
     "text": [
      "r2 score:  1.0\n",
      "F1 Score:  1.0\n"
     ]
    }
   ],
   "source": [
    "predictions = classifier.predict(testVec)\n",
    "print 'r2 score: ', metrics.r2_score(X_test['isCoupon'], predictions)\n",
    "print 'F1 Score: ', metrics.f1_score(X_test['isCoupon'], predictions)"
   ]
  },
  {
   "cell_type": "code",
   "execution_count": 66,
   "metadata": {},
   "outputs": [
    {
     "data": {
      "text/plain": [
       "{'fit_time': array([0.13646793, 0.13410878, 0.13256097, 0.11841512, 0.12298179]),\n",
       " 'score_time': array([0.00058794, 0.00047016, 0.00046706, 0.00046587, 0.00046706]),\n",
       " 'test_score': array([0.96666667, 1.        , 0.98305085, 1.        , 1.        ]),\n",
       " 'train_score': array([1., 1., 1., 1., 1.])}"
      ]
     },
     "execution_count": 66,
     "metadata": {},
     "output_type": "execute_result"
    }
   ],
   "source": [
    "cross_validate(clf, validateVec, X_validate['isCoupon'], cv=5, return_train_score=True)"
   ]
  },
  {
   "cell_type": "code",
   "execution_count": 67,
   "metadata": {},
   "outputs": [],
   "source": [
    "predictions = classifier.predict(testVec)"
   ]
  },
  {
   "cell_type": "code",
   "execution_count": 68,
   "metadata": {},
   "outputs": [
    {
     "name": "stdout",
     "output_type": "stream",
     "text": [
      "r2 score:  1.0\n",
      "F1 Score:  1.0\n"
     ]
    }
   ],
   "source": [
    "print 'r2 score: ', metrics.r2_score(X_test['isCoupon'], predictions)\n",
    "print 'F1 Score: ', metrics.f1_score(X_test['isCoupon'], predictions)"
   ]
  },
  {
   "cell_type": "code",
   "execution_count": 69,
   "metadata": {
    "scrolled": true
   },
   "outputs": [
    {
     "name": "stdout",
     "output_type": "stream",
     "text": [
      "0.00794 \talso\n",
      "0.27748 \tavailable\n",
      "0.00009 \tcheck\n",
      "1.99962 \tcheckout\n",
      "0.03693 \tcinchgaming\n",
      "1.99979 \tcode\n",
      "1.00000 \tcodes\n",
      "0.01588 \tcompetition\n",
      "0.00028 \tcoupon\n",
      "0.09483 \tdiscount\n",
      "0.32617 \tfree\n",
      "0.02641 \tgfuel\n",
      "0.00038 \thead\n",
      "0.00028 \thertz\n",
      "0.04200 \tproducts\n",
      "0.00028 \trb\n",
      "0.00029 \tred\n",
      "0.02641 \tswifterrs\n"
     ]
    }
   ],
   "source": [
    "features = countVec.get_feature_names()\n",
    "weights = classifier.coef_.toarray()[0]\n",
    "for i in range(len(weights)):\n",
    "    if weights[i] > 0:\n",
    "        print \"%1.5f\" % weights[i], \"\\t\", features[i]"
   ]
  },
  {
   "cell_type": "code",
   "execution_count": 70,
   "metadata": {},
   "outputs": [],
   "source": [
    "features = countVec.get_feature_names()\n",
    "\n",
    "def get_vector(sentence):\n",
    "    vector = [0] * len(features)\n",
    "    tokens = tokenize(sentence)\n",
    "    for token in tokens:\n",
    "        if token in features:\n",
    "            vector[features.index(token)] += 1\n",
    "    return vector"
   ]
  },
  {
   "cell_type": "code",
   "execution_count": 71,
   "metadata": {},
   "outputs": [],
   "source": [
    "false_positives = 0\n",
    "false_negatives = 0\n",
    "for i, row in videos_en.iterrows():\n",
    "    tot = 0\n",
    "    vector = get_vector(row['sentence'])\n",
    "    for j in range(len(weights)):\n",
    "        tot += weights[j] * vector[j]\n",
    "    if tot > 0.5:\n",
    "        if row['isCoupon'] == 0:\n",
    "            #print \"False +: \", row['sentence']\n",
    "            false_positives += 1\n",
    "    else:\n",
    "        if row['isCoupon'] == 1:\n",
    "            false_negatives += 1\n",
    "            #print \"False -: \", row['sentence']"
   ]
  },
  {
   "cell_type": "code",
   "execution_count": 72,
   "metadata": {},
   "outputs": [
    {
     "name": "stdout",
     "output_type": "stream",
     "text": [
      "Total Inputs:  77706\n",
      "False Positives:  197\n",
      "False Positive Percentage: 0.25 %\n",
      "False Negatives:  0\n",
      "False Negative Percentage: 0.00 %\n"
     ]
    }
   ],
   "source": [
    "total_vids = videos_en.shape[0]\n",
    "print \"Total Inputs: \", total_vids\n",
    "print \"False Positives: \", false_positives # some of these are coupon codes\n",
    "print \"False Positive Percentage: %1.2f\" % (false_positives/(total_vids*1.0) * 100), \"%\"\n",
    "print \"False Negatives: \", false_negatives # could be a result of imperfections in the cluster\n",
    "print \"False Negative Percentage: %1.2f\" % (false_negatives/(total_vids*1.0) * 100), \"%\""
   ]
  },
  {
   "cell_type": "markdown",
   "metadata": {},
   "source": [
    "# Export features and Weights"
   ]
  },
  {
   "cell_type": "code",
   "execution_count": null,
   "metadata": {
    "scrolled": true
   },
   "outputs": [],
   "source": [
    "features = countVec.get_feature_names()\n",
    "non_zero_features = []\n",
    "print len(features), len(weights)\n",
    "num_zeroes = 0\n",
    "weights_string = \"const CouponWeights = [\"\n",
    "for i in range(len(weights)):\n",
    "    item = weights[i]\n",
    "    if item == 0:\n",
    "        num_zeroes += 1\n",
    "    else:\n",
    "        non_zero_features.append(features[i])\n",
    "        weights_string += '%1.15f' % item + \", \"\n",
    "weights_string = weights_string[0:-2] + \"];\"\n",
    "\n",
    "features_string = \"const CouponFeatures = [\"\n",
    "for item in non_zero_features:\n",
    "    temp = item\n",
    "    features_string += '\"' + temp + '\",'\n",
    "features_string = features_string[0:-1] + \"];\"\n",
    "\n",
    "print weights_string\n",
    "print features_string\n",
    "print len(non_zero_features), len(weights)-num_zeroes"
   ]
  },
  {
   "cell_type": "code",
   "execution_count": null,
   "metadata": {},
   "outputs": [],
   "source": [
    "print \"[\",\n",
    "for word in nltk.corpus.stopwords.words('english'):\n",
    "    print \"\\\"\" + word+ \"\\\"\", \",\","
   ]
  },
  {
   "cell_type": "code",
   "execution_count": null,
   "metadata": {},
   "outputs": [],
   "source": []
  },
  {
   "cell_type": "code",
   "execution_count": null,
   "metadata": {},
   "outputs": [],
   "source": []
  },
  {
   "cell_type": "code",
   "execution_count": null,
   "metadata": {},
   "outputs": [],
   "source": [
    "# kf = KFold(n_splits=3, shuffle=True)\n",
    "# kf.get_n_splits(videos_en_new)\n",
    "# round_num = 0\n",
    "# for train_index, test_index in kf.split(videos_en_new):\n",
    "#     round_num += 1\n",
    "#     print 'Round', round_num\n",
    "#     X_train, X_test = videos_en_new.loc[train_index], videos_en_new.loc[test_index]\n",
    "#     y = videos_en_new.isCoupon\n",
    "#     y_train, y_test = y.loc[train_index], y.loc[test_index]\n",
    "#     lineVec = countVec.transform(X_train['sentence'])\n",
    "#     testVec = countVec.transform(X_test['sentence'])\n",
    "#     clf.fit(lineVec, X_train['isCoupon'])\n",
    "#     predictions = clf.predict(testVec)\n",
    "#     print \"Best Params: \", clf.best_params_\n",
    "#     print \"Best Score: \", clf.best_score_\n",
    "#     #print 'AUC Cross-validated scores:', cross_val_score(clf, lineVec, y_train, cv=5, scoring='roc_auc')\n",
    "#     print 'r2 score: ', metrics.r2_score(y_test, predictions)\n",
    "#     print 'F1 Score: ', metrics.f1_score(y_test, predictions)\n",
    "#     print 'Confusion matrix: '\n",
    "#     print metrics.confusion_matrix(y_test, predictions)\n",
    "#     predicted_probabilites = clf.predict_proba(testVec)[:,1]\n",
    "#     fpr, tpr, thresholds = metrics.roc_curve(y_test, predicted_probabilites) \n",
    "#     plt.plot([0, 1], [0, 1], 'k--')\n",
    "#     plt.plot(fpr, tpr, label='Logistic Regression')\n",
    "#     plt.xlabel('False Positive Rate')\n",
    "#     plt.ylabel('True Positive Rate')\n",
    "#     plt.show()\n",
    "#     print '_______________________________________________________________'"
   ]
  },
  {
   "cell_type": "code",
   "execution_count": null,
   "metadata": {},
   "outputs": [],
   "source": []
  }
 ],
 "metadata": {
  "kernelspec": {
   "display_name": "Python 2",
   "language": "python",
   "name": "python2"
  },
  "language_info": {
   "codemirror_mode": {
    "name": "ipython",
    "version": 2
   },
   "file_extension": ".py",
   "mimetype": "text/x-python",
   "name": "python",
   "nbconvert_exporter": "python",
   "pygments_lexer": "ipython2",
   "version": "2.7.15"
  }
 },
 "nbformat": 4,
 "nbformat_minor": 2
}
