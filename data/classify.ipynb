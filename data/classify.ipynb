{
 "cells": [
  {
   "cell_type": "code",
   "execution_count": 1,
   "metadata": {},
   "outputs": [],
   "source": [
    "import pandas as pd\n",
    "import csv\n",
    "import numpy as np\n",
    "import re\n",
    "import string as string_library\n",
    "import nltk\n",
    "from nltk.tokenize import sent_tokenize, word_tokenize\n",
    "from sklearn.feature_extraction.text import CountVectorizer\n",
    "from sklearn.ensemble import RandomForestClassifier\n",
    "from sklearn.svm import SVC\n",
    "from sklearn.model_selection import train_test_split\n",
    "from sklearn import metrics\n",
    "from sklearn.model_selection import cross_val_score, cross_val_predict\n",
    "import sys\n",
    "from matplotlib import pyplot as plt\n",
    "from sklearn.model_selection import KFold\n",
    "from nltk.stem.porter import PorterStemmer\n",
    "import math\n",
    "import warnings\n",
    "warnings.filterwarnings('ignore')\n",
    "sys.setrecursionlimit(100000)"
   ]
  },
  {
   "cell_type": "markdown",
   "metadata": {},
   "source": [
    "# Build the training set and then Classify"
   ]
  },
  {
   "cell_type": "code",
   "execution_count": 2,
   "metadata": {},
   "outputs": [],
   "source": [
    "videos = []\n",
    "with open(\"sentence_clusters_fastcluster_nonbinary_all.tsv\", 'rt') as csvfile:\n",
    "    reader = csv.reader(csvfile, delimiter='\\t')\n",
    "    for row in reader:\n",
    "        videos.append([row[0], row[1], row[2], row[3], row[4]])\n",
    "        \n",
    "videos_en_new = pd.DataFrame(videos, columns=['id', 'description', 'channelTitle', 'sentence', 'clusterNum'])\n",
    "del videos"
   ]
  },
  {
   "cell_type": "code",
   "execution_count": 3,
   "metadata": {
    "scrolled": true
   },
   "outputs": [],
   "source": [
    "num_coupon_codes = 0\n",
    "for i, row in videos_en_new.iterrows():\n",
    "    if row['clusterNum'] == str(68):\n",
    "        num_coupon_codes += 1\n",
    "        videos_en_new.at[i, 'isCoupon'] = 1\n",
    "    else:\n",
    "        videos_en_new.at[i, 'isCoupon'] = 0"
   ]
  },
  {
   "cell_type": "code",
   "execution_count": 4,
   "metadata": {},
   "outputs": [
    {
     "name": "stdout",
     "output_type": "stream",
     "text": [
      "(77706, 6)\n"
     ]
    }
   ],
   "source": [
    "print videos_en_new.shape"
   ]
  },
  {
   "cell_type": "code",
   "execution_count": 5,
   "metadata": {},
   "outputs": [
    {
     "name": "stdout",
     "output_type": "stream",
     "text": [
      "177\n"
     ]
    }
   ],
   "source": [
    "print num_coupon_codes"
   ]
  },
  {
   "cell_type": "code",
   "execution_count": 6,
   "metadata": {},
   "outputs": [],
   "source": [
    "# There are few coupon codes compared to the size of the dataset\n",
    "# Need to shrink the negative sample size in our training dataset\n",
    "sample_set = videos_en_new.sample(n=1000)"
   ]
  },
  {
   "cell_type": "code",
   "execution_count": 7,
   "metadata": {},
   "outputs": [
    {
     "data": {
      "text/plain": [
       "(1000, 6)"
      ]
     },
     "execution_count": 7,
     "metadata": {},
     "output_type": "execute_result"
    }
   ],
   "source": [
    "sample_set.shape"
   ]
  },
  {
   "cell_type": "code",
   "execution_count": 8,
   "metadata": {},
   "outputs": [
    {
     "name": "stdout",
     "output_type": "stream",
     "text": [
      "(177, 6)\n"
     ]
    }
   ],
   "source": [
    "positives = []\n",
    "for i, row in videos_en_new.iterrows():\n",
    "    if row['isCoupon'] == 1:\n",
    "        positives.append([row.id, row.description, row.channelTitle, row.sentence, row.clusterNum, row.isCoupon])\n",
    "        \n",
    "positiveDF = pd.DataFrame(positives, columns=['id', 'description', 'channelTitle', 'sentence', 'clusterNum', 'isCoupon'])\n",
    "del positives\n",
    "print(positiveDF.shape)"
   ]
  },
  {
   "cell_type": "code",
   "execution_count": 9,
   "metadata": {},
   "outputs": [
    {
     "data": {
      "text/plain": [
       "(1177, 6)"
      ]
     },
     "execution_count": 9,
     "metadata": {},
     "output_type": "execute_result"
    }
   ],
   "source": [
    "training_set = sample_set.append(positiveDF, ignore_index=True)\n",
    "training_set.shape"
   ]
  },
  {
   "cell_type": "code",
   "execution_count": 10,
   "metadata": {},
   "outputs": [],
   "source": [
    "y = training_set.isCoupon"
   ]
  },
  {
   "cell_type": "code",
   "execution_count": 11,
   "metadata": {
    "scrolled": false
   },
   "outputs": [],
   "source": [
    "stemmer = PorterStemmer()\n",
    "\n",
    "def tokenize(line):\n",
    "    if (line is None):\n",
    "        line = ''\n",
    "    printable = set(string_library.printable)\n",
    "    line = ''.join(filter(lambda x: x in printable, line)) \n",
    "    stopwords = nltk.corpus.stopwords.words('english')\n",
    "\n",
    "    tokenizer = nltk.RegexpTokenizer(r'[a-zA-Z]*\\'[a-zA-Z]*|\\w+')\n",
    "    \n",
    "    tokens = []\n",
    "    \n",
    "    line = re.sub(r'(http[s]?://|www.)(?:[a-zA-Z]|[0-9]|[$-_@.&+]*|[!*\\\\(\\\\),]|(?:%[0-9a-fA-F][0-9a-fA-F]))*', '', line).lower()\n",
    "    tokens.extend(tokenizer.tokenize(line))\n",
    "    \n",
    "    tokens_ = [f.strip(string_library.punctuation) for f in tokens]\n",
    "    tokens_ = [f for f in tokens_ if f != '' and f not in stopwords and len(f) != 1]\n",
    "    tokens_ = [f for f in tokens_ if not (f.isdigit() or f[0] == '-' and f[1:].isdigit())]\n",
    "    tokens_ = [stemmer.stem(f) for f in tokens_]\n",
    "\n",
    "    return tokens_\n"
   ]
  },
  {
   "cell_type": "code",
   "execution_count": 12,
   "metadata": {},
   "outputs": [],
   "source": [
    "countVec = CountVectorizer(tokenizer=tokenize, min_df=4).fit(training_set['sentence'])"
   ]
  },
  {
   "cell_type": "code",
   "execution_count": 13,
   "metadata": {},
   "outputs": [
    {
     "data": {
      "text/plain": [
       "348"
      ]
     },
     "execution_count": 13,
     "metadata": {},
     "output_type": "execute_result"
    }
   ],
   "source": [
    "len(countVec.get_feature_names())"
   ]
  },
  {
   "cell_type": "code",
   "execution_count": 14,
   "metadata": {},
   "outputs": [],
   "source": [
    "classifier = SVC(kernel=\"linear\", C=0.05)"
   ]
  },
  {
   "cell_type": "code",
   "execution_count": 15,
   "metadata": {},
   "outputs": [
    {
     "name": "stdout",
     "output_type": "stream",
     "text": [
      "Round 1\n",
      "Cross-validated scores: [0.99363057 0.97452229 1.         1.         0.98717949]\n",
      "r2 score:  0.8803410128894753\n",
      "F1 Score: 0.9464285714285715\n",
      "_______________________________________________________________\n",
      "Round 2\n",
      "Cross-validated scores: [1.         0.97468354 1.         0.99358974 0.98076923]\n",
      "r2 score:  0.9089050009295407\n",
      "F1 Score: 0.9618320610687022\n",
      "_______________________________________________________________\n",
      "Round 3\n",
      "Cross-validated scores: [0.99363057 0.96178344 1.         0.99363057 0.98089172]\n",
      "r2 score:  0.9570458031996494\n",
      "F1 Score: 0.9814814814814815\n",
      "_______________________________________________________________\n"
     ]
    }
   ],
   "source": [
    "kf = KFold(n_splits=3, shuffle=True)\n",
    "kf.get_n_splits(training_set)\n",
    "round_num = 0\n",
    "for train_index, test_index in kf.split(training_set):\n",
    "    round_num += 1\n",
    "    print 'Round', round_num\n",
    "    X_train, X_test = training_set.loc[train_index], training_set.loc[test_index]\n",
    "    y_train, y_test = y.loc[train_index], y.loc[test_index]\n",
    "    lineVec = countVec.transform(X_train['sentence'])\n",
    "    testVec = countVec.transform(X_test['sentence'])\n",
    "    classifier.fit(lineVec, X_train['isCoupon'])\n",
    "    predictions = classifier.predict(testVec)\n",
    "    print 'Cross-validated scores:', cross_val_score(classifier, lineVec, y_train, cv=5)\n",
    "    print 'r2 score: ', metrics.r2_score(y_test, predictions)\n",
    "    print 'F1 Score:', metrics.f1_score(y_test, predictions)\n",
    "    print '_______________________________________________________________'\n",
    "    #plt.scatter(y_test, predictions, alpha=0.007)"
   ]
  },
  {
   "cell_type": "markdown",
   "metadata": {},
   "source": [
    "# Check How the weights will work in the Browser Extension"
   ]
  },
  {
   "cell_type": "code",
   "execution_count": 16,
   "metadata": {},
   "outputs": [],
   "source": [
    "weights = classifier.coef_.toarray()[0]"
   ]
  },
  {
   "cell_type": "code",
   "execution_count": 17,
   "metadata": {},
   "outputs": [],
   "source": [
    "features = countVec.get_feature_names()\n",
    "\n",
    "def get_vector(sentence):\n",
    "    vector = [0] * len(features)\n",
    "    tokens = tokenize(sentence)\n",
    "    for token in tokens:\n",
    "        if token in features:\n",
    "            vector[features.index(token)] += 1\n",
    "    return vector"
   ]
  },
  {
   "cell_type": "code",
   "execution_count": 18,
   "metadata": {},
   "outputs": [],
   "source": [
    "false_positives = 0\n",
    "false_negatives = 0\n",
    "for i, row in videos_en_new.iterrows():\n",
    "    tot = 0\n",
    "    vector = get_vector(row['sentence'])\n",
    "    for j in range(len(weights)):\n",
    "        tot += weights[j] * vector[j]\n",
    "    if tot > 1:\n",
    "        if row['isCoupon'] == 0:\n",
    "            #print \"False +: \", row['sentence']\n",
    "            false_positives += 1\n",
    "    else:\n",
    "        if row['isCoupon'] == 1:\n",
    "            false_negatives += 1\n",
    "            #print \"False -: \", row['sentence']"
   ]
  },
  {
   "cell_type": "code",
   "execution_count": 19,
   "metadata": {},
   "outputs": [
    {
     "name": "stdout",
     "output_type": "stream",
     "text": [
      "Total Inputs:  77706\n",
      "False Positives:  116\n",
      "False Positive Percentage: 0.15 %\n",
      "False Negatives:  10\n"
     ]
    }
   ],
   "source": [
    "total_vids = videos_en_new.shape[0]\n",
    "print \"Total Inputs: \", total_vids\n",
    "print \"False Positives: \", false_positives # some of these are coupon codes\n",
    "print \"False Positive Percentage: %1.2f\" % (false_positives/(total_vids*1.0) * 100), \"%\"\n",
    "print \"False Negatives: \", false_negatives # could be a result of imperfections in the cluster"
   ]
  },
  {
   "cell_type": "markdown",
   "metadata": {},
   "source": [
    "# Export features and Weights"
   ]
  },
  {
   "cell_type": "code",
   "execution_count": 20,
   "metadata": {
    "scrolled": true
   },
   "outputs": [
    {
     "name": "stdout",
     "output_type": "stream",
     "text": [
      "348 348\n"
     ]
    }
   ],
   "source": [
    "features = countVec.get_feature_names()\n",
    "features_string = \"const CouponFeatures = [\"\n",
    "for item in features:\n",
    "    temp = item\n",
    "    if item[0:2] == \"b'\":\n",
    "        temp = item[2:]\n",
    "    features_string += '\"' + temp + '\",'\n",
    "features_string = features_string[0:-1] + \"];\"\n",
    "weights_string = \"const CouponWeights = [\"\n",
    "for item in weights:\n",
    "    if item == 0:\n",
    "        weights_string += \"0, \"\n",
    "    else:\n",
    "        weights_string += '%1.20f' % item + \", \"\n",
    "weights_string = weights_string[0:-2] + \"];\"\n",
    "#print weights_string\n",
    "#print features_string\n",
    "print len(features), len(weights)"
   ]
  },
  {
   "cell_type": "code",
   "execution_count": null,
   "metadata": {},
   "outputs": [],
   "source": []
  }
 ],
 "metadata": {
  "kernelspec": {
   "display_name": "Python 2",
   "language": "python",
   "name": "python2"
  },
  "language_info": {
   "codemirror_mode": {
    "name": "ipython",
    "version": 2
   },
   "file_extension": ".py",
   "mimetype": "text/x-python",
   "name": "python",
   "nbconvert_exporter": "python",
   "pygments_lexer": "ipython2",
   "version": "2.7.15"
  }
 },
 "nbformat": 4,
 "nbformat_minor": 2
}
