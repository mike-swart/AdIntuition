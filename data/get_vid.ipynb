{
 "cells": [
  {
   "cell_type": "code",
   "execution_count": 1,
   "metadata": {},
   "outputs": [],
   "source": [
    "import pandas as pd\n",
    "import sqlite3\n",
    "import matplotlib.pyplot as plt\n",
    "import matplotlib\n",
    "import numpy as np\n",
    "import isodate\n",
    "import urltools\n",
    "import urllib\n",
    "from scipy.stats import mannwhitneyu\n",
    "import re\n",
    "import os.path\n",
    "from langdetect import detect\n",
    "import string\n",
    "import nltk\n",
    "from nltk.tokenize import sent_tokenize\n",
    "from sklearn.feature_extraction.text import CountVectorizer, TfidfTransformer\n",
    "import fastcluster\n",
    "from sklearn.metrics.pairwise import euclidean_distances, cosine_distances\n",
    "from scipy.spatial.distance import squareform\n",
    "import sys\n",
    "from scipy.cluster.hierarchy import fcluster, dendrogram\n",
    "from nltk.stem.porter import PorterStemmer\n",
    "import warnings\n",
    "warnings.filterwarnings('ignore')\n",
    "sys.setrecursionlimit(100000)\n",
    "matplotlib.style.use('ggplot')"
   ]
  },
  {
   "cell_type": "markdown",
   "metadata": {},
   "source": [
    "## YouTube - Exploratory Analyses\n",
    "### Loading the dataset\n",
    "First, let us load the dataset from the database."
   ]
  },
  {
   "cell_type": "code",
   "execution_count": 2,
   "metadata": {},
   "outputs": [],
   "source": [
    "con = sqlite3.connect('./youtube.db')\n",
    "video = pd.read_sql_query('''SELECT v.autoId as autoId, \n",
    "                                    v.id as id,\n",
    "                                    v.categoryId as categoryId,\n",
    "                                    v.channelId as channelId,\n",
    "                                    v.publishedAt as publishedAt,\n",
    "                                    v.title as title,\n",
    "                                    v.description as description,\n",
    "                                    v.viewCount as viewCount,\n",
    "                                    v.likeCount as likeCount,\n",
    "                                    v.dislikeCount as dislikeCount,\n",
    "                                    v.favoriteCount as favoriteCount,\n",
    "                                    v.commentCount as commentCount,\n",
    "                                    v.duration as duration,\n",
    "                                    v.defaultLanguage as defaultLanguage,\n",
    "                                    c.title as channelTitle,\n",
    "                                    c.description as channelDescription,\n",
    "                                    c.publishedAt as channelPublishedAt,\n",
    "                                    c.viewCount as channelViewCount,\n",
    "                                    c.commentCount as channelCommentCount,\n",
    "                                    c.subscriberCount as channelSubscriberCount,\n",
    "                                    c.videoCount as channelVideoCount,\n",
    "                                    c.country as channelCountry\n",
    "                                    from video v left join channel c on v.channelId = c.id''', con)\n",
    "url = pd.read_sql_query('SELECT * from urlNumber', con)\n",
    "urlResolve = pd.read_sql_query('SELECT * from urlResolve', con)\n",
    "category = pd.read_sql_query('SELECT * from category', con)\n",
    "channel = pd.read_sql_query('SELECT * from channel', con)\n",
    "captions = pd.read_sql_query('SELECT * FROM captions', con)"
   ]
  },
  {
   "cell_type": "markdown",
   "metadata": {},
   "source": [
    "Next, let's examine the count of videos we collected. The tables are ``video``, ``url``, ``urlResolve``, and ``category``."
   ]
  },
  {
   "cell_type": "code",
   "execution_count": 3,
   "metadata": {},
   "outputs": [
    {
     "data": {
      "text/plain": [
       "(515999, 22)"
      ]
     },
     "execution_count": 3,
     "metadata": {},
     "output_type": "execute_result"
    }
   ],
   "source": [
    "video.shape"
   ]
  },
  {
   "cell_type": "code",
   "execution_count": 4,
   "metadata": {},
   "outputs": [
    {
     "data": {
      "text/plain": [
       "['autoId',\n",
       " 'id',\n",
       " 'categoryId',\n",
       " 'channelId',\n",
       " 'publishedAt',\n",
       " 'title',\n",
       " 'description',\n",
       " 'viewCount',\n",
       " 'likeCount',\n",
       " 'dislikeCount',\n",
       " 'favoriteCount',\n",
       " 'commentCount',\n",
       " 'duration',\n",
       " 'defaultLanguage',\n",
       " 'channelTitle',\n",
       " 'channelDescription',\n",
       " 'channelPublishedAt',\n",
       " 'channelViewCount',\n",
       " 'channelCommentCount',\n",
       " 'channelSubscriberCount',\n",
       " 'channelVideoCount',\n",
       " 'channelCountry']"
      ]
     },
     "execution_count": 4,
     "metadata": {},
     "output_type": "execute_result"
    }
   ],
   "source": [
    "list(video.columns.values)"
   ]
  },
  {
   "cell_type": "code",
   "execution_count": 5,
   "metadata": {},
   "outputs": [
    {
     "data": {
      "text/plain": [
       "(405471, 4)"
      ]
     },
     "execution_count": 5,
     "metadata": {},
     "output_type": "execute_result"
    }
   ],
   "source": [
    "url.shape"
   ]
  },
  {
   "cell_type": "code",
   "execution_count": 6,
   "metadata": {},
   "outputs": [
    {
     "data": {
      "text/plain": [
       "['autoId', 'videoId', 'url', 'lineNumber']"
      ]
     },
     "execution_count": 6,
     "metadata": {},
     "output_type": "execute_result"
    }
   ],
   "source": [
    "list(url.columns.values)"
   ]
  },
  {
   "cell_type": "code",
   "execution_count": 7,
   "metadata": {},
   "outputs": [
    {
     "data": {
      "text/plain": [
       "(660009, 5)"
      ]
     },
     "execution_count": 7,
     "metadata": {},
     "output_type": "execute_result"
    }
   ],
   "source": [
    "urlResolve.shape"
   ]
  },
  {
   "cell_type": "code",
   "execution_count": 8,
   "metadata": {},
   "outputs": [
    {
     "data": {
      "text/plain": [
       "['autoId', 'urlId', 'url', 'urlOrder', 'code']"
      ]
     },
     "execution_count": 8,
     "metadata": {},
     "output_type": "execute_result"
    }
   ],
   "source": [
    "list(urlResolve.columns.values)"
   ]
  },
  {
   "cell_type": "code",
   "execution_count": 9,
   "metadata": {},
   "outputs": [
    {
     "data": {
      "text/plain": [
       "(32, 3)"
      ]
     },
     "execution_count": 9,
     "metadata": {},
     "output_type": "execute_result"
    }
   ],
   "source": [
    "category.shape"
   ]
  },
  {
   "cell_type": "code",
   "execution_count": 10,
   "metadata": {},
   "outputs": [
    {
     "data": {
      "text/plain": [
       "['autoId', 'id', 'key']"
      ]
     },
     "execution_count": 10,
     "metadata": {},
     "output_type": "execute_result"
    }
   ],
   "source": [
    "list(category.columns.values)"
   ]
  },
  {
   "cell_type": "markdown",
   "metadata": {},
   "source": [
    "### Examining the videos\n",
    "Next, let's examine the categories of the videos."
   ]
  },
  {
   "cell_type": "code",
   "execution_count": 11,
   "metadata": {},
   "outputs": [
    {
     "data": {
      "text/plain": [
       "count    515999.000000\n",
       "mean        445.870275\n",
       "std        1201.335379\n",
       "min           0.000000\n",
       "25%          61.000000\n",
       "50%         172.000000\n",
       "75%         366.000000\n",
       "max       86400.000000\n",
       "Name: duration, dtype: float64"
      ]
     },
     "execution_count": 11,
     "metadata": {},
     "output_type": "execute_result"
    }
   ],
   "source": [
    "video['duration'] = video['duration'].map(lambda x: isodate.parse_duration(x).total_seconds())\n",
    "video['duration'].describe()"
   ]
  },
  {
   "cell_type": "markdown",
   "metadata": {},
   "source": [
    "### Manipulating the URLs"
   ]
  },
  {
   "cell_type": "markdown",
   "metadata": {},
   "source": [
    "Add functions that dissect the URL to reveal the various parts."
   ]
  },
  {
   "cell_type": "code",
   "execution_count": 12,
   "metadata": {},
   "outputs": [],
   "source": [
    "def manipulate_urls(x):\n",
    "    parsed_url = urltools.parse(x.url)\n",
    "    \n",
    "    sd = parsed_url.subdomain.lower()\n",
    "    if sd.startswith('www.'):\n",
    "        sd = sd[4:]\n",
    "    \n",
    "    return pd.Series([parsed_url.domain.lower(), \n",
    "                      urllib.unquote(parsed_url.path).lower(),\n",
    "                      sd,\n",
    "                      urllib.unquote(parsed_url.query).lower()])"
   ]
  },
  {
   "cell_type": "code",
   "execution_count": 13,
   "metadata": {},
   "outputs": [
    {
     "data": {
      "text/plain": [
       "['autoId', 'urlId', 'url', 'urlOrder', 'code']"
      ]
     },
     "execution_count": 13,
     "metadata": {},
     "output_type": "execute_result"
    }
   ],
   "source": [
    "list(urlResolve.columns.values)"
   ]
  },
  {
   "cell_type": "code",
   "execution_count": 14,
   "metadata": {},
   "outputs": [],
   "source": [
    "urlResolve[['urlDomain', 'urlPath', 'urlSubDomain', 'urlParams']] = urlResolve.apply(manipulate_urls, axis=1)"
   ]
  },
  {
   "cell_type": "markdown",
   "metadata": {},
   "source": [
    "Mark all the following patterns as affiliate links."
   ]
  },
  {
   "cell_type": "code",
   "execution_count": 25,
   "metadata": {},
   "outputs": [],
   "source": [
    "def check_affiliate_link(x):\n",
    "    params_list = map(lambda y: y.split('=')[0], x.urlParams.split('&'))\n",
    "    regexp_clickbank = re.compile(r'.*.hop')\n",
    "    regexp_anrdoezrs = re.compile(r'/click-[0-9]+-[0-9]+')\n",
    "    regexp_buyeasy_1 = re.compile(r'/cashback.*')\n",
    "    regexp_buyeasy_2 = re.compile(r'/redirect.*')\n",
    "    regexp_admitad_1 = re.compile(r'/g/.*')\n",
    "    regexp_admitad_2 = re.compile(r'/goto/.*')\n",
    "    regexp_impactradius = re.compile(r'/c/[0-9]+/[0-9]+/[0-9]+')\n",
    "    regexp_pepperjam = re.compile(r'/t/[0-9]-[0-9]+-[0-9]+-[0-9]+')\n",
    "    \n",
    "    if ((x.urlDomain == 'affiliaxe' and 'aff_id' in params_list) or\n",
    "        (x.urlDomain == 'aliexpress' and 'af' in params_list) or\n",
    "        #(x.urlDomain == 'amazon' and 'tag' in params_list) or\n",
    "        (x.urlDomain == 'apessay' and 'rid' in params_list) or\n",
    "        #(x.urlDomain == 'apple' and 'at' in params_list) or\n",
    "        (x.urlDomain == 'audiojungle' and 'ref' in params_list) or\n",
    "        (x.urlDomain == 'awin1' and 'awinaffid' in params_list) or\n",
    "        (x.urlDomain == 'zanox' and x.urlPath == '/ppc') or\n",
    "        (x.urlDomain == 'zenaps' and x.urlPath == '/rclick.php') or\n",
    "        (x.urlDomain == 'banggood' and 'p' in params_list) or\n",
    "        (x.urlDomain == 'bookdepository' and 'a_aid' in params_list) or\n",
    "        (x.urlDomain == 'booking' and 'aid' in params_list) or\n",
    "        (x.urlDomain == 'ebay' and 'campid' in params_list) or\n",
    "        (x.urlDomain == 'envato' and 'ref' in params_list) or\n",
    "        (x.urlDomain == 'gtomegaracing' and 'tracking' in params_list) or\n",
    "        (x.urlDomain == 'hotellook' and 'marker' in params_list) or\n",
    "        (x.urlDomain == 'hotmart' and 'a' in params_list) or\n",
    "        (x.urlDomain == 'kontrolfreek' and 'a_aid' in params_list) or\n",
    "        (x.urlDomain == 'shareasale' and x.urlPath == '/r.cfm') or\n",
    "        (x.urlDomain == 'shareasale' and x.urlPath == '/m-pr.cfm') or\n",
    "        (x.urlDomain == 'shareasale' and x.urlPath == '/u.cfm') or\n",
    "        (x.urlDomain == 'rstyle') or\n",
    "        (x.urlDomain == 'shopstyle') or\n",
    "        (x.urlDomain == 'makeupgeek' and 'acc' in params_list) or\n",
    "        (x.urlDomain == 'olymptrade' and 'affiliate_id' in params_list) or\n",
    "        (x.urlDomain == 'videohive' and 'ref' in params_list) or\n",
    "        (x.urlDomain == 'avantlink' and 'pw' in params_list) or\n",
    "        (x.urlDomain == 'avangate' and 'AFFILIATE'.lower() in params_list) or\n",
    "        (x.urlDomain == 'redirectingat' and 'id' in params_list) or\n",
    "        (x.urlDomain == 'linksynergy' and x.urlSubDomain == 'click' and 'id' in params_list) or\n",
    "        (x.urlDomain == 'audiobooks' and 'a_aid' in params_list and 'a_bid' in params_list) or\n",
    "        (x.urlDomain == 'buyeasy' and regexp_buyeasy_1.search(x.urlPath)) or\n",
    "        (x.urlDomain == 'buyeasy' and regexp_buyeasy_2.search(x.urlPath)) or\n",
    "        (x.urlDomain == 'clickbank' and regexp_clickbank.search(x.urlSubDomain)) or\n",
    "        \n",
    "        ((x.urlDomain == '7eer' or x.urlDomain == 'evyy' or x.urlDomain == 'ojrq' ) and regexp_impactradius.search(x.urlPath)) or\n",
    "        \n",
    "        ((x.urlDomain == 'anrdoezrs' or x.urlDomain == 'dpbolvw' or x.urlDomain == 'kqzyfj' or x.urlDomain == 'jdoqocy' or x.urlDomain == 'tkqlhce') and regexp_anrdoezrs.search(x.urlPath)) or\n",
    "        (x.urlDomain == 'emjcd') or\n",
    "        (x.urlDomain == 'dotomi') or\n",
    "        (x.urlDomain == 'qksrv') or\n",
    "        \n",
    "        (x.urlDomain == 'zaful' and 'lkid' in params_list) or\n",
    "        (x.urlDomain == 'codecanyon' and 'ref' in params_list) or\n",
    "        (x.urlDomain == 'graphicriver' and 'ref' in params_list) or\n",
    "        (x.urlDomain == 'themeforest' and 'ref' in params_list) or\n",
    "        (x.urlDomain == 'admitad' and (regexp_admitad_1.search(x.urlPath) or regexp_admitad_2.search(x.urlPath))) or\n",
    "        (x.urlDomain == 'flipkart' and 'affid' in params_list) or\n",
    "        \n",
    "        ((x.urlDomain == 'pntra' or\n",
    "        x.urlDomain == 'gopjn' or\n",
    "        x.urlDomain == 'pjtra' or\n",
    "        x.urlDomain == 'pjatr' or\n",
    "        x.urlDomain == 'pntrs' or\n",
    "        x.urlDomain == 'pntrac') and (regexp_pepperjam.search(x.urlPath)))\n",
    "       ):\n",
    "        \n",
    "            return True\n",
    "        \n",
    "    return False\n",
    "\n",
    "urlResolve['affiliateLink'] = urlResolve.apply(check_affiliate_link, axis=1)"
   ]
  },
  {
   "cell_type": "markdown",
   "metadata": {},
   "source": [
    "How many of these resolved links were affiliate in nature?"
   ]
  },
  {
   "cell_type": "code",
   "execution_count": 26,
   "metadata": {},
   "outputs": [
    {
     "data": {
      "text/plain": [
       "False    651875\n",
       "True       8134\n",
       "Name: affiliateLink, dtype: int64"
      ]
     },
     "execution_count": 26,
     "metadata": {},
     "output_type": "execute_result"
    }
   ],
   "source": [
    "urlResolve['affiliateLink'].value_counts()"
   ]
  },
  {
   "cell_type": "markdown",
   "metadata": {},
   "source": [
    "How did these resolved affiliate links vary by domain?"
   ]
  },
  {
   "cell_type": "code",
   "execution_count": 27,
   "metadata": {},
   "outputs": [],
   "source": [
    "affiliate_urls = url[url['autoId'].isin(urlResolve[urlResolve['affiliateLink'] == True].urlId.tolist())]"
   ]
  },
  {
   "cell_type": "markdown",
   "metadata": {},
   "source": [
    "How many URLs were retained?"
   ]
  },
  {
   "cell_type": "code",
   "execution_count": 28,
   "metadata": {},
   "outputs": [
    {
     "data": {
      "text/plain": [
       "(4503, 4)"
      ]
     },
     "execution_count": 28,
     "metadata": {},
     "output_type": "execute_result"
    }
   ],
   "source": [
    "affiliate_urls.shape"
   ]
  },
  {
   "cell_type": "markdown",
   "metadata": {},
   "source": [
    "How many videos do these URLs correspond to?"
   ]
  },
  {
   "cell_type": "code",
   "execution_count": 29,
   "metadata": {},
   "outputs": [
    {
     "data": {
      "text/plain": [
       "(1717, 22)"
      ]
     },
     "execution_count": 29,
     "metadata": {},
     "output_type": "execute_result"
    }
   ],
   "source": [
    "affiliate_videos = video[video['id'].isin(affiliate_urls['videoId'].tolist())].copy()\n",
    "affiliate_videos.shape"
   ]
  },
  {
   "cell_type": "markdown",
   "metadata": {},
   "source": [
    "#### Affiliate video duration\n",
    "How do the duration of the affiliate videos vary?"
   ]
  },
  {
   "cell_type": "code",
   "execution_count": 30,
   "metadata": {},
   "outputs": [
    {
     "data": {
      "text/plain": [
       "count     1717.000000\n",
       "mean       335.694234\n",
       "std        654.663628\n",
       "min          0.000000\n",
       "25%         75.000000\n",
       "50%        146.000000\n",
       "75%        379.000000\n",
       "max      11718.000000\n",
       "Name: duration, dtype: float64"
      ]
     },
     "execution_count": 30,
     "metadata": {},
     "output_type": "execute_result"
    }
   ],
   "source": [
    "affiliate_videos['duration'].describe()"
   ]
  },
  {
   "cell_type": "code",
   "execution_count": 31,
   "metadata": {},
   "outputs": [],
   "source": [
    "def get_language(x):\n",
    "    language = 'Unknown'\n",
    "    try:\n",
    "        language = detect(x.description.strip())\n",
    "    except:\n",
    "        pass\n",
    "    return language"
   ]
  },
  {
   "cell_type": "code",
   "execution_count": 33,
   "metadata": {
    "scrolled": true
   },
   "outputs": [
    {
     "name": "stdout",
     "output_type": "stream",
     "text": [
      "https://www.youtube.com/watch?v=C4bI-liLXws\n",
      "👉Покупал Спиннер тут: http://ali.pub/1kcdmo\n",
      " 💲 КЭШБЭК для Алиэкспресс: http://bit.ly/2hFzVY9\n",
      "✅ Моя партнерка на YouTube: https://goo.gl/5HrRwB\n",
      "☑️ Я ВКонтакте: https://vk.com/alexboykochannel\n",
      "-------\n",
      "_______________________________________________________________________________\n",
      "https://www.youtube.com/watch?v=5btF-Re4K38\n",
      "How to replace front brake pads on a Suzuki Ltz400\n",
      "Front Brake Pads Replacement on a Suzuki LTZ 400 LTZ400\n",
      "This is a tutorial video that shows you how to replace front brake pads on a Suzuki LTZ 400 a\n",
      "_______________________________________________________________________________\n",
      "https://www.youtube.com/watch?v=m_MUY-StJk0\n",
      "Battlefield 4 (BF4) M16A4 loadout and military weapon setup to represent the USMC. Let's take a look at the  attachments and accessories used in real life to role play as this military force.\n",
      "________\n",
      "_______________________________________________________________________________\n",
      "https://www.youtube.com/watch?v=h8TVXFeJ4HE\n",
      "Get a sneak peek at the making of THE SELECTION's gorgeous cover!\n",
      "\n",
      "About the book:\n",
      "\n",
      "For thirty-five girls, the Selection is the chance of a lifetime. The opportunity to escape the life laid out for th\n",
      "_______________________________________________________________________________\n",
      "https://www.youtube.com/watch?v=M_V6Gf5jn6U\n",
      "One kiss wasn’t enough to hold us over for THE HEIR on May 5th. Kiera Cass felt the same and so she’s back to read another scene to us!!\n",
      "\n",
      "Subscribe to Epic Reads! - http://goo.gl/2vD4rM\n",
      "\n",
      "Preorder THE \n",
      "_______________________________________________________________________________\n",
      "https://www.youtube.com/watch?v=nqyRHHvbLkw\n",
      "Hit the LIKE button & Make SURE to SUBSCRIBE to Colt!\n",
      "Click to Subscribe: http://bit.ly/Sub2Colt\n",
      "Check out latest ColtCams https://youtu.be/pby5JDZA6OA\n",
      "\n",
      "Editor:\n",
      "https://twitter.com/ColtScratty\n",
      "https:/\n",
      "_______________________________________________________________________________\n",
      "https://www.youtube.com/watch?v=BVVyWcR3las\n",
      "GTA 5 Xbox One / PS4 - Duke O'Death First Person Gameplay & How to Unlock! (Rare Spawn Location) \n",
      "Hope you guys enjoy :)\n",
      "\n",
      "\n",
      "More of Me!\n",
      "\n",
      "•Subscribe: http://bit.ly/Sub2DatSaintsfan\n",
      "•Twitch (Livestream):\n",
      "_______________________________________________________________________________\n",
      "https://www.youtube.com/watch?v=UmnUWYHLFA0\n",
      "Me and Pete are no longer friends. If you enjoyed the video, please be sure to leave a \"Like\" ;)\n",
      "\n",
      "Follow Me on Twitter:\n",
      "https://twitter.com/Joltzdude139\n",
      "\n",
      "Follow Me on Twitch:\n",
      "http://www.twitch.tv/jolt\n",
      "_______________________________________________________________________________\n",
      "https://www.youtube.com/watch?v=MBiZHm-qB4I\n",
      "Aprenda nesse vídeo Como AUMENTAR a VELOCIDADE da sua Internet, tire toda LIMITAÇÃO da Internet através do Gpedit.msc!\n",
      "✅Se Inscreva, CLIQUE AQUI: http://bit.ly/Canal_BPV Vídeos novos de Seg à Sab às 1\n",
      "_______________________________________________________________________________\n",
      "https://www.youtube.com/watch?v=O7XE-VuclfM\n",
      "http://lootcrate.com/THMGaming (10% off with code \"THMGaming\") - DiamondSt4r27 has found a great hack that can get you $100-$500 cash per try!  Level up an be a sTAR!\n",
      "_______________________________________________________________________________\n",
      "https://www.youtube.com/watch?v=G5Rh-k3QvPY\n",
      "Build and Lift your Butt as well as Tone and Shape your legs and Abs with my lower body gym routine! The full workout is listed below for you to screenshot and take with you. If you enjoyed this video\n",
      "_______________________________________________________________________________\n",
      "https://www.youtube.com/watch?v=Srel3yXgXyw\n",
      "Summer might be over for us Brits, but lots of you might still be looking for some swimwear inspiration. Whether you live in the sun (I'm jealous!), are going on holiday (I'm jealous), or are looking \n",
      "_______________________________________________________________________________\n",
      "https://www.youtube.com/watch?v=low9-yRhNU0\n",
      "►Info & Cheap Booking! : http://www.hotelz.tv/info/greece/paradisi/XsPtfIXWvX/naturist-angel-nudist-club-hotel.html\r\n",
      "►Best Hotels in Paradisi : http://www.hotelz.tv/search/Greece/Paradisi/1.html\r\n",
      "\r\n",
      "Se\n",
      "_______________________________________________________________________________\n",
      "https://www.youtube.com/watch?v=LB0e6t8AUfc\n",
      "Zcode system review\n",
      "To Continue / buy product please click : \n",
      "http://bit.ly/2ajKe1b\n",
      "\n",
      "zcode system 2016\n",
      "zcode system\n",
      "zcode line reversals\n",
      "zcode system winning sport prections\n",
      "zcode review\n",
      "https://www.y\n",
      "_______________________________________________________________________________\n",
      "https://www.youtube.com/watch?v=51lAuSsD2Og\n",
      "CLICK THIS LINK TO ENTER: http://bit.ly/2qVSITn\n",
      "\n",
      "Check prices now:\n",
      "Amazon: http://amzn.to/2q7GWTa\n",
      "eBay: http://ebay.to/2q5tosX\n",
      "\n",
      "Support us on Patreon\n",
      "https://www.patreon.com/hardwareunboxed\n",
      "\n",
      "Giveaway \n",
      "_______________________________________________________________________________\n",
      "https://www.youtube.com/watch?v=n_6qS-3cdF8\n",
      "Download Template Motion Graphics - Falling Glitter Streaks | VideoHive\n",
      "\n",
      "Download Here : http://tinyurl.com/ldb2yk6\n",
      "\n",
      "Category : Motion Graphics\n",
      "\n",
      "Its a multipurpose background animation suited for\n",
      "broa\n",
      "_______________________________________________________________________________\n",
      "https://www.youtube.com/watch?v=ThR6oUtEeso\n",
      "I GOT A NEW PC! Its going to be great for gaming! Let me know what PC you have in the comments! Also SMASH A LIKE! \n",
      "● 5% Off  Ironside Computers Using Code \"OGXRAYZ\" Click here to customize your own P\n",
      "_______________________________________________________________________________\n",
      "https://www.youtube.com/watch?v=yFdvrdDsdvg\n",
      "http://www.learnpiano30days.com\n",
      "EASY piano songs: \"Eastenders theme tune\" \n",
      "Step-by-step beginners' instructions for piano and keyboard - anyone can play this!\n",
      "To learn HUNDREDS of easy piano songs, vi\n",
      "_______________________________________________________________________________\n",
      "https://www.youtube.com/watch?v=H4Xxx0N_nqI\n",
      "Hey everyone, here is another trickshot tutorial from advanced warfare!\n",
      "Enjoy!\n",
      "shown to me by - https://www.youtube.com/channel/UC6F1k9jSw8rchg5iorZbwWA\n",
      "\n",
      "----------------------------------------------\n",
      "_______________________________________________________________________________\n",
      "https://www.youtube.com/watch?v=keqdaZHcyDY\n",
      "GTA 5 Online FLYING GLITCH! - Funny Glide Glitch! (How To / Tutorial) [GTA V]\n",
      "▶Hope you guys enjoy :)\n",
      "\n",
      "\n",
      "More of Me!\n",
      "\n",
      "•Subscribe: http://bit.ly/Sub2DatSaintsfan\n",
      "•Twitch (Livestream): http://www.twitch.\n",
      "_______________________________________________________________________________\n",
      "https://www.youtube.com/watch?v=8gO_lxThc1M\n",
      "Download the song: http://smarturl.it/EssentialsPMJ\n",
      "Sheet Music:  http://bit.ly/MapsSheet\n",
      "PMJ Tix / Merch / Blog: http://www.postmodernjukebox.com\n",
      "Folks, I want to introduce you to Morgan James.  She \n",
      "_______________________________________________________________________________\n",
      "https://www.youtube.com/watch?v=YDZ8mAHxDKo\n",
      "NEW Ali-A video – Hit “LIKE” and enjoy! :D\n",
      "● Follow me on Twitter: http://twitter.com/OMGitsAliA\n",
      "● NEW Ali-A tshirts! – http://www.AliAshop.com/\n",
      "\n",
      "Enjoy a NEW Ali-A video – Thanks for watching! \n",
      "\n",
      "► Fo\n",
      "_______________________________________________________________________________\n",
      "https://www.youtube.com/watch?v=nenTpZP2tI8\n",
      "like for flush, these sick gun glitch animations, orange hit markers, and another shit title!\n",
      "\n",
      "Subscribe for the best vids! http://bit.ly/SubTheMancat\n",
      "\n",
      "MLG Stream! http://tv.majorleaguegaming.com/chan\n",
      "_______________________________________________________________________________\n",
      "https://www.youtube.com/watch?v=-zjZIz5oX_Y\n",
      "Saiba mais sobre alimentação saudável além dos benefícios da Maçã:\n",
      "\n",
      "* Programa 30 Receitas de Shakes para 30 Dias\n",
      "Veja aqui: https://go.hotmart.com/V5430291Y\n",
      "\n",
      "* 50 Receitas Para Emagrecer De Vez\n",
      "Veja \n",
      "_______________________________________________________________________________\n",
      "https://www.youtube.com/watch?v=-Ryo8GRUX3A\n",
      "To find out more or purchase, click below!\n",
      "Cyntur JumperPack Mini here: http://bit.ly/1Mjh2Cc\n",
      "\n",
      "Thanks for watching our video review! If you have any questions, leave them in the comments below!\n",
      "\n",
      "-----\n",
      "_______________________________________________________________________________\n",
      "https://www.youtube.com/watch?v=cU25-z_9YEI\n",
      "Get Loot! http://lootcrate.com/mac Promo: MAC\n",
      "Facebook: http://facebook.com/themeloniemac\n",
      "Twitter: http://twitter.com/meloniemac\n",
      "TwitchTV: http://twitch.tv/meloniemac\n",
      "Instagram: http://instagram.com/t\n",
      "_______________________________________________________________________________\n",
      "https://www.youtube.com/watch?v=KximRXjNpTk\n",
      "今回使ったころころローラーはこちら→http://bit.ly/2ezWZak\n",
      "購入したサイトはこちら→http://bit.ly/2dKiiAZ\n",
      "普段動かさない筋肉の上に脂肪がつきます。とは言っても普通に暮らしているだけでは使う筋肉は限られています。マッサージすることで筋肉が活性化され、脂肪がつきにくくなります。もちろん筋トレや有酸素運動、それから食事管理と合わせて行った方が効果は高いですが、こ\n",
      "_______________________________________________________________________________\n",
      "https://www.youtube.com/watch?v=ujG5a-wHmEI\n",
      "To see the ULTIMATE guide on coconut oil uses and benefits, click the link below!\n",
      "http://ed9235wshl0hy462tst2ri4f7g.hop.clickbank.net/\n",
      "__\n",
      "\n",
      "Natural beauty and health products are dramatically increasin\n",
      "_______________________________________________________________________________\n",
      "https://www.youtube.com/watch?v=EH5O-360-gE\n",
      "I wanted to put together a quick funny video about how I was feeling the first few months of pregnancy. I wish I could say most of these symptoms went away but sadly they have not. Hope you like the v\n",
      "_______________________________________________________________________________\n",
      "https://www.youtube.com/watch?v=eWLrZehSlGE\n",
      "Step by step video on creating a handmade Christmas greeting card using stamping and die cutting techniques.\n",
      "http://www.clips-n-cuts.com/2014/11/sss-november-card-kit-card-2/\n",
      "——— S U P P L I E S ———\n",
      "\n",
      "\n",
      "_______________________________________________________________________________\n"
     ]
    },
    {
     "name": "stdout",
     "output_type": "stream",
     "text": [
      "https://www.youtube.com/watch?v=Gdu9-91n2m0\n",
      "►India To Europe Trip 2016 All Videos In One Playlist - https://goo.gl/TtFt0Z\n",
      "\n",
      "1. Oman Air - Bengaluru To Muscat - https://youtu.be/3o0GQArEjYQ\n",
      "2. Oman Air - Muscat To London - https://youtu.be/KTsJCm\n",
      "_______________________________________________________________________________\n",
      "https://www.youtube.com/watch?v=uF7N-hRzrOU\n",
      "sony xb50ap sound quality test Part -2 - https://www.youtube.com/watch?v=9kZbJhJAuGo\n",
      "\n",
      "A Short and Quick video for sony xb 450 ap ( sony mdr xb450ap ) model headphones with mic from flipkart and also s\n",
      "_______________________________________________________________________________\n",
      "https://www.youtube.com/watch?v=zpkL-hgTVPk\n",
      "Subscribe Now & Add Us As A Friend\n",
      "http://www.MoTv1.com\n",
      "http://FreeMaxoderm.com\n",
      "http://SmokinOrJokin.com\n",
      "\n",
      "All videos received that are broad casted through the MoTV1 broadcasting arms ( internet,\n",
      "_______________________________________________________________________________\n",
      "https://www.youtube.com/watch?v=eA1v-uwFqaM\n",
      "Как  согреваться  осенью или зимой? интересные  и необычные способы как быстро согреться! \n",
      "• Группа вк -https://vk.com/godalexchannel\n",
      "• Вопросs/предложения godalex123a@gmail.com\n",
      "• РЕКЛАМА http://link.\n",
      "_______________________________________________________________________________\n",
      "https://www.youtube.com/watch?v=QTTS-t4RIl4\n",
      "как сделать бантик из атласной ленты бант из лент мастер класс бантик своими руками красивый бант Quick & Easy Satin Ribbon Flower - Tutorial\n",
      "Кружева 100% хлопок на алиэкспресс http://ali.pub/z3xsj\n",
      "Кр\n",
      "_______________________________________________________________________________\n",
      "https://www.youtube.com/watch?v=y4CR-H1KNCE\n",
      "subscribe now\n",
      "https://www.youtube.com/channel/UCZSmuOpBjyzfJcUjFL0H9gw?sub_confirmation=1\n",
      "\n",
      "\n",
      "related video\n",
      "https://www.youtube.com/watch?v=aHuwMGUuC3c\n",
      "click me to buy\n",
      "http://1d93bhv0ex56-hcpxfj69nyz86.\n",
      "_______________________________________________________________________________\n",
      "https://www.youtube.com/watch?v=5qwd9DaXxc8\n",
      "Sonu tula majhyavr Barosa nahi ka ||college students\n",
      "Top  Recommended DSLR CAMERA \n",
      "\n",
      "Less than 30000 - http://fkrt.it/EKRdG!NNNN\n",
      "More than 30001 - http://fkrt.it/Elvjx!NNNN\n",
      "More than 40000 - http://fkr\n",
      "_______________________________________________________________________________\n",
      "https://www.youtube.com/watch?v=FtB3PL9hcWk\n",
      "L'Oreal Nude Colour Riche La Palette: http://bit.ly/1IFFb2A\n",
      "\n",
      "Q & A https://www.youtube.com/watch?v=XGqH2MuIkl4\n",
      "Daily Vlog Channel: http://www.youtube.com/itsjudyslife\n",
      "Facebook me your request http://w\n",
      "_______________________________________________________________________________\n",
      "https://www.youtube.com/watch?v=rq2YBy21_-8\n",
      "In this video BLACK OPS 3 NEW LEAKED DLC CAMOS! BLACK OPS 3 LEAKED SUPPLY DROP CAMO'S COMING SOON! (BO3 DLC camos) I cover some more BO3 DLC camos coming to Call of Duty Black Ops 3 very soon in suppl\n",
      "_______________________________________________________________________________\n",
      "https://www.youtube.com/watch?v=SCOKo-hFn7o\n",
      "TRX Workout: Womens Leg and Ab Workout\n",
      "Get your TRX Straps HERE: http://bit.ly/TRX_WAW\n",
      "\n",
      "For MORE workouts visit: http://bit.ly/WomensArmSecrets\n",
      "\n",
      "Facebook: http://www.facebook.com/WomensAbWorkout\n",
      "Twitt\n",
      "_______________________________________________________________________________\n",
      "https://www.youtube.com/watch?v=wDVRZ-3iq28\n",
      "http://mlks.co/1vzEE\n",
      "\n",
      "PLEASE SUBSCRIBE! It's Free ;-)\n",
      "\n",
      "Check Out Just Fab: http://bit.ly/MB7wcB\n",
      "\n",
      "OUR ONLINE BOUTIQUE IS NOW OPEN:\n",
      "http://www.ShopAllThingsFabulous101.com\n",
      "\n",
      "For More Fashion & Beauty Fol\n",
      "_______________________________________________________________________________\n",
      "https://www.youtube.com/watch?v=4oU9jNVWbs8\n",
      "Lizlizlive  KHAKI LOOKBOOK  |  8 DIFFERENT LOOKS !  khaki styles \n",
      "All things olive  khaki outfits  khaki in fashion Fashion  OOTD  Khaki knitwear  Khaki  Prettylittlething ASOS  Missguided  Boohoo  Sp\n",
      "_______________________________________________________________________________\n",
      "https://www.youtube.com/watch?v=gwSE-ziaWn8\n",
      "Today I bring you this amazing top 5 ToO plays!\n",
      "Follow me on Twitter: https://twitter.com/dpjsc08\n",
      "The Salty Regime - https://youtu.be/GYwDBmggza0\n",
      " \n",
      "Facebook Page: http://goo.gl/8l8ekh\n",
      "\n",
      "Get A Discount \n",
      "_______________________________________________________________________________\n",
      "https://www.youtube.com/watch?v=y4IfxxmlsVc\n",
      "Bajaj finance emi card details | How bajaj finance emi card look like\n",
      "\n",
      "Click this link and get your flipkart app and exiting discount offer:\n",
      "http://affiliate.flipkart.com/install-app?affid=neerajtiw2\n",
      "\n",
      "_______________________________________________________________________________\n",
      "https://www.youtube.com/watch?v=kWOQ53aO5oY\n",
      "BUY COINS - FAST & RELIABLE: https://coins.battilay.net\n",
      "Use code: ITANI for 5% off\n",
      "Cheap PSN Cards & Microsoft Points: https://www.g2a.com/r/itani\n",
      "Use code ITANI for discount\n",
      "\n",
      "FIFA 15 if shaqiri 81 in\n",
      "_______________________________________________________________________________\n",
      "https://www.youtube.com/watch?v=9eRSH-Adtbw\n",
      "Click The Like Button & Subscribe For More Daily GTA 5 Videos! GTA 5 Rare Vehicles - Duke O'Death, Race Cars, & More Online! (GTA 5 Rare & Secret Cars Online Job)\n",
      "\n",
      "Intro Maker\n",
      "https://www.youtube.com/\n",
      "_______________________________________________________________________________\n",
      "https://www.youtube.com/watch?v=kaei-p-R3yo\n",
      "👍Buy Best Monitor: http://amzn.to/1FuEXrP\n",
      "\n",
      "We Had Seen a Lot of G-Sync and FreeSync Monitors But Again an G-Sync Monitor from Asus.\n",
      "This Asus G-Sync Monitor is 34 Inch Monitor But In Height it is You\n",
      "_______________________________________________________________________________\n",
      "https://www.youtube.com/watch?v=tJUx-2vcRNg\n",
      "ПОКУПАЛ ТУТ - http://ali.pub/m7yoa и http://ali.pub/stoy0\n",
      "========================================================\n",
      "7% СКИДКА на ВСЕ товары Алиэкспресс тут - https://cashback.epn.bz/?i=bfc07\n",
      "8,5% ЗАРАБ\n",
      "_______________________________________________________________________________\n",
      "https://www.youtube.com/watch?v=n-y7bN8OhEE\n",
      "*** OPEN FOR OUTFIT DETS ***\n",
      "\n",
      "Adidas Superstar originals shoes are coming back in a major way! I can't believe how often I see them on instagram and fashion bloggers recently. I wore these when I was \n",
      "_______________________________________________________________________________\n",
      "https://www.youtube.com/watch?v=mXp2jrcOzvw\n",
      "*** OPEN FOR OUTFIT DETS ***\n",
      "\n",
      "SUBSCRIBE TO MY FASHION BLOG: https://www.misslouie.com\n",
      "FOLLOW MY FASHION INSTAGRAM FEED: https://instagram.com/missejlouie/\n",
      "\n",
      "SUBSCRIBE TO MY FASHION BLOG: https://www.mi\n",
      "_______________________________________________________________________________\n",
      "https://www.youtube.com/watch?v=jx6p6qJ4Msk\n",
      "Спиннер купил тут: http://got.by/1clc83\n",
      "Гибридный подшипник: http://got.by/1clcie и тут: http://got.by/1cld4r\n",
      "Керамический: http://got.by/1clcrq\n",
      "\n",
      "Подключиться к партнёрской программе и зарабатывать де\n",
      "_______________________________________________________________________________\n",
      "https://www.youtube.com/watch?v=bNFA-7vCHpg\n",
      "Venha Obter Seu Certificado Do Queima de 48Horas \n",
      "Acesse Aqui:http://bit.ly/SistemaQ48horas\n",
      "******************************************************************************\n",
      "Cadastre seu E-mail e Receba \n",
      "_______________________________________________________________________________\n",
      "https://www.youtube.com/watch?v=k-BeKkOA7iM\n",
      "Saiba nesse vídeo um pouco sobre a Dieta de 21 Dias do Dr. Rodolfo Aurelio.\n",
      "Link para acessar a Dieta de 21 Dias Completa: http://bit.ly/2nTIQYm\n",
      "_______________________________________________________________________________\n",
      "https://www.youtube.com/watch?v=vD2flo_zf9o\n",
      "24 hour emergency water damage restoration foster city (650) 425-3657 offering 24/7 Emergency services for water, sewer, and flood damage with the fastest cleanup of mold, and fire damage.\n",
      "\n",
      "Do it your\n",
      "_______________________________________________________________________________\n",
      "https://www.youtube.com/watch?v=FGCZ-sx7fvU\n",
      "http://tinyurl.com/35cb3ry   AC Oulu - FC Lahti // Litmanen 1-2 saksarilla (HIGH QUALITY)\n",
      "\n",
      "litmanen saksipotku\n",
      "litmanen ac oulu\n",
      "litmasen saksipotku\n",
      "litmanen lahti oulu\n",
      "litmanen lahti\n",
      "lahti oulu\n",
      "_______________________________________________________________________________\n",
      "https://www.youtube.com/watch?v=ch_D-d1NsdA\n",
      "Some big rumors floating around regarding the next Star Wars Battlefront title, a Rogue Squadron successor and cooperation with the Nintendo Switch!\n",
      "Evelin's channel: https://www.youtube.com/italkwho\n",
      "\n",
      "_______________________________________________________________________________\n",
      "https://www.youtube.com/watch?v=q2SVnCq7dgs\n",
      "- Destiny: Como Completar el Desafío de Crota en la Incursion El Fin de Crota a 390! GUÍA - https://www.youtube.com/watch?v=s__OIxMVDfE\n",
      "- Destiny: Como Completar el Desafió de Ir Yut en la Incursion E\n",
      "_______________________________________________________________________________\n",
      "https://www.youtube.com/watch?v=94bROml-nSw\n",
      "Missy Miller is one of 10 siblings. When she was 5 years old, her big sister, Laurie, died from a brainstem tumor. Laurie was one of the first Doernbecher Freestyle designers. The Miller family faced \n",
      "_______________________________________________________________________________\n",
      "https://www.youtube.com/watch?v=SsqK2C0FRRM\n",
      "How To Stop Bleeding Hemorrhoids? How To Stop Bleeding Internal Hemorrhoids Home Remedy?\n",
      "\n",
      "Click the link below to read more about this fantastic book and how it can help you achieve your goals:\n",
      "http:/\n",
      "_______________________________________________________________________________\n",
      "https://www.youtube.com/watch?v=ed9Mhq4nIn0\n",
      "Apparently NKLO doesn't boost grenade damage so this only works on OP0. Still a fun and easy kill to pull off. If you enjoyed the video, please be sure to leave a \"Like\" ;)\n",
      "\n",
      "Follow Me:\n",
      "https://twitter\n",
      "_______________________________________________________________________________\n",
      "https://www.youtube.com/watch?v=RWQz-fqhPls\n",
      "СПАСИБО ЗА ПРОСМОТР!!\n",
      "Не забудь подписаться на наш канал ► http://www.youtube.com/channel/UCWB44GFJN51kCHne8OpFbhw?sub_confirmation=1\n",
      "=========\n",
      "\n",
      "СМОТРИ ЕЩЕ ИНТЕРЕСНЫЕ РОЛИКИ\n",
      "========\n",
      "https://www.youtu\n",
      "_______________________________________________________________________________\n",
      "https://www.youtube.com/watch?v=0aRykV3CcMI\n",
      "NEW Ali-A video – Hit “LIKE” and enjoy! :D\n",
      "● Follow me on Twitter: http://twitter.com/OMGitsAliA\n",
      "● NEW Ali-A tshirts! – http://www.AliAshop.com/\n",
      "\n",
      "Enjoy a NEW Ali-A video – Thanks for watching! \n",
      "\n",
      "► Fo\n",
      "_______________________________________________________________________________\n",
      "https://www.youtube.com/watch?v=G_kF-M8Hg20\n",
      "Nien Nunb Merch: http://bit.ly/NienNunb\n",
      "\n",
      "Nick's portfolio & twitter: https://nickprinzing.carbonmade.com/\n",
      "https://twitter.com/BaronVonToast\n",
      "\n",
      "Support me on Patreon: http://bit.ly/BFUPatreon\n",
      "How I recor\n",
      "_______________________________________________________________________________\n",
      "https://www.youtube.com/watch?v=lucZ__srWsQ\n",
      "В видео, как собрать рыболовную снасть макушатник своими руками для ловли трофейной рыбы.\n",
      "\n",
      "Колоб для успешной рыбалки на карпа или иной крупной рыбы, применяли еще наши прадеды. Снасть уловиста и рабо\n",
      "_______________________________________________________________________________\n",
      "https://www.youtube.com/watch?v=0T5U-lkn9e8\n",
      "Über Positives Feedback würden wir uns sehr freuen!\n",
      "\n",
      "TOP 5 Clips an: Ruintop5@gmail.com\n",
      "\n",
      "➥Abonniere den KOMMENTATOR: http://bit.ly/2aSLANW\n",
      "\n",
      "♥ Abonniert unsere Leader:\n",
      "➥ xDesTroYeR: http://bit.ly/1XaIi\n",
      "_______________________________________________________________________________\n",
      "https://www.youtube.com/watch?v=YWyof59w-Ek\n",
      "Download \"Feel Good Indie\" here : http://bit.ly/1RDDSGr\n",
      "You might also like : My Portfolio : http://bit.ly/1vX2pxK\n",
      "\n",
      "Feel Good Indie – Indie Rock Track with crunch guitar, distortion guitar, acoustic g\n",
      "_______________________________________________________________________________\n",
      "https://www.youtube.com/watch?v=-130sa8aGdU\n",
      "▶ Music: Jo Cohen & BQ - Glowing At Night\n",
      "Various links are below:\n",
      "\n",
      "▶ Follow Jo Cohen\n",
      "SoundCloud: https://soundcloud.com/jocohenmusic\n",
      "Facebook: https://www.facebook.com/josephcohenmusic\n",
      "\n",
      "▶ Follow BQ\n",
      "S\n",
      "_______________________________________________________________________________\n",
      "https://www.youtube.com/watch?v=NGcw-LNzaSI\n",
      "Watch this amazing Behind The Scences images of ALDUB Date in Enchanted Kingdom in Kalye Serye, December 5 2015.\n",
      "\n",
      "Build A Successful Online Business FAST and start earning $1000 a day.\n",
      "C L I C K : htt\n",
      "_______________________________________________________________________________\n",
      "https://www.youtube.com/watch?v=klYxH-Msjlc\n",
      "Беговые кроссовки с Алиэкспресс, качественные вещи с Aliexpress, посылка из Китая - http://ali.pub/rmxan - высокая концентрация положительных отзывов и заказов на Алиэкспресс - одни из топовых спортив\n",
      "_______________________________________________________________________________\n",
      "https://www.youtube.com/watch?v=qzsDZER8ETc\n",
      "http://appnana.com/warrior\n",
      "\n",
      "Instructions:\n",
      "1) Go to http://appnana.com/warrior on your iOS device\n",
      "2) Sign up!\n",
      "3) Download Apps to get Nanas, which are used to get free gift cards\n",
      "4) Once you have 15,00\n",
      "_______________________________________________________________________________\n",
      "https://www.youtube.com/watch?v=xHItyxgrLcU\n",
      "Что подарить на 8 марта? Женская сумка с подсветкой, своими руками в домашних условиях делается очень просто. Девушкам больше не понадобиться искать ключи, помаду или кошелек в своей сумке. При открыв\n",
      "_______________________________________________________________________________\n",
      "https://www.youtube.com/watch?v=a3H1nCa-2yw\n",
      "If you enjoyed the video, subscribe! http://bit.ly/SubJahova\n",
      "\n",
      "Watch me LIVE! - http://bit.ly/JahovaLIVE\n",
      "\n",
      "The Crew -\n",
      "\n",
      "http://www.youtube.com/speedyw03\n",
      "http://www.youtube.com/thedeluxe4\n",
      "http://www.youtu\n",
      "_______________________________________________________________________________\n",
      "https://www.youtube.com/watch?v=Opqh-oeUgl4\n",
      "Więcej rowerowej szajby? BOOM: http://szajbajk.pl/\n",
      "Rowery i części w najlepszych cenach?\n",
      "WIELKA WYPRZEDAŻ: http://tidd.ly/a60a97ae\n",
      "_______________________________________________________________________________\n"
     ]
    },
    {
     "name": "stdout",
     "output_type": "stream",
     "text": [
      "73\n"
     ]
    }
   ],
   "source": [
    "i = 0\n",
    "count = 0\n",
    "import random\n",
    "while i < affiliate_videos.shape[0]:\n",
    "    #random_index = random.randint(0, affiliate_videos.shape[0])\n",
    "    random_index = i\n",
    "    i+=1\n",
    "    vid = affiliate_videos.iloc[random_index]\n",
    "    if vid.duration > 300 or len(vid.description) > 5000 or vid.viewCount < 5000:\n",
    "        continue\n",
    "    print \"https://www.youtube.com/watch?v=\" + str(vid.id)\n",
    "    print vid.description[0:200]\n",
    "    print \"_______________________________________________________________________________\"\n",
    "    count+=1\n",
    "print count"
   ]
  },
  {
   "cell_type": "code",
   "execution_count": null,
   "metadata": {},
   "outputs": [],
   "source": []
  }
 ],
 "metadata": {
  "kernelspec": {
   "display_name": "Python 2",
   "language": "python",
   "name": "python2"
  },
  "language_info": {
   "codemirror_mode": {
    "name": "ipython",
    "version": 2
   },
   "file_extension": ".py",
   "mimetype": "text/x-python",
   "name": "python",
   "nbconvert_exporter": "python",
   "pygments_lexer": "ipython2",
   "version": "2.7.15"
  }
 },
 "nbformat": 4,
 "nbformat_minor": 2
}
