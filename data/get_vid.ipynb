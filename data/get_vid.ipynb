{
 "cells": [
  {
   "cell_type": "code",
   "execution_count": 35,
   "metadata": {},
   "outputs": [],
   "source": [
    "import pandas as pd\n",
    "import sqlite3\n",
    "import matplotlib.pyplot as plt\n",
    "import matplotlib\n",
    "import string as string_library\n",
    "import numpy as np\n",
    "import isodate\n",
    "import csv\n",
    "import urltools\n",
    "import urllib\n",
    "from scipy.stats import mannwhitneyu\n",
    "import re\n",
    "import os.path\n",
    "from langdetect import detect\n",
    "import string\n",
    "import nltk\n",
    "from nltk.tokenize import sent_tokenize\n",
    "from sklearn.feature_extraction.text import CountVectorizer, TfidfTransformer\n",
    "import fastcluster\n",
    "from sklearn.metrics.pairwise import euclidean_distances, cosine_distances\n",
    "from scipy.spatial.distance import squareform\n",
    "import sys\n",
    "from scipy.cluster.hierarchy import fcluster, dendrogram\n",
    "from nltk.stem.porter import PorterStemmer\n",
    "import warnings\n",
    "warnings.filterwarnings('ignore')\n",
    "sys.setrecursionlimit(100000)\n",
    "matplotlib.style.use('ggplot')"
   ]
  },
  {
   "cell_type": "markdown",
   "metadata": {},
   "source": [
    "## YouTube - Exploratory Analyses\n",
    "### Loading the dataset\n",
    "First, let us load the dataset from the database."
   ]
  },
  {
   "cell_type": "code",
   "execution_count": 2,
   "metadata": {},
   "outputs": [],
   "source": [
    "con = sqlite3.connect('./youtube.db')\n",
    "video = pd.read_sql_query('''SELECT v.autoId as autoId, \n",
    "                                    v.id as id,\n",
    "                                    v.categoryId as categoryId,\n",
    "                                    v.channelId as channelId,\n",
    "                                    v.publishedAt as publishedAt,\n",
    "                                    v.title as title,\n",
    "                                    v.description as description,\n",
    "                                    v.viewCount as viewCount,\n",
    "                                    v.likeCount as likeCount,\n",
    "                                    v.dislikeCount as dislikeCount,\n",
    "                                    v.favoriteCount as favoriteCount,\n",
    "                                    v.commentCount as commentCount,\n",
    "                                    v.duration as duration,\n",
    "                                    v.defaultLanguage as defaultLanguage,\n",
    "                                    c.title as channelTitle,\n",
    "                                    c.description as channelDescription,\n",
    "                                    c.publishedAt as channelPublishedAt,\n",
    "                                    c.viewCount as channelViewCount,\n",
    "                                    c.commentCount as channelCommentCount,\n",
    "                                    c.subscriberCount as channelSubscriberCount,\n",
    "                                    c.videoCount as channelVideoCount,\n",
    "                                    c.country as channelCountry\n",
    "                                    from video v left join channel c on v.channelId = c.id''', con)\n",
    "url = pd.read_sql_query('SELECT * from urlNumber', con)\n",
    "urlResolve = pd.read_sql_query('SELECT * from urlResolve', con)\n",
    "category = pd.read_sql_query('SELECT * from category', con)\n",
    "channel = pd.read_sql_query('SELECT * from channel', con)\n",
    "captions = pd.read_sql_query('SELECT * FROM captions', con)"
   ]
  },
  {
   "cell_type": "markdown",
   "metadata": {},
   "source": [
    "Next, let's examine the count of videos we collected. The tables are ``video``, ``url``, ``urlResolve``, and ``category``."
   ]
  },
  {
   "cell_type": "code",
   "execution_count": 3,
   "metadata": {},
   "outputs": [
    {
     "data": {
      "text/plain": [
       "(515999, 22)"
      ]
     },
     "execution_count": 3,
     "metadata": {},
     "output_type": "execute_result"
    }
   ],
   "source": [
    "video.shape"
   ]
  },
  {
   "cell_type": "code",
   "execution_count": 4,
   "metadata": {},
   "outputs": [
    {
     "data": {
      "text/plain": [
       "['autoId',\n",
       " 'id',\n",
       " 'categoryId',\n",
       " 'channelId',\n",
       " 'publishedAt',\n",
       " 'title',\n",
       " 'description',\n",
       " 'viewCount',\n",
       " 'likeCount',\n",
       " 'dislikeCount',\n",
       " 'favoriteCount',\n",
       " 'commentCount',\n",
       " 'duration',\n",
       " 'defaultLanguage',\n",
       " 'channelTitle',\n",
       " 'channelDescription',\n",
       " 'channelPublishedAt',\n",
       " 'channelViewCount',\n",
       " 'channelCommentCount',\n",
       " 'channelSubscriberCount',\n",
       " 'channelVideoCount',\n",
       " 'channelCountry']"
      ]
     },
     "execution_count": 4,
     "metadata": {},
     "output_type": "execute_result"
    }
   ],
   "source": [
    "list(video.columns.values)"
   ]
  },
  {
   "cell_type": "code",
   "execution_count": 5,
   "metadata": {},
   "outputs": [
    {
     "data": {
      "text/plain": [
       "(405471, 4)"
      ]
     },
     "execution_count": 5,
     "metadata": {},
     "output_type": "execute_result"
    }
   ],
   "source": [
    "url.shape"
   ]
  },
  {
   "cell_type": "code",
   "execution_count": 6,
   "metadata": {},
   "outputs": [
    {
     "data": {
      "text/plain": [
       "['autoId', 'videoId', 'url', 'lineNumber']"
      ]
     },
     "execution_count": 6,
     "metadata": {},
     "output_type": "execute_result"
    }
   ],
   "source": [
    "list(url.columns.values)"
   ]
  },
  {
   "cell_type": "code",
   "execution_count": 7,
   "metadata": {},
   "outputs": [
    {
     "data": {
      "text/plain": [
       "(660009, 5)"
      ]
     },
     "execution_count": 7,
     "metadata": {},
     "output_type": "execute_result"
    }
   ],
   "source": [
    "urlResolve.shape"
   ]
  },
  {
   "cell_type": "code",
   "execution_count": 8,
   "metadata": {},
   "outputs": [
    {
     "data": {
      "text/plain": [
       "['autoId', 'urlId', 'url', 'urlOrder', 'code']"
      ]
     },
     "execution_count": 8,
     "metadata": {},
     "output_type": "execute_result"
    }
   ],
   "source": [
    "list(urlResolve.columns.values)"
   ]
  },
  {
   "cell_type": "code",
   "execution_count": 9,
   "metadata": {},
   "outputs": [
    {
     "data": {
      "text/plain": [
       "(32, 3)"
      ]
     },
     "execution_count": 9,
     "metadata": {},
     "output_type": "execute_result"
    }
   ],
   "source": [
    "category.shape"
   ]
  },
  {
   "cell_type": "code",
   "execution_count": 10,
   "metadata": {},
   "outputs": [
    {
     "data": {
      "text/plain": [
       "['autoId', 'id', 'key']"
      ]
     },
     "execution_count": 10,
     "metadata": {},
     "output_type": "execute_result"
    }
   ],
   "source": [
    "list(category.columns.values)"
   ]
  },
  {
   "cell_type": "markdown",
   "metadata": {},
   "source": [
    "### Examining the videos\n",
    "Next, let's examine the categories of the videos."
   ]
  },
  {
   "cell_type": "code",
   "execution_count": 11,
   "metadata": {},
   "outputs": [
    {
     "data": {
      "text/plain": [
       "count    515999.000000\n",
       "mean        445.870275\n",
       "std        1201.335379\n",
       "min           0.000000\n",
       "25%          61.000000\n",
       "50%         172.000000\n",
       "75%         366.000000\n",
       "max       86400.000000\n",
       "Name: duration, dtype: float64"
      ]
     },
     "execution_count": 11,
     "metadata": {},
     "output_type": "execute_result"
    }
   ],
   "source": [
    "video['duration'] = video['duration'].map(lambda x: isodate.parse_duration(x).total_seconds())\n",
    "video['duration'].describe()"
   ]
  },
  {
   "cell_type": "markdown",
   "metadata": {},
   "source": [
    "### Manipulating the URLs"
   ]
  },
  {
   "cell_type": "markdown",
   "metadata": {},
   "source": [
    "Mark all the following patterns as affiliate links."
   ]
  },
  {
   "cell_type": "code",
   "execution_count": 12,
   "metadata": {},
   "outputs": [],
   "source": [
    "def check_affiliate_link(url):\n",
    "    regex = re.compile(\"(ad.admitad.com/g/)|(ad.admitad.com/goto/)|(www.audible.com/ep/youtube\\\\?.*)|(performance.affiliaxe.com/.*\\\\?aff_id=)|(performance.affiliaxe.com/.*&aff_id=)|(s.aliexpress.com/.*\\\\?af=)|(s.aliexpress.com/.*&af=)|(amazon.com/.*\\\\?tag=)|(amazon.com/.*&tag=)|(amazon.de/.*\\\\?tag=)|(amazon.de/.*&tag=)|(amazon.it/.*\\\\?tag=)|(amazon.it/.*&tag=)|(amazon.in/.*\\\\?tag=)|(amazon.in/.*&tag=)|(amazon.fr/.*\\\\?tag=)|(amazon.fr/.*&tag=)|(primevideo.com/.*\\\\?ref=)|(primevideo.com/.*&ref=)|(itunes.apple.com/.*\\\\?at=)|(itunes.apple.com/.*&at=)|(apple.com/.*\\\\?afid=)|(apple.com/.*&afid=)|(affiliates.audiobooks.com/.*\\\\?a_aid=.*&a_bid=)|(affiliates.audiobooks.com/.*\\\\?a_bid=.*&a_aid=)|(affiliates.audiobooks.com/.*&a_bid=.*&a_aid=)|(avantlink.com/.*\\\\?pw=)|(avantlink.com/.*&pw=)\")\n",
    "    match = re.search(regex, url)\n",
    "    if match:\n",
    "        return True\n",
    "    regex = \"(secure.avangate.com/.*\\\\?affiliate=)|(secure.avangate.com/.*&affiliate=)|(awin1.com/.*\\\\?awinaffid=)|(awin1.com/.*&awinaffid=)|(ad.zanox.com/ppc^)|(zenaps.com/rclick.php\\\\?)|(banggood.com/.*\\\\?p=)|(banggood.com/.*&p=)|(bookdepository.com/.*\\\\?a_aid=)|(bookdepository.com/.*&a_aid=)|(booking.com/.*\\\\?aid=)|(booking.com/.*&aid=)|(hop.clickbank.net^)|(anrdoezrs.net/click-)|(cj.dotomi.com^)|(dpbolvw.net/click-)|(emjcd.com^)|(jdoqocy.com/click-)|(kqzyfj.com/click-)|(qksrv.net^)|(tkqlhce.com/click-)|(designmodo.com/\\\\?u=)|(rover.ebay.com/.*\\\\?campid=)|(rover.ebay.com/.*&campid=)|(audiojungle.net/.*\\\\?ref=)|(audiojungle.net/.*&ref=)|(codecanyon.net/.*\\\\?ref=)|(codecanyon.net/.*&ref=)(marketplace.envato.com/.*\\\\?ref=)|(marketplace.envato.com/.*&ref=)|(graphicriver.net/.*\\\\?ref=)|(graphicriver.net/.*&ref=)|(themeforest.net/.*\\\\?ref=)|(themeforest.net/.*&ref=)|(videohive.net/.*\\\\?ref=)|(videohive.net/.*&ref=)|(buyeasy.by/cashback/)|(buyeasy.by/redirect/)|(flipkart.com/.*\\\\?affid=)|(flipkart.com/.*&affid=)|(gtomegaracing.com/.*\\\\?tracking=)|(gtomegaracing.com/.*&tracking=)|(search.hotellook.com/.*\\\\?marker=)|(search.hotellook.com/.*&marker=)|(hotmart.net.br/.*\\\\?a=)|(hotmart.net.br/.*&a=)|(7eer.net/c/)|(evyy.net/c/)|(kontrolfreek.com/.*\\\\?a_aid=)|(kontrolfreek.com/.*&a_aid=)|(online.ladbrokes.com/promoRedirect\\\\?key=)|(online.ladbrokes.com/promoRedirect\\\\?.*&key=)|(makeupgeek.com/.*\\\\?acc=)|(makeupgeek.com/.*&acc=)|(gopjn.com/t/)|(pjatr.com/t/)|(pjtra.com/t/)|(pntra.com/t/)|(pntrac.com/t/)|(pntrs.com/t/)|(click.linksynergy.com/.*\\\\?id=)|(click.linksynergy.com/.*&id=)|(go.redirectingat.com/.*\\\\?id=)|(go.redirectingat.com/.*&id=)|(olymptrade.com/.*\\\\?affiliate_id=)|(olymptrade.com/.*&affiliate_id=)|(rstyle.me^)|(shopstyle.it^)|(shareasale.com/r.cfm^)|(shareasale.com/m-pr.cfm^)|(shareasale.com/u.cfm^)|(apessay.com/.*\\\\?rid=)|(apessay.com/.*&rid=)|(tatacliq.com/.*\\\\?cid=af:)|(tatacliq.com/.*&cid=af:)|(thermoworks.com/.*\\\\?tw=)|(thermoworks.com/.*&tw=)|(zaful.com/.*\\\\?lkid=)|(zaful.com/.*&lkid=)\"\n",
    "    match = re.search(regex, url)\n",
    "    if match:\n",
    "        return True\n",
    "    return False\n",
    "\n",
    "def urlUtmMatches(url):\n",
    "    regex = re.compile(\"((utm_source=.*)|(utm_term=.*)|(utm_campaign=.*)|(utm_content=.*)|(utm_medium=.*)|(aff_id=.*)|(campaignid=.*)){1}\")\n",
    "    match = re.search(regex, url)\n",
    "    if match:\n",
    "        return True\n",
    "    return False"
   ]
  },
  {
   "cell_type": "code",
   "execution_count": 13,
   "metadata": {},
   "outputs": [],
   "source": [
    "for i, row in urlResolve.iterrows():\n",
    "    utm = urlUtmMatches(row['url'])\n",
    "    aff = check_affiliate_link(row['url'])\n",
    "    urlResolve.at[i, 'utmLink'] = utm\n",
    "    urlResolve.at[i, 'affiliateLink'] = aff\n",
    "    urlResolve.at[i, 'anyAffLink'] = utm or aff"
   ]
  },
  {
   "cell_type": "markdown",
   "metadata": {},
   "source": [
    "How did these resolved affiliate links vary by domain?"
   ]
  },
  {
   "cell_type": "code",
   "execution_count": 23,
   "metadata": {},
   "outputs": [],
   "source": [
    "def get_information_on_column(column):\n",
    "    print urlResolve[column].value_counts()\n",
    "    urls = url[url['autoId'].isin(urlResolve[urlResolve[column] == True].urlId.tolist())]\n",
    "    print str(urls.shape[0]) + \" urls have \" + column\n",
    "    vids = video[video['id'].isin(urls['videoId'].tolist())].copy()\n",
    "    print str(vids.shape[0]) + \" videos have \" + column\n",
    "    print str(vids.shape[0]*1.0/video.shape[0] * 100) + \"% of videos\""
   ]
  },
  {
   "cell_type": "code",
   "execution_count": 24,
   "metadata": {},
   "outputs": [
    {
     "name": "stdout",
     "output_type": "stream",
     "text": [
      "False    648894\n",
      "True      11115\n",
      "Name: affiliateLink, dtype: int64\n",
      "7876 urls have affiliateLink\n",
      "2891 videos have affiliateLink\n",
      "0.560272403629% of videos\n"
     ]
    }
   ],
   "source": [
    "get_information_on_column('affiliateLink')"
   ]
  },
  {
   "cell_type": "code",
   "execution_count": 25,
   "metadata": {},
   "outputs": [
    {
     "name": "stdout",
     "output_type": "stream",
     "text": [
      "False    654937\n",
      "True       5072\n",
      "Name: utmLink, dtype: int64\n",
      "3518 urls have utmLink\n",
      "2204 videos have utmLink\n",
      "0.427132610722% of videos\n"
     ]
    }
   ],
   "source": [
    "get_information_on_column('utmLink')"
   ]
  },
  {
   "cell_type": "code",
   "execution_count": 26,
   "metadata": {
    "scrolled": true
   },
   "outputs": [
    {
     "name": "stdout",
     "output_type": "stream",
     "text": [
      "False    644095\n",
      "True      15914\n",
      "Name: anyAffLink, dtype: int64\n",
      "10785 urls have anyAffLink\n",
      "4721 videos have anyAffLink\n",
      "0.914924253729% of videos\n"
     ]
    }
   ],
   "source": [
    "get_information_on_column('anyAffLink')"
   ]
  },
  {
   "cell_type": "code",
   "execution_count": 30,
   "metadata": {},
   "outputs": [],
   "source": [
    "videos = []\n",
    "with open(\"sentences_en1.tsv\", 'rt') as csvfile:\n",
    "    reader = csv.reader(csvfile, delimiter='\\t')\n",
    "    for row in reader:\n",
    "        videos.append([row[0], row[1], row[2], row[3]])\n",
    "        \n",
    "videos_en_new = pd.DataFrame(videos, columns=['id', 'description', 'channelTitle', 'sentence'])\n",
    "del videos"
   ]
  },
  {
   "cell_type": "code",
   "execution_count": 31,
   "metadata": {},
   "outputs": [],
   "source": [
    "features = [\"additional\",\"also\",\"auto\",\"best\",\"call\",\"car\",\"checkout\",\"code\",\"codes\",\"county\",\"design\",\"discount\",\"download\",\"email\",\"free\",\"get\",\"go\",\"good\",\"help\",\"info\",\"information\",\"like\",\"live\",\"make\",\"making\",\"music\",\"name\",\"please\",\"project\",\"quality\",\"sales\",\"save\",\"series\",\"services\",\"sponsors\",\"stream\",\"superior\",\"tips\",\"us\",\"use\",\"using\",\"world\",\"year\"]\n",
    "weights = [-0.000091225325396, -0.000154690952283, -0.044722324741698, -0.004190488434367, -0.000091225325396, -0.044722324741698, 1.865925657523899, 1.999712635243791, 1.000000000000000, -0.004190488434367, -0.100454270569854, 0.500000000000000, -0.000183391354017, -0.000091225325396, -0.000041538248269, -0.000082986726799, -0.015997331310574, -0.067165231081675, -0.000082986726799, -0.000091225325396, 0.133993499419597, -0.033289039488179, -0.133534800800062, -0.016534227402228, -0.004190488434367, 0.000000000000000, -0.118632763901686, -0.000091225325396, -0.067165231081675, -0.004190488434367, -0.044722324741698, 0.033589479820219, -0.000082986726799, -0.500000000000000, -0.000082986726799, 0.133507084780844, 0.133915682228483, -0.032865467396576, -0.000091225325396, 0.016179781961365, -0.033575751261456, -0.000418021836881, -0.000183391354017]\n",
    "\n",
    "def get_vector(sentence):\n",
    "    vector = [0] * len(features)\n",
    "    tokens = tokenize(sentence)\n",
    "    for token in tokens:\n",
    "        if token in features:\n",
    "            vector[features.index(token)] += 1\n",
    "    return vector"
   ]
  },
  {
   "cell_type": "code",
   "execution_count": 36,
   "metadata": {},
   "outputs": [],
   "source": [
    "def tokenize(line):\n",
    "    if (line is None):\n",
    "        line = ''\n",
    "    printable = set(string_library.printable)\n",
    "    line = ''.join(filter(lambda x: x in printable, line)) \n",
    "    stopwords = nltk.corpus.stopwords.words('english')\n",
    "\n",
    "    tokenizer = nltk.RegexpTokenizer(r'[a-zA-Z]*\\'[a-zA-Z]*|\\w+')\n",
    "    \n",
    "    tokens = []\n",
    "    \n",
    "    line = re.sub(r'(http[s]?://|www.)(?:[a-zA-Z]|[0-9]|[$-_@.&+]*|[!*\\\\(\\\\),]|(?:%[0-9a-fA-F][0-9a-fA-F]))*', '', line).lower()\n",
    "    tokens.extend(tokenizer.tokenize(line))\n",
    "    \n",
    "    tokens_ = [f.strip(string_library.punctuation) for f in tokens]\n",
    "    for i in range(len(tokens_)):\n",
    "        if tokens_[i][0:2] == \"b'\":\n",
    "            tokens_[i] = tokens[i][2:]\n",
    "    tokens_ = [f for f in tokens_ if f != '' and f not in stopwords and len(f) != 1]\n",
    "    tokens_ = [f for f in tokens_ if not (f.isdigit() or f[0] == '-' and f[1:].isdigit())]\n",
    "    #tokens_ = [stemmer.stem(f) for f in tokens_]\n",
    "\n",
    "    return tokens_"
   ]
  },
  {
   "cell_type": "code",
   "execution_count": 38,
   "metadata": {},
   "outputs": [],
   "source": [
    "matches = {}\n",
    "count = 0\n",
    "for i, row in videos_en_new.iterrows():\n",
    "    tot = 0\n",
    "    vector = get_vector(row['sentence'])\n",
    "    for j in range(len(weights)):\n",
    "        tot += weights[j] * vector[j]\n",
    "    if tot > 1:\n",
    "        count +=1\n",
    "        matches[row.id] = True"
   ]
  },
  {
   "cell_type": "code",
   "execution_count": 39,
   "metadata": {},
   "outputs": [
    {
     "name": "stdout",
     "output_type": "stream",
     "text": [
      "Number of coupon code disclosures found  2346\n"
     ]
    }
   ],
   "source": [
    "print \"Number of coupon code disclosures found \",\n",
    "print count"
   ]
  },
  {
   "cell_type": "code",
   "execution_count": 40,
   "metadata": {},
   "outputs": [
    {
     "name": "stdout",
     "output_type": "stream",
     "text": [
      "Number of videos with coupon codes  1553\n"
     ]
    }
   ],
   "source": [
    "coupon_vids = matches.keys()\n",
    "print \"Number of videos with coupon codes \",\n",
    "print len(coupon_vids)"
   ]
  },
  {
   "cell_type": "code",
   "execution_count": 41,
   "metadata": {},
   "outputs": [],
   "source": [
    "urls = url[url['autoId'].isin(urlResolve[urlResolve['anyAffLink'] == True].urlId.tolist())]\n",
    "aff_vids = urls['videoId'].tolist()"
   ]
  },
  {
   "cell_type": "code",
   "execution_count": 45,
   "metadata": {},
   "outputs": [],
   "source": [
    "for item in aff_vids:\n",
    "    matches[item] = True"
   ]
  },
  {
   "cell_type": "code",
   "execution_count": 47,
   "metadata": {},
   "outputs": [],
   "source": [
    "count = 0\n",
    "for i, row in video.iterrows():\n",
    "    if row.id in matches:\n",
    "        count += 1"
   ]
  },
  {
   "cell_type": "code",
   "execution_count": 48,
   "metadata": {},
   "outputs": [
    {
     "name": "stdout",
     "output_type": "stream",
     "text": [
      "Number of videos with any affiliate link or coupon code  6006\n"
     ]
    }
   ],
   "source": [
    "print \"Number of videos with any affiliate link or coupon code \",\n",
    "print count"
   ]
  },
  {
   "cell_type": "code",
   "execution_count": 50,
   "metadata": {},
   "outputs": [
    {
     "name": "stdout",
     "output_type": "stream",
     "text": [
      "1.1639557441%\n"
     ]
    }
   ],
   "source": [
    "print str(count*1.0/video.shape[0]*100) + \"%\""
   ]
  },
  {
   "cell_type": "markdown",
   "metadata": {},
   "source": [
    "#### Affiliate video duration\n",
    "How do the duration of the affiliate videos vary?"
   ]
  },
  {
   "cell_type": "code",
   "execution_count": 51,
   "metadata": {},
   "outputs": [],
   "source": [
    "#affiliate_videos['duration'].describe()"
   ]
  },
  {
   "cell_type": "code",
   "execution_count": 52,
   "metadata": {},
   "outputs": [],
   "source": [
    "# def get_language(x):\n",
    "#     language = 'Unknown'\n",
    "#     try:\n",
    "#         language = detect(x.description.strip())\n",
    "#     except:\n",
    "#         pass\n",
    "#     return language"
   ]
  },
  {
   "cell_type": "code",
   "execution_count": 53,
   "metadata": {
    "scrolled": true
   },
   "outputs": [],
   "source": [
    "# #used this to get videos for the study\n",
    "# i = 0\n",
    "# count = 0\n",
    "# import random\n",
    "# while i < affiliate_videos.shape[0]:\n",
    "#     #random_index = random.randint(0, affiliate_videos.shape[0])\n",
    "#     random_index = i\n",
    "#     i+=1\n",
    "#     vid = affiliate_videos.iloc[random_index]\n",
    "#     if vid.duration > 300 or len(vid.description) > 5000 or vid.viewCount < 5000:\n",
    "#         continue\n",
    "# #     print \"https://www.youtube.com/watch?v=\" + str(vid.id)\n",
    "# #     print vid.description[0:200]\n",
    "# #     print \"_______________________________________________________________________________\"\n",
    "#     count+=1\n",
    "# print count"
   ]
  },
  {
   "cell_type": "code",
   "execution_count": null,
   "metadata": {},
   "outputs": [],
   "source": []
  }
 ],
 "metadata": {
  "kernelspec": {
   "display_name": "Python 2",
   "language": "python",
   "name": "python2"
  },
  "language_info": {
   "codemirror_mode": {
    "name": "ipython",
    "version": 2
   },
   "file_extension": ".py",
   "mimetype": "text/x-python",
   "name": "python",
   "nbconvert_exporter": "python",
   "pygments_lexer": "ipython2",
   "version": "2.7.15"
  }
 },
 "nbformat": 4,
 "nbformat_minor": 2
}
