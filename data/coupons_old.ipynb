{
 "cells": [
  {
   "cell_type": "code",
   "execution_count": 1,
   "metadata": {},
   "outputs": [],
   "source": [
    "import pandas as pd\n",
    "import sqlite3\n",
    "import matplotlib.pyplot as plt\n",
    "import matplotlib\n",
    "import numpy as np\n",
    "import urllib\n",
    "from scipy.stats import mannwhitneyu\n",
    "import re\n",
    "import os.path\n",
    "from langdetect import detect\n",
    "import string\n",
    "import nltk\n",
    "from nltk.tokenize import sent_tokenize\n",
    "from sklearn.feature_extraction.text import CountVectorizer, TfidfTransformer\n",
    "import fastcluster\n",
    "from sklearn.metrics.pairwise import euclidean_distances, cosine_distances\n",
    "from scipy.spatial.distance import squareform\n",
    "import sys\n",
    "from scipy.cluster.hierarchy import fcluster, dendrogram\n",
    "from nltk.stem.porter import PorterStemmer\n",
    "import warnings\n",
    "warnings.filterwarnings('ignore')\n",
    "sys.setrecursionlimit(100000)\n",
    "matplotlib.style.use('ggplot')"
   ]
  },
  {
   "cell_type": "markdown",
   "metadata": {},
   "source": [
    "## YouTube - Exploratory Analyses\n",
    "### Loading the dataset\n",
    "First, let us load the dataset from the database."
   ]
  },
  {
   "cell_type": "code",
   "execution_count": 2,
   "metadata": {},
   "outputs": [],
   "source": [
    "con = sqlite3.connect('youtube.db')\n",
    "video = pd.read_sql_query('''SELECT v.autoId as autoId, \n",
    "                                    v.id as id,\n",
    "                                    v.categoryId as categoryId,\n",
    "                                    v.channelId as channelId,\n",
    "                                    v.publishedAt as publishedAt,\n",
    "                                    v.title as title,\n",
    "                                    v.description as description,\n",
    "                                    v.viewCount as viewCount,\n",
    "                                    v.likeCount as likeCount,\n",
    "                                    v.dislikeCount as dislikeCount,\n",
    "                                    v.favoriteCount as favoriteCount,\n",
    "                                    v.commentCount as commentCount,\n",
    "                                    v.duration as duration,\n",
    "                                    v.defaultLanguage as defaultLanguage,\n",
    "                                    c.title as channelTitle,\n",
    "                                    c.description as channelDescription,\n",
    "                                    c.publishedAt as channelPublishedAt,\n",
    "                                    c.viewCount as channelViewCount,\n",
    "                                    c.commentCount as channelCommentCount,\n",
    "                                    c.subscriberCount as channelSubscriberCount,\n",
    "                                    c.videoCount as channelVideoCount,\n",
    "                                    c.country as channelCountry\n",
    "                                    from video v left join channel c on v.channelId = c.id limit 10000''', con)"
   ]
  },
  {
   "cell_type": "markdown",
   "metadata": {},
   "source": [
    "Next, let's examine the count of videos we collected. The tables are ``video``, ``url``, ``urlResolve``, and ``category``."
   ]
  },
  {
   "cell_type": "code",
   "execution_count": 3,
   "metadata": {},
   "outputs": [
    {
     "name": "stdout",
     "output_type": "stream",
     "text": [
      "(10000, 22)\n"
     ]
    }
   ],
   "source": [
    "print video.shape"
   ]
  },
  {
   "cell_type": "code",
   "execution_count": 4,
   "metadata": {},
   "outputs": [
    {
     "data": {
      "text/plain": [
       "['autoId',\n",
       " 'id',\n",
       " 'categoryId',\n",
       " 'channelId',\n",
       " 'publishedAt',\n",
       " 'title',\n",
       " 'description',\n",
       " 'viewCount',\n",
       " 'likeCount',\n",
       " 'dislikeCount',\n",
       " 'favoriteCount',\n",
       " 'commentCount',\n",
       " 'duration',\n",
       " 'defaultLanguage',\n",
       " 'channelTitle',\n",
       " 'channelDescription',\n",
       " 'channelPublishedAt',\n",
       " 'channelViewCount',\n",
       " 'channelCommentCount',\n",
       " 'channelSubscriberCount',\n",
       " 'channelVideoCount',\n",
       " 'channelCountry']"
      ]
     },
     "execution_count": 4,
     "metadata": {},
     "output_type": "execute_result"
    }
   ],
   "source": [
    "list(video.columns.values)"
   ]
  },
  {
   "cell_type": "code",
   "execution_count": 5,
   "metadata": {},
   "outputs": [
    {
     "name": "stdout",
     "output_type": "stream",
     "text": [
      "(10000, 22)\n"
     ]
    }
   ],
   "source": [
    "print video.shape"
   ]
  },
  {
   "cell_type": "markdown",
   "metadata": {},
   "source": [
    "### Examining the affiliate video descriptions"
   ]
  },
  {
   "cell_type": "markdown",
   "metadata": {},
   "source": [
    "What languages are these descriptions in?"
   ]
  },
  {
   "cell_type": "code",
   "execution_count": 6,
   "metadata": {},
   "outputs": [
    {
     "name": "stdout",
     "output_type": "stream",
     "text": [
      "hello\n",
      "en         3428\n",
      "Unknown    2899\n",
      "es          516\n",
      "pt          363\n",
      "ru          325\n",
      "de          262\n",
      "ja          222\n",
      "fr          194\n",
      "ko          189\n",
      "ar          164\n",
      "it          147\n",
      "id          108\n",
      "tr           95\n",
      "vi           79\n",
      "ca           77\n",
      "th           75\n",
      "ro           74\n",
      "nl           73\n",
      "pl           62\n",
      "so           55\n",
      "tl           54\n",
      "no           42\n",
      "sv           39\n",
      "bg           33\n",
      "hr           32\n",
      "af           32\n",
      "et           31\n",
      "hu           30\n",
      "da           27\n",
      "fi           26\n",
      "sw           25\n",
      "cy           23\n",
      "uk           21\n",
      "el           20\n",
      "he           17\n",
      "sl           17\n",
      "lt           17\n",
      "zh-tw        17\n",
      "cs           15\n",
      "sq           14\n",
      "sk           12\n",
      "fa           12\n",
      "zh-cn         9\n",
      "mk            8\n",
      "lv            5\n",
      "bn            5\n",
      "ur            3\n",
      "hi            3\n",
      "pa            1\n",
      "mr            1\n",
      "ta            1\n",
      "te            1\n",
      "dtype: int64\n",
      "hello\n"
     ]
    }
   ],
   "source": [
    "print \"hello\"\n",
    "def get_language(x):\n",
    "    language = 'Unknown'\n",
    "    try:\n",
    "        language = detect(x.description.strip())\n",
    "    except:\n",
    "        pass\n",
    "    return language\n",
    "\n",
    "vids = video.apply(get_language, axis=1)\n",
    "print vids.value_counts()\n",
    "print \"hello\""
   ]
  },
  {
   "cell_type": "code",
   "execution_count": 7,
   "metadata": {},
   "outputs": [],
   "source": [
    "videos_en = video[vids == 'en'].copy()"
   ]
  },
  {
   "cell_type": "code",
   "execution_count": 8,
   "metadata": {},
   "outputs": [
    {
     "data": {
      "text/plain": [
       "(3428, 22)"
      ]
     },
     "execution_count": 8,
     "metadata": {},
     "output_type": "execute_result"
    }
   ],
   "source": [
    "videos_en.shape"
   ]
  },
  {
   "cell_type": "code",
   "execution_count": 9,
   "metadata": {
    "scrolled": true
   },
   "outputs": [
    {
     "name": "stdout",
     "output_type": "stream",
     "text": [
      "8\n"
     ]
    }
   ],
   "source": [
    "def isnumeric(character):\n",
    "    return ord('0') <= ord(character) and ord(character) <= ord('9')\n",
    "\n",
    "def get_search_regex(possible_code_bases):\n",
    "    if possible_code_bases == None:\n",
    "        return \"(\" + username + \").*[0-9]*\"\n",
    "    search_str = \"(\"\n",
    "    for base in possible_code_bases:\n",
    "        search_str += base + \"|\"\n",
    "    search_str = search_str[0:-1] + \").*[0-9]*\"\n",
    "    return search_str\n",
    "\n",
    "def get_codes_from_username(username):\n",
    "    usernames = []\n",
    "    if username == None or username == \"\":\n",
    "        return usernames\n",
    "    usernames.append(re.escape(username))\n",
    "                \n",
    "    last_index_used = 0\n",
    "    split_tokens = []\n",
    "    initials = username[0]\n",
    "    totalstring = username\n",
    "    for i in range(len(username)-1):\n",
    "        c = username[i]\n",
    "        nc = username[i+1]\n",
    "        if c == \" \":\n",
    "            if i == 0:\n",
    "                continue\n",
    "            split_tokens.append(username[last_index_used: i])\n",
    "            usernames.append(re.escape(username[last_index_used: i]))\n",
    "            usernames.append(re.escape(username[i+1:]))\n",
    "            initials += username[i+1]\n",
    "            last_index_used = i+1\n",
    "        elif c.islower() and (nc.isupper() or isnumeric(nc)):\n",
    "            split_tokens.append(username[last_index_used: i+1])\n",
    "            usernames.append(re.escape(username[last_index_used: i+1]))\n",
    "            usernames.append(re.escape(username[i+1:]))\n",
    "            initials += username[i+1]\n",
    "            last_index_used = i+1\n",
    "        elif c.isupper() and isnumeric(nc):\n",
    "            split_tokens.append(username[last_index_used: i+1])\n",
    "            usernames.append(re.escape(username[last_index_used: i+1]))\n",
    "            usernames.append(re.escape(username[i+1:]))\n",
    "            initials += username[i+1]\n",
    "            last_index_used = i+1\n",
    "        elif isnumeric(c) and  not isnumeric(nc):\n",
    "            split_tokens.append(username[last_index_used: i+1])\n",
    "            usernames.append(re.escape(username[last_index_used: i+1]))\n",
    "            usernames.append(re.escape(username[i+1:]))\n",
    "            initials += username[i+1]\n",
    "            last_index_used = i+1\n",
    "    if last_index_used > 0:\n",
    "        split_tokens.append(re.escape(username[last_index_used:]))\n",
    "        totalstring = \"\"\n",
    "        for item in split_tokens:\n",
    "            totalstring += item\n",
    "    \n",
    "    usernames.append(re.escape(totalstring))\n",
    "            \n",
    "    for item in usernames:\n",
    "        if len(item) < 3 and len(username) >= 3:\n",
    "            usernames.remove(item)\n",
    "    usernames.append(re.escape(initials))\n",
    "    return usernames\n",
    "\n",
    "applicable_vids = []\n",
    "count = 0\n",
    "for index, vid in videos_en.iterrows():\n",
    "    possible_code_bases = get_codes_from_username(vid.channelTitle)\n",
    "    #there is not a username\n",
    "    if len(possible_code_bases) == 0 or (len(possible_code_bases) == 1 and possible_code_bases[0] == \"\"):\n",
    "        continue\n",
    "        \n",
    "    search_regex_str = get_search_regex(possible_code_bases)\n",
    "    coupon_regex = re.compile(search_regex_str)\n",
    "    keyword_regex = re.compile(\"( code )|( coupon )|( promotion )| ( promo )\")\n",
    "    \n",
    "    tokenize_regex = re.compile(\"(\\r\\n)|(\\n)|(\\.)|(\\!)|(\\?)\")\n",
    "    tokens = re.split(tokenize_regex, vid.description)\n",
    "    for token in tokens:\n",
    "        if token != None and re.search(coupon_regex, token) and re.search(keyword_regex, token):\n",
    "            count += 1\n",
    "            applicable_vids.append([vid.id, possible_code_bases, token])\n",
    "\n",
    "print len(applicable_vids)"
   ]
  },
  {
   "cell_type": "code",
   "execution_count": 10,
   "metadata": {
    "scrolled": false
   },
   "outputs": [],
   "source": [
    "stemmer = PorterStemmer()\n",
    "\n",
    "def tokenize(line):\n",
    "    if (line is None):\n",
    "        line = ''\n",
    "    printable = set(string.printable)\n",
    "    line = ''.join(filter(lambda x: x in printable, line)) \n",
    "    stopwords = nltk.corpus.stopwords.words('english')\n",
    "\n",
    "    tokenizer = nltk.RegexpTokenizer(r'[a-zA-Z]*\\'[a-zA-Z]*|\\w+')\n",
    "    \n",
    "    tokens = []\n",
    "    \n",
    "    line = re.sub(r'(http[s]?://|www.)(?:[a-zA-Z]|[0-9]|[$-_@.&+]*|[!*\\\\(\\\\),]|(?:%[0-9a-fA-F][0-9a-fA-F]))*', '', line).lower()\n",
    "    tokens.extend(tokenizer.tokenize(line))\n",
    "    \n",
    "    tokens_ = [f.strip(string.punctuation) for f in tokens]\n",
    "    tokens_ = [f for f in tokens_ if f != '' and f not in stopwords and len(f) != 1]\n",
    "    tokens_ = [f for f in tokens_ if not (f.isdigit() or f[0] == '-' and f[1:].isdigit())]\n",
    "    tokens_ = [stemmer.stem(f) for f in tokens_]\n",
    "\n",
    "    return tokens_\n"
   ]
  },
  {
   "cell_type": "code",
   "execution_count": 11,
   "metadata": {},
   "outputs": [
    {
     "name": "stdout",
     "output_type": "stream",
     "text": [
      "                id         channelTitle  \\\n",
      "0      JnJCH-sPG3w        Vampire Tears   \n",
      "1      JnJCH-sPG3w        Vampire Tears   \n",
      "2      JnJCH-sPG3w        Vampire Tears   \n",
      "3      o0fGfITO9-s           Pusalover™   \n",
      "4      29XZ-QBPt-8      SantaMariaTimes   \n",
      "5      29XZ-QBPt-8      SantaMariaTimes   \n",
      "6      29xZ-_T_vKY         britkneelove   \n",
      "7      29xZ-_T_vKY         britkneelove   \n",
      "8      29xz-mBTWMs              Yokenvo   \n",
      "9      0KTFf-4R4uY          Gloria Cook   \n",
      "10     0KTFf-4R4uY          Gloria Cook   \n",
      "11     0KTFf-4R4uY          Gloria Cook   \n",
      "12     0KTFf-4R4uY          Gloria Cook   \n",
      "13     0KTFf-4R4uY          Gloria Cook   \n",
      "14     0KTFf-4R4uY          Gloria Cook   \n",
      "15     0KTFf-4R4uY          Gloria Cook   \n",
      "16     0KTFf-4R4uY          Gloria Cook   \n",
      "17     0KTFf-4R4uY          Gloria Cook   \n",
      "18     0KTFf-4R4uY          Gloria Cook   \n",
      "19     0KTFf-4R4uY          Gloria Cook   \n",
      "20     3cv_gT3w_7w             CBC News   \n",
      "21     3cv_gT3w_7w             CBC News   \n",
      "22     3cv_gT3w_7w             CBC News   \n",
      "23     3cv_gT3w_7w             CBC News   \n",
      "24     3cv_gT3w_7w             CBC News   \n",
      "25     3cv_gT3w_7w             CBC News   \n",
      "26     3cv_gT3w_7w             CBC News   \n",
      "27     3cv_gT3w_7w             CBC News   \n",
      "28     3cv_gT3w_7w             CBC News   \n",
      "29     3cv_gT3w_7w             CBC News   \n",
      "...            ...                  ...   \n",
      "19322  E_6y-ewTT60       ColoradoMotive   \n",
      "19323  E_6y-ewTT60       ColoradoMotive   \n",
      "19324  E_6Y-efmJOs  Rydlar99 Box Breaks   \n",
      "19325  e_6Y-0qDwrg               kjhg53   \n",
      "19326  e_6Y-0qDwrg               kjhg53   \n",
      "19327  e_6Y-0qDwrg               kjhg53   \n",
      "19328  qlfUR-1vxUI      TitansBlackrock   \n",
      "19329  qlfUR-1vxUI      TitansBlackrock   \n",
      "19330  qlfUR-1vxUI      TitansBlackrock   \n",
      "19331  qlfUR-1vxUI      TitansBlackrock   \n",
      "19332  qlfUR-1vxUI      TitansBlackrock   \n",
      "19333  qlfUR-1vxUI      TitansBlackrock   \n",
      "19334  qlfUR-1vxUI      TitansBlackrock   \n",
      "19335  piVnArp9ZE0         omafakinggad   \n",
      "19336  piVnArp9ZE0         omafakinggad   \n",
      "19337  pivn-XpOQ4A           DrewTony'Z   \n",
      "19338  pivn-XpOQ4A           DrewTony'Z   \n",
      "19339  pivn-XpOQ4A           DrewTony'Z   \n",
      "19340  pivn-XpOQ4A           DrewTony'Z   \n",
      "19341  pivn-XpOQ4A           DrewTony'Z   \n",
      "19342  pivn-XpOQ4A           DrewTony'Z   \n",
      "19343  pivn-XpOQ4A           DrewTony'Z   \n",
      "19344  pivn-XpOQ4A           DrewTony'Z   \n",
      "19345  pivn-XpOQ4A           DrewTony'Z   \n",
      "19346  pivn-XpOQ4A           DrewTony'Z   \n",
      "19347  pivn-XpOQ4A           DrewTony'Z   \n",
      "19348  piVn-kwndIs        LoveTelevison   \n",
      "19349  Pivn-Gjy_Ac        Richard Navas   \n",
      "19350  pIVN-rcxqnw      Sherlyn de Leon   \n",
      "19351  pIVN-rcxqnw      Sherlyn de Leon   \n",
      "\n",
      "                                             description  \\\n",
      "0      I OWN NOTHING!!! \\n\\nSong: Paramore \"The Only ...   \n",
      "1      I OWN NOTHING!!! \\n\\nSong: Paramore \"The Only ...   \n",
      "2      I OWN NOTHING!!! \\n\\nSong: Paramore \"The Only ...   \n",
      "3                                      Jealous white cat   \n",
      "4      Bob Orach has held a seat on the Santa Maria C...   \n",
      "5      Bob Orach has held a seat on the Santa Maria C...   \n",
      "6      Speed Sports Special V. Liquid Quicker. Speed ...   \n",
      "7      Speed Sports Special V. Liquid Quicker. Speed ...   \n",
      "8         -- Watch live at https://www.twitch.tv/yokenvo   \n",
      "9      Download here: http://www.revostock.com/After-...   \n",
      "10     Download here: http://www.revostock.com/After-...   \n",
      "11     Download here: http://www.revostock.com/After-...   \n",
      "12     Download here: http://www.revostock.com/After-...   \n",
      "13     Download here: http://www.revostock.com/After-...   \n",
      "14     Download here: http://www.revostock.com/After-...   \n",
      "15     Download here: http://www.revostock.com/After-...   \n",
      "16     Download here: http://www.revostock.com/After-...   \n",
      "17     Download here: http://www.revostock.com/After-...   \n",
      "18     Download here: http://www.revostock.com/After-...   \n",
      "19     Download here: http://www.revostock.com/After-...   \n",
      "20     Eighteen-year-olds Adam Casey and Luca Berg ar...   \n",
      "21     Eighteen-year-olds Adam Casey and Luca Berg ar...   \n",
      "22     Eighteen-year-olds Adam Casey and Luca Berg ar...   \n",
      "23     Eighteen-year-olds Adam Casey and Luca Berg ar...   \n",
      "24     Eighteen-year-olds Adam Casey and Luca Berg ar...   \n",
      "25     Eighteen-year-olds Adam Casey and Luca Berg ar...   \n",
      "26     Eighteen-year-olds Adam Casey and Luca Berg ar...   \n",
      "27     Eighteen-year-olds Adam Casey and Luca Berg ar...   \n",
      "28     Eighteen-year-olds Adam Casey and Luca Berg ar...   \n",
      "29     Eighteen-year-olds Adam Casey and Luca Berg ar...   \n",
      "...                                                  ...   \n",
      "19322  http://coloradomotive.forsale  This 2009 Jeep ...   \n",
      "19323  http://coloradomotive.forsale  This 2009 Jeep ...   \n",
      "19324  Don't miss all my off-eBay breaks:\\nhttp://ryd...   \n",
      "19325  I go over things that happened at e3 and more ...   \n",
      "19326  I go over things that happened at e3 and more ...   \n",
      "19327  I go over things that happened at e3 and more ...   \n",
      "19328  Best place for farming the cooking material Ra...   \n",
      "19329  Best place for farming the cooking material Ra...   \n",
      "19330  Best place for farming the cooking material Ra...   \n",
      "19331  Best place for farming the cooking material Ra...   \n",
      "19332  Best place for farming the cooking material Ra...   \n",
      "19333  Best place for farming the cooking material Ra...   \n",
      "19334  Best place for farming the cooking material Ra...   \n",
      "19335               ITS A TRAP!\\n\\nTanks for 1Mill guys!   \n",
      "19336               ITS A TRAP!\\n\\nTanks for 1Mill guys!   \n",
      "19337  A full of combos Arcade Mode gameplay playthro...   \n",
      "19338  A full of combos Arcade Mode gameplay playthro...   \n",
      "19339  A full of combos Arcade Mode gameplay playthro...   \n",
      "19340  A full of combos Arcade Mode gameplay playthro...   \n",
      "19341  A full of combos Arcade Mode gameplay playthro...   \n",
      "19342  A full of combos Arcade Mode gameplay playthro...   \n",
      "19343  A full of combos Arcade Mode gameplay playthro...   \n",
      "19344  A full of combos Arcade Mode gameplay playthro...   \n",
      "19345  A full of combos Arcade Mode gameplay playthro...   \n",
      "19346  A full of combos Arcade Mode gameplay playthro...   \n",
      "19347  A full of combos Arcade Mode gameplay playthro...   \n",
      "19348                            early morning drinking!   \n",
      "19349     This video was uploaded from an Android phone.   \n",
      "19350    Sermons from Pastor Teddy Songcuan\\nMay 5, 2013   \n",
      "19351    Sermons from Pastor Teddy Songcuan\\nMay 5, 2013   \n",
      "\n",
      "                                                sentence  \n",
      "0                                        I OWN NOTHING!!  \n",
      "1                    Song: Paramore \"The Only Exception\"  \n",
      "2                               Clips: The Secret Circle  \n",
      "3                                      Jealous white cat  \n",
      "4      Bob Orach has held a seat on the Santa Maria C...  \n",
      "5      We sat down with him and asked him why did he ...  \n",
      "6                Speed Sports Special V. Liquid Quicker.  \n",
      "7                              Speed Sports for the Win.  \n",
      "8         -- Watch live at https://www.twitch.tv/yokenvo  \n",
      "9      Download here: http://www.revostock.com/After-...  \n",
      "10     Insert your own photos and text to create an a...  \n",
      "11                              Dont have After Effects?  \n",
      "12                               We can edit it for you!  \n",
      "13                                     Template Details:  \n",
      "14     Multi-layered 1920x1080 AE project is precisel...  \n",
      "15     It`s very easy to use, all you have to do is t...  \n",
      "16     Two major ways for split are available with du...  \n",
      "17     Each Crop Area has it`s own text and backgroun...  \n",
      "18                 Footage is not included into project.  \n",
      "19                             Readme file is available.  \n",
      "20     Eighteen-year-olds Adam Casey and Luca Berg ar...  \n",
      "21                 To read more: http://cbc.ca/1.3793301  \n",
      "22     »»» Subscribe to CBC News to watch more videos...  \n",
      "23                         Connect with CBC News Online:  \n",
      "24     For breaking news, video, audio and in-depth c...  \n",
      "25      Find CBC News on Facebook: http://bit.ly/1WjG36m  \n",
      "26     Follow CBC News on Twitter: http://bit.ly/1sA5P9H  \n",
      "27     For breaking news on Twitter: http://bit.ly/1W...  \n",
      "28     Follow CBC News on Instagram: http://bit.ly/1Z...  \n",
      "29     Download the CBC News app for iOS: http://appl...  \n",
      "...                                                  ...  \n",
      "19322  http://coloradomotive.forsale  This 2009 Jeep ...  \n",
      "19323               For details, call us at 303-997-8850  \n",
      "19324                 Don't miss all my off-eBay breaks:  \n",
      "19325  I go over things that happened at e3 and more ...  \n",
      "19326                  PS sorry for the lack of screens.  \n",
      "19327             I forgot to add them but I will later.  \n",
      "19328  Best place for farming the cooking material Ra...  \n",
      "19329             Location: Lake of Stars, Dread Wastes.  \n",
      "19330                                            Music -  \n",
      "19331                                     Title: Sinners  \n",
      "19332  Artist: Changing Faces Ft. Charli Brix (https:...  \n",
      "19333  Direct Download Link: http://goo.gl/mkrpwJ (Cl...  \n",
      "19334                       License: http://goo.gl/gxYmp  \n",
      "19335                                        ITS A TRAP!  \n",
      "19336                              Tanks for 1Mill guys!  \n",
      "19337  A full of combos Arcade Mode gameplay playthro...  \n",
      "19338  All MK4 Move Lists – https://www.youtube.com/p...  \n",
      "19339  All MK4 Secrets & Extras – https://www.youtube...  \n",
      "19340  If you enjoy my videos please Subscribe for mo...  \n",
      "19341  Leaving a Like and a Comment is also very appr...  \n",
      "19342                      Feel free to follow my pages:  \n",
      "19343      Facebook➣ https://www.facebook.com/drewtonyz/  \n",
      "19344             Twitter➣ https://twitter.com/drewtonyz  \n",
      "19345    GooglePlus➣ https://plus.google.com/+drewtonyz/  \n",
      "19346  This walkthrough serves as an educational vide...  \n",
      "19347  Mortal Kombat is owned by WB Games Inc., all r...  \n",
      "19348                            early morning drinking!  \n",
      "19349     This video was uploaded from an Android phone.  \n",
      "19350                 Sermons from Pastor Teddy Songcuan  \n",
      "19351                                        May 5, 2013  \n",
      "\n",
      "[19352 rows x 4 columns]\n"
     ]
    }
   ],
   "source": [
    "# Add a sentence number value here\n",
    "rows = []\n",
    "\n",
    "def description_parse(desc):\n",
    "    sentences = []\n",
    "    for line in desc.splitlines():\n",
    "        for sent in sent_tokenize(line):\n",
    "            sentences.append(sent)\n",
    "    \n",
    "    return sentences\n",
    "\n",
    "sentences = []\n",
    "for index, row in videos_en.iterrows():\n",
    "    sentences = description_parse(row.description)\n",
    "    for sent in sentences:\n",
    "        if len(tokenize(sent)) != 0:\n",
    "            rows.append([row['id'], row['channelTitle'], row['description'], sent])\n",
    "\n",
    "videos_en_new = pd.DataFrame(rows, columns=['id', 'channelTitle', 'description', 'sentence'])\n",
    "print videos_en_new"
   ]
  },
  {
   "cell_type": "code",
   "execution_count": 12,
   "metadata": {},
   "outputs": [
    {
     "name": "stdout",
     "output_type": "stream",
     "text": [
      "17203\n"
     ]
    }
   ],
   "source": [
    "countVec = CountVectorizer(tokenizer=tokenize, binary=True).fit(videos_en_new['sentence'])\n",
    "print len(countVec.vocabulary_)"
   ]
  },
  {
   "cell_type": "code",
   "execution_count": 13,
   "metadata": {},
   "outputs": [
    {
     "name": "stdout",
     "output_type": "stream",
     "text": [
      "done\n"
     ]
    }
   ],
   "source": [
    "lineVec = countVec.transform(videos_en_new['sentence'])\n",
    "print 'done'"
   ]
  },
  {
   "cell_type": "code",
   "execution_count": 14,
   "metadata": {},
   "outputs": [
    {
     "name": "stdout",
     "output_type": "stream",
     "text": [
      "done\n"
     ]
    }
   ],
   "source": [
    "tfidfTrans = TfidfTransformer().fit(lineVec)\n",
    "tfIdfMatrix = tfidfTrans.transform(lineVec)\n",
    "print 'done'"
   ]
  },
  {
   "cell_type": "code",
   "execution_count": 15,
   "metadata": {},
   "outputs": [
    {
     "data": {
      "text/plain": [
       "(19352, 17203)"
      ]
     },
     "execution_count": 15,
     "metadata": {},
     "output_type": "execute_result"
    }
   ],
   "source": [
    "tfIdfMatrix.shape"
   ]
  },
  {
   "cell_type": "code",
   "execution_count": 16,
   "metadata": {},
   "outputs": [
    {
     "name": "stdout",
     "output_type": "stream",
     "text": [
      "done\n"
     ]
    }
   ],
   "source": [
    "dist = cosine_distances(lineVec)\n",
    "print 'done'"
   ]
  },
  {
   "cell_type": "code",
   "execution_count": 17,
   "metadata": {},
   "outputs": [
    {
     "name": "stdout",
     "output_type": "stream",
     "text": [
      "done\n"
     ]
    }
   ],
   "source": [
    "distVec = squareform(dist, checks = False)\n",
    "print 'done'"
   ]
  },
  {
   "cell_type": "code",
   "execution_count": 18,
   "metadata": {},
   "outputs": [
    {
     "data": {
      "text/plain": [
       "'done'"
      ]
     },
     "execution_count": 18,
     "metadata": {},
     "output_type": "execute_result"
    }
   ],
   "source": [
    "res = fastcluster.linkage(distVec, method = 'ward', preserve_input = False)\n",
    "'done'"
   ]
  },
  {
   "cell_type": "code",
   "execution_count": 19,
   "metadata": {},
   "outputs": [
    {
     "data": {
      "image/png": "[encoded data removed]",
      "text/plain": [
       "<Figure size 2520x720 with 1 Axes>"
      ]
     },
     "metadata": {
      "needs_background": "light"
     },
     "output_type": "display_data"
    }
   ],
   "source": [
    "plt.figure(figsize=(35, 10))\n",
    "plt.xlabel('Line Index')\n",
    "plt.ylabel('Distance')\n",
    "dendrogram(\n",
    "    res,\n",
    "    leaf_rotation=90.,  \n",
    "    leaf_font_size=8.,  \n",
    ")\n",
    "plt.show()"
   ]
  },
  {
   "cell_type": "code",
   "execution_count": 20,
   "metadata": {},
   "outputs": [
    {
     "data": {
      "text/plain": [
       "'done'"
      ]
     },
     "execution_count": 20,
     "metadata": {},
     "output_type": "execute_result"
    }
   ],
   "source": [
    "videos_en_new['ward_euclidean_cluster'] = fcluster(res, 5, criterion='distance')\n",
    "'done'"
   ]
  },
  {
   "cell_type": "code",
   "execution_count": 21,
   "metadata": {},
   "outputs": [
    {
     "name": "stdout",
     "output_type": "stream",
     "text": [
      "Megan Fox recently visited and \"critiqued\" the Field Museum.\n",
      "34\n",
      "The common thread of questions were \"How do you know\" and \"Do you have video evidence.\"\n",
      "59\n",
      "I explain why they don't have explicit explanations of the facts presented at the museum and why video evidence is shit when talking about dating things of the past.\n",
      "59\n",
      "My Social Media\n",
      "52\n",
      "Be Secular.\n",
      "26\n",
      "Absence of Clothing (use code \"GE\")\n",
      "14\n",
      "Do you know why Atheism Sucks?!?!?!?\n",
      "27\n",
      "Thank you all for making this possible.\n",
      "56\n",
      "In this funny moments vlog, I check out my 100k YouTube plaque (aka Play Button), which is part of the YouTube rewards system.\n",
      "40\n",
      "Feels great as a partner to finally get this in 2015.\n",
      "40\n",
      "And you can bet we've got a lot more coming... Let's get it.\n",
      "40\n",
      "Let's Celebrate... 100k YouTube Plaque.\n",
      "40\n",
      "Be sure to like, comment, and subscribe!\n",
      "65\n",
      "Sharing always helps.\n",
      "40\n",
      "● Follow me:\n",
      "2\n",
      "Twitter → https://twitter.com/PalaGilroySen\n",
      "1\n",
      "Twitch →  https://twitch.tv/Mantrousse\n",
      "35\n",
      "Instagram → http://instagram.com/palagilroysen\n",
      "4\n",
      "Facebook → https://www.facebook.com/Mantrousse\n",
      "61\n",
      "Steam group → http://steamcommunity.com/groups/Mantrouminati\n",
      "51\n",
      "● Website → http://www.mantrousse.com/\n",
      "47\n",
      "● Buy Razer products → http://rzr.to/mantrousse\n",
      "40\n",
      "● XMG laptop from → http://goo.gl/NBUuxp\n",
      "40\n",
      "● XMG coupon for a £30 discount → XMG-MANTROUSSE\n",
      "40\n",
      "● Music:\n",
      "7\n",
      "Soft Acoustic 9 - Stefan Mothander\n",
      "40\n",
      "Summer Salsa - Johan Hynynen\n",
      "40\n",
      "#Mantrouminati\n",
      "40\n",
      "↓More info below↓\n",
      "33\n",
      "Song: Travel Thru Centuries by Måns Billner\n",
      "40\n",
      "Get this song here:\n",
      "26\n",
      "• You have to get a license to use this song without any copyright issues and claims!\n",
      "13\n",
      "→ Please read this for more info: http://goo.gl/AtmemQ\n",
      "40\n",
      "♪ Do you want to submit your own song?\n",
      "40\n",
      "Song Info:\n",
      "33\n",
      "Title:\n",
      "40\n",
      "Genre:\n",
      "40\n",
      "Category:\n",
      "40\n",
      "☑ Viewed\n",
      "40\n",
      "☑ Liked\n",
      "64\n",
      "☐ Subscribed: https://goo.gl/dMKY4h\n",
      "63\n",
      "Playlists:\n",
      "30\n",
      "Music Mixes: https://goo.gl/PBtUEr\n",
      "7\n",
      "Music Genres: https://goo.gl/zqdh4I\n",
      "7\n",
      "Music Albums: https://goo.gl/ORIE2o\n",
      "7\n",
      "Popular Uploads: https://goo.gl/Ie1abp\n",
      "58\n",
      "Social Media:\n",
      "52\n",
      "Twitter: https://goo.gl/nWsT7r\n",
      "1\n",
      "Facebook: https://goo.gl/4i3Dei\n",
      "61\n",
      "AlRoTa Music is a music promotion channel.\n",
      "7\n",
      "♩ You will find here the best unknown music from music libraries such as Epidemic Sound, Positionmusic...\n",
      "40\n",
      "Those songs are NOT copyright free!\n",
      "7\n",
      "You have to get a license to use their music without any copyright issues and claims!\n",
      "13\n",
      "Please read the license info to learn more about the copyrights: https://goo.gl/vUI6xc\n",
      "40\n",
      "♪ You will also find here some royalty free / copyright free songs from private composers.\n",
      "7\n",
      "If you are allowed to use them, I will write it in the description!\n",
      "40\n",
      "If I haven't mentioned anything, contact the composers and ask them for permission please!\n",
      "34\n",
      "Do you want to submit your own song?\n",
      "40\n",
      "If any composer or label has an issue with any of my uploads, get in contact with me please ➞ [alrotamusic@freenet.de]\n",
      "34\n",
      "Once I have received your message, I will delete the video as soon as possible.\n",
      "59\n",
      "↑More info above↑\n",
      "33\n",
      "Check out my channel here!\n",
      "16\n",
      "Subscribe to Lindsay Marie!\n",
      "63\n",
      "Tell her I sent you: https://www.youtube.com/user/lindsaylovesbeauty\n",
      "40\n",
      "Check Lindsay's Morning Routine: http://youtu.be/Boov5JFljjM\n",
      "40\n",
      "This is my usual winter night routine!\n",
      "40\n",
      "Hope you guys like this video and let me know if you would like to see more routines or a healthy snack DIY!\n",
      "27\n",
      "On the week days, I work an office job from 9am-6pm and then when I get home I'll usually do house work, edit and upload videos!\n",
      "40\n",
      "I just started running and I actually really enjoy it!\n",
      "57\n",
      "Don't forget to SUBSCRIBE!!\n",
      "63\n",
      "Help me get to 50K!\n",
      "26\n",
      "New videos every week!\n",
      "59\n",
      "Follow Me!\n",
      "2\n",
      "Instagram: http://instagram.com/sarahrocksdale/\n",
      "4\n",
      "Twitter: https://twitter.com/sarahrocksdale\n",
      "1\n",
      "Vine: sarahrocksdale\n",
      "40\n",
      "Pinterest: http://www.pinterest.com/sarahrocksdale/\n",
      "39\n",
      "Tumblr: http://sarahelizabeth25love.tumblr.com/\n",
      "40\n",
      "Vlog Channel: http://www.youtube.com/user/VlogsFromaRocksdale\n",
      "40\n",
      "For business inquiries please email sarahrocksdale@gmail.com\n",
      "48\n",
      "SHOP + MORE:\n",
      "40\n",
      "Make Youtube videos and want to make money doing it?\n",
      "24\n",
      "Sign up for GrapeVine: http://grapevinelogic.com/advocates/?referrer=AF2E5701216946FB99BFA3675339F3\n",
      "40\n",
      "& Famebit: https://famebit.com/a/FierceFelineChic\n",
      "40\n",
      "My Favorite Hair Extensions: http://bit.ly/IM_Hair161\n",
      "40\n",
      "Use discount code \"IrresistibleSarah\" for 10% off!\n",
      "14\n",
      "*Disclaimer* I am not affiliated with the brands mentioned in this video.\n",
      "40\n",
      "Download Link: http://bit.ly/1efBXCu\n",
      "54\n",
      "Features:\n",
      "31\n",
      "    100% After Effects.\n",
      "40\n",
      "You can change everything you want\n",
      "40\n",
      "    No plug-ins required\n",
      "40\n",
      "    Placeholders\n",
      "40\n",
      "    2 ready for render comps (Full HD and HD)\n",
      "40\n",
      "    PDF tutorial included\n",
      "40\n",
      "    CS6, CS5.5, CS5 versions of project\n",
      "40\n",
      "© All Rights Reserved insomnia_\n",
      "46\n",
      "TEGS\n",
      "40\n",
      "photo video image album boxes broadcast business clean corporate displays elegant gray portfolio presentation promotion smooth white \"after effects\" promotion smooth elegant clean techno tv broadcast videohive \"after effects\" royalty free hot titles amazing projects template aep motion graphic \"CG\" \"Adobe After Efftcts CS4\" Red Giant Trapcode Particular 2.0 Optical Flares lens flares effect logo reveal video placeholders free AEP hot new clean presentation graphics software animation PSD Photoshop download envato 3d particles Camera Particles Burst abstract ART social web Проект для After Effects best tutorials for free scifi television introductions intros clouds sky intro text fly title nature scene fx online tutorial  colour correction editing  tricks  \"High Definition Template\" 3ds max cinema 4d tuts amazing intro openers outro photo frame gallery whiteboard, ae customization, FREE, AEP, silus, hand, drawn, custom, cinema, 4D, cinema 4D, background, broadcast, christmas, dynamic, golden, green, greetings, holiday, new year, red, snow, star, stylish, xmas stock plastic3 audiojungle background advertising beautiful beginning business clean commercial corporate flash game fiverr \"intro music\" logo music opener opening positive presentation product rising romantic short smooth soft tender video website modern,red,romantic,slideshow,stylish, valentine day,wedding, royalty free, music, chill out, ambient, definition, dry, 1080p, overcast, high, album, beauty, broadcast, business, clean, corporate, elegant, fashion, models, portfolio, promotion ,smooth, stock, plastic3, audiojungle, background, videohive, cheap, popular, website, video, game, presentation, photo album, marriage, anniversary, birthdays, wedding-day, party, presentation, rhythmical, corporate, business, personal, particles, explosion, shatter, particular, rays, energy, energetic, uncluttered, professional, presentation Hot Titles RED after effects free template weebly advanced level no pay surveys awesome long color professional Steel Rain Trapcode Sunlight Defect Adobe cs3 cs4 cs5 Digital Juice Lens Flare PSD .psd Photoshop Metal Text Motion Design Sphinx inc Sphinxcorp Enix HD video copilot hive white in download envato 3d particles graphics software animation art skating mobile smart phones laptops bullet valentine hack showreel tutorial fireworks graphics software mass demo pay surveys awesome long color professional Steel Rain Trapcode Sunlight Defect Adobe cs3 cs4 cs5 Digital Juice Lens Flare PSD .psd Photoshop Metal Text Motion Design Sphinx inc Sphinxcorp Enix HD video copilot hive white in download envato 3d particles graphics software animation art skating mobile smart phones laptops bullet valentine hack showreel tutorial fireworks graphics software mass demo Trapcode Particular Glow Light Trails Flying Spinning Orbs Lexus Commercial Glowing Explosion Particle Explode Particles Fire Optical Flares Adobe After Effects Effect AJR3 S+AFilms Love Heart Happy after effects syrupsyrup motion design love chris hodgson tutorial After Effects CS4 Sparks Particular Particular 2 Particular 2.0 3D Camera Particles Burst Energy 32bpc Super Bright Color Fire Explode Red Giant Software Trapcode Pierre Michel Fire Flower After Effects after effects CS3 adobe particle particles trapcode particular 3d titles title streaks streaky infectionist infection machinima inspiration 3d weapons domination animation after effects 3ds max sunlight defect NGU editing After Effects Adobe Cs4 Tutorial Andrew Kramer Trapcode Particular Prerendered Optical Flares Video Copilot Red Giant Sphinx_inc.\n",
      "40\n",
      "Sphinxcorp Enix HD Sunlight Defect 3D Sony Vegas Xvid Particles Motion Graphics Amazing Animation Text Digital Juice After Effects CS4 Project (SD) - Проект для After Effects CS4 (SD).\n",
      "40\n"
     ]
    },
    {
     "name": "stdout",
     "output_type": "stream",
     "text": [
      "Go to - https://mobilecoinkings.com/ for NBA Live Mobile and Madden Mobile coins!\n",
      "32\n",
      "ONLY $10 A MIL and delivery is always under 5 minutes.\n",
      "40\n",
      "Use my code NBG for an additional 15% off\n",
      "14\n",
      "Join CURSE!\n",
      "40\n",
      "The Best Network out there for youtubers over 1k Subs!!!\n",
      "40\n",
      "My Instagram - https://www.instagram.com/nerdbeamgaming_yt/\n",
      "4\n",
      "My Twitter - https://twitter.com/NerdBeamGaming\n",
      "1\n",
      "Thumbnails - Yonix,Juiced Up YT,Rha,ChaboyJoe,AjDahKing,MMPYT, and Mostly ME!\n",
      "40\n",
      "Graphics - AjDahKing\n",
      "40\n",
      "Background Music By NCS-https://www.youtube.com/user/NoCopyrightSounds\n",
      "7\n",
      "and Chuki Beats- https://www.youtube.com/user/CHUKImusic\n",
      "40\n",
      "100 ELITE PLAYER PACKS - https://www.youtube.com/watch?v=mv_6uskW3eE\n",
      "40\n",
      "50 MIL SHOPPING SPREE - https://www.youtube.com/watch?v=_ap3sDTwYqI&t=7s\n",
      "40\n",
      "BRO VS BRO - https://www.youtube.com/watch?v=nG6fw3klmU8\n",
      "40\n",
      "The Fam (Sub to them if your goat)\n",
      "40\n",
      "Jag-https://www.youtube.com/channel/UC_8Nl08RCdIRHgm7dmFrNOw\n",
      "40\n",
      "Champs - https://www.youtube.com/channel/UCLPyjVfGlAY7B9j-eomtCOg\n",
      "40\n",
      "RHA - https://www.youtube.com/channel/UCq5MhnHjzicrwxx_jKmPvJg\n",
      "40\n",
      "Xarnax - https://www.youtube.com/channel/UCW5mDPwKkvVAZ5mssnpl8tA\n",
      "40\n",
      "JDM - https://www.youtube.com/user/margolin90\n",
      "40\n",
      "CJGaming - https://www.youtube.com/channel/UCcEpS5RsZlz_FwWIkKjCsbQ\n",
      "40\n",
      "JCNA - https://www.youtube.com/channel/UCZc0hKJIiS3xZCskBbq9f7g\n",
      "40\n",
      "Mm Pro - https://www.youtube.com/channel/UC4kO0twnGk4sDozCs2cXrmw\n",
      "40\n",
      "AaronMM - https://www.youtube.com/channel/UCcQYO1oM3Ow-w5cfqlo9BDA\n",
      "40\n",
      "Tatertot - https://www.youtube.com/channel/UCnFcPe3q4kYmsaWW0YF04OQ\n",
      "40\n",
      "Ducky - https://www.youtube.com/user/TheBeastyCoDkid\n",
      "40\n",
      "JohnDot - https://www.youtube.com/channel/UCQ8uj1Np-DaNxSS6XPFuvAw\n",
      "40\n",
      "Yonix - https://www.youtube.com/channel/UCznPZPDP8pxFVwkigzUql0A\n",
      "40\n",
      "Adviscide - https://www.youtube.com/channel/UCEl_CfiGF2oSRFIo1luf7Yg\n",
      "40\n",
      "Tags (Ignore) NBA Live Mobile, nba live mobile pack opening,\n",
      "40\n",
      "nba live mobile gameplay, nba live mobile glitch, nba live mobile 16,\n",
      "32\n",
      "nba live mobile, nba live mobile sets, nba live mobile elite players,\n",
      "40\n",
      "nba live mobile coin method, nba live mobile coin glitch,\n",
      "32\n",
      "nba live mobile coin hack, nba live mobile hack, nerdbeam gaming, nbg,\n",
      "32\n",
      "nba,\n",
      "32\n",
      "Thanks For Watching Make sure to Subscribe and Like!\n",
      "65\n",
      "Can we Hit 250 Likes on this Video ;)\n",
      "64\n",
      "On 22 August 2012, various organizations of SC/ST employees joined Rashtriya Dalit Panchayat and All India SC/ST Railway Employees Association in their mass rally at Jantar Mantar in New Delhi to protest against the Uttar Pradesh government\n",
      "40\n",
      "for accepting the Supreme Court order that declared as unconstitutional a section of the Uttar Pradesh Public Service (reservation for SC, ST and OBC) Act-1994, which gave reservation in promotion in government departments.\n",
      "40\n",
      "Many other organizations that joined the protest were : Vishwa Dalit Parishad - a Chamar, Mahar, Jatav Mahasabha; Bijnaur (Uttar Pradesh) who was protesting for the last sixteen days of the Protest, Anusuchit Jati, Janjaati (SC/ST) Aarakshan Manch, Alwar (Rajasthan); Ambedkar Missionaries Vidhyarthi Association; All India SC/ST Railway Employee Association, Kota (Rajasthaan); All India Scheduled Castes and Tribes Railway Employees Association, Hajipur/Danapur (Bihar); All India Scheduled Castes and Scheduled Tribes Railway Employees Association, Secunderabad (Andhra Pradesh); All India SC/ST Railway Employees Association of Konkan Railway (Goa); All India SC/ST Railway Employees Association, Allahbaad (Uttar Pradesh); Akhil Bhartiya Anusichit Jaati/Janjaati Kalyaan Sanhg, Lok Nirmaan Vibhag, Lucknow (Uttar Pradesh); All India Railway Employees Association, Ajmer (Rajasthan); All India Railway Employees Association, Mughalsarai (Uttar Pradesh), All India Railway Employees Association, Bhusawal (Maharashtra), Income Tax SC/ST Employees Federation, Alwar (Rajasthan); All India Railway Employees Association, Chennai (Tamil Nadu); All India Railway Employees Association, (Karnataka); Ambedkar Karamchari Mahashang evam Samman Swabhimaan Sanrakshan Samiti (UP), Aarakshan Bachao Sangharsh Samiti, Ajamgadh (UP); Hariyan Anuschuit Jaati Adhyapad Sangh; Andhra Pradesh Dalit Mahasabha; and many more.\n",
      "40\n",
      "- Covered by Nikhil Sablania 9013306236 sablanian@gmail.com\n",
      "48\n",
      "Chuckles The Clown is back, this time finding a underage kid on BO3, teaching him the in's and out's of Call Of Duty.\n",
      "40\n",
      "FPT Director -https://www.youtube.com/user/Popupgamer\n",
      "40\n",
      "Subscribe here and help us grow to 1 million subscribers: http://goo.gl/J5GDqF\n",
      "40\n",
      "Check out our Previous Upload-https://www.youtube.com/watch?v=sODTGxaqeyQ\n",
      "59\n",
      "Follow our Facebook Fan page: https://goo.gl/87pgYW\n",
      "62\n",
      "Click here to visit our store use code FPTARMY for 15% off: http://goo.gl/bU9Vnd\n",
      "14\n",
      "Stay Connected, Follow Us On Twitter ► http://twitter.com/#!/FPTrolling\n",
      "2\n",
      "Click to watch more videos ► http://goo.gl/FH0xD\n",
      "34\n",
      "Submit Your Videos!\n",
      "40\n",
      "ALL MUSIC MUST BE COPYRIGHT FREE!\n",
      "7\n",
      "-Click to use our video submission center: http://goo.gl/HMhOL\n",
      "14\n",
      "-Or upload your video to youtube and send the video URL in a personal message on Youtube.\n",
      "40\n"
     ]
    }
   ],
   "source": [
    "vid_ids = {}\n",
    "for vid in applicable_vids:\n",
    "    vid_ids[vid[0]] = True\n",
    "    \n",
    "count = 0\n",
    "for index, row in videos_en_new.iterrows():\n",
    "    if row.id in vid_ids:\n",
    "        print row.sentence\n",
    "        print row.ward_euclidean_cluster"
   ]
  },
  {
   "cell_type": "code",
   "execution_count": 22,
   "metadata": {},
   "outputs": [
    {
     "name": "stdout",
     "output_type": "stream",
     "text": [
      "FskpZ gaming\tSubscribe: http://www.youtube.com/subscription_center?add_user=FskpZ --- \n",
      "xTimelessGaming\t"
     ]
    },
    {
     "ename": "UnicodeEncodeError",
     "evalue": "'ascii' codec can't encode character u'\\xbb' in position 10: ordinal not in range(128)",
     "output_type": "error",
     "traceback": [
      "\u001b[0;31m---------------------------------------------------------------------------\u001b[0m",
      "\u001b[0;31mUnicodeEncodeError\u001b[0m                        Traceback (most recent call last)",
      "\u001b[0;32m<ipython-input-22-07a5c423bacc>\u001b[0m in \u001b[0;36m<module>\u001b[0;34m()\u001b[0m\n\u001b[1;32m     11\u001b[0m     \u001b[0;32mprint\u001b[0m \u001b[0mstr\u001b[0m\u001b[0;34m(\u001b[0m\u001b[0minfo\u001b[0m\u001b[0;34m[\u001b[0m\u001b[0mvidId\u001b[0m\u001b[0;34m]\u001b[0m\u001b[0;34m[\u001b[0m\u001b[0;36m0\u001b[0m\u001b[0;34m]\u001b[0m\u001b[0;34m)\u001b[0m \u001b[0;34m+\u001b[0m \u001b[0;34m\"\\t\"\u001b[0m\u001b[0;34m,\u001b[0m\u001b[0;34m\u001b[0m\u001b[0m\n\u001b[1;32m     12\u001b[0m     \u001b[0;32mfor\u001b[0m \u001b[0mitem\u001b[0m \u001b[0;32min\u001b[0m \u001b[0minfo\u001b[0m\u001b[0;34m[\u001b[0m\u001b[0mvidId\u001b[0m\u001b[0;34m]\u001b[0m\u001b[0;34m[\u001b[0m\u001b[0;36m1\u001b[0m\u001b[0;34m]\u001b[0m\u001b[0;34m:\u001b[0m\u001b[0;34m\u001b[0m\u001b[0m\n\u001b[0;32m---> 13\u001b[0;31m         \u001b[0;32mprint\u001b[0m \u001b[0mstr\u001b[0m\u001b[0;34m(\u001b[0m\u001b[0mitem\u001b[0m\u001b[0;34m)\u001b[0m \u001b[0;34m+\u001b[0m \u001b[0;34m\" --- \"\u001b[0m\u001b[0;34m,\u001b[0m\u001b[0;34m\u001b[0m\u001b[0m\n\u001b[0m\u001b[1;32m     14\u001b[0m     \u001b[0;32mprint\u001b[0m\u001b[0;34m\u001b[0m\u001b[0m\n",
      "\u001b[0;31mUnicodeEncodeError\u001b[0m: 'ascii' codec can't encode character u'\\xbb' in position 10: ordinal not in range(128)"
     ]
    }
   ],
   "source": [
    "info = {}\n",
    "\n",
    "for index, row in videos_en_new.iterrows():\n",
    "    if row.ward_euclidean_cluster in [63]:\n",
    "    #if row.ward_euclidean_cluster in [1409]: for second 100000\n",
    "        if row.id not in info:\n",
    "             info[row.id] = [row.channelTitle, []]\n",
    "        info[row.id][1].append(row.sentence)\n",
    "\n",
    "for vidId in info.keys():\n",
    "    print str(info[vidId][0]) + \"\\t\",\n",
    "    for item in info[vidId][1]:\n",
    "        print str(item) + \" --- \",\n",
    "    print"
   ]
  },
  {
   "cell_type": "code",
   "execution_count": null,
   "metadata": {},
   "outputs": [],
   "source": [
    "countVec1 = CountVectorizer(tokenizer=tokenize, binary=True).fit_transform(videos_en_new['sentence'])"
   ]
  },
  {
   "cell_type": "code",
   "execution_count": null,
   "metadata": {},
   "outputs": [],
   "source": [
    "arr = countVec.get_feature_names()\n",
    "for i in range(len(arr)):\n",
    "    if arr[i] == \"code\":\n",
    "        print i"
   ]
  },
  {
   "cell_type": "code",
   "execution_count": null,
   "metadata": {},
   "outputs": [],
   "source": [
    "arr1 = countVec1.toarray()\n",
    "indices = []\n",
    "for i in range(len(arr1)):\n",
    "    if arr1[i][3270] == 1:\n",
    "        print i\n",
    "        indices.append(i)\n",
    "    "
   ]
  },
  {
   "cell_type": "code",
   "execution_count": null,
   "metadata": {},
   "outputs": [],
   "source": [
    "index_distances = []\n",
    "for index, row in videos_en_new.iterrows():\n",
    "    if row.ward_euclidean_cluster in [63]:\n",
    "        index_distances.append(arr1[index])\n",
    "\n",
    "average = []\n",
    "for i in range(len(index_distances[0])):\n",
    "    average.append(0)\n",
    "    for array in index_distances:\n",
    "        average[i] += array[i]\n",
    "    average[i] /= (len(index_distances) *1.0)\n",
    "        \n",
    "    \n"
   ]
  },
  {
   "cell_type": "code",
   "execution_count": null,
   "metadata": {},
   "outputs": [],
   "source": [
    "def get_array_from_sentence(sentence):\n",
    "    ret_val = [0] * len(arr1[0])\n",
    "    \n",
    "    split = re.split('\\W+', sentence)\n",
    "    for word in split:\n",
    "        if word in arr:\n",
    "            ret_val[arr.index(word)] = 1\n",
    "    return ret_val  \n",
    "\n",
    "def get_total_distance(sentence):\n",
    "    array = list(index_distances)\n",
    "    array.append(get_array_from_sentence(sentence))\n",
    "    return cosine_distances(array)\n",
    "\n",
    "def get_distance_to_average(sentence):\n",
    "    distance = cosine_distances([average, get_array_from_sentence(sentence)])[0][1]\n",
    "    print distance\n",
    "\n",
    "\n",
    "get_distance_to_average(\"use my code to get to the thing and go to the baseline blah blah hahaha pop\")\n",
    "get_distance_to_average(\"hello world\")\n",
    "get_distance_to_average(\"I like turtles and would like to go to the store\")\n",
    "\n"
   ]
  },
  {
   "cell_type": "code",
   "execution_count": null,
   "metadata": {},
   "outputs": [],
   "source": [
    "twod = get_total_distance(\"use my code in the chat\")\n",
    "squareform(twod, checks = False)\n",
    "\n"
   ]
  },
  {
   "cell_type": "code",
   "execution_count": null,
   "metadata": {},
   "outputs": [],
   "source": [
    "twod = get_total_distance(\"I like turtles and potatoes\")\n",
    "squareform(twod, checks = False)\n"
   ]
  },
  {
   "cell_type": "code",
   "execution_count": null,
   "metadata": {},
   "outputs": [],
   "source": []
  }
 ],
 "metadata": {
  "kernelspec": {
   "display_name": "Python 2",
   "language": "python",
   "name": "python2"
  },
  "language_info": {
   "codemirror_mode": {
    "name": "ipython",
    "version": 2
   },
   "file_extension": ".py",
   "mimetype": "text/x-python",
   "name": "python",
   "nbconvert_exporter": "python",
   "pygments_lexer": "ipython2",
   "version": "2.7.15"
  }
 },
 "nbformat": 4,
 "nbformat_minor": 2
}
