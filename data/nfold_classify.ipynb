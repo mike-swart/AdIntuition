{
 "cells": [
  {
   "cell_type": "code",
   "execution_count": 1,
   "metadata": {},
   "outputs": [],
   "source": [
    "import pandas as pd\n",
    "import csv\n",
    "import numpy as np\n",
    "import re\n",
    "import string\n",
    "import nltk\n",
    "from nltk.tokenize import sent_tokenize, word_tokenize\n",
    "from sklearn.feature_extraction.text import CountVectorizer\n",
    "from sklearn.ensemble import RandomForestClassifier\n",
    "from sklearn.svm import SVC\n",
    "from sklearn.model_selection import train_test_split\n",
    "from sklearn import metrics\n",
    "from sklearn.model_selection import cross_val_score, cross_val_predict\n",
    "import sys\n",
    "from matplotlib import pyplot as plt\n",
    "from nltk.stem.porter import PorterStemmer\n",
    "import math\n",
    "import warnings\n",
    "warnings.filterwarnings('ignore')\n",
    "sys.setrecursionlimit(100000)"
   ]
  },
  {
   "cell_type": "markdown",
   "metadata": {},
   "source": [
    "# Cluster"
   ]
  },
  {
   "cell_type": "code",
   "execution_count": 2,
   "metadata": {},
   "outputs": [],
   "source": [
    "videos = []\n",
    "with open(\"sentence_clusters_fastcluster_nonbinary_all.tsv\", 'rt') as csvfile:\n",
    "    reader = csv.reader(csvfile, delimiter='\\t')\n",
    "    for row in reader:\n",
    "        videos.append([row[0], row[1], row[2], row[3], row[4]])\n",
    "        \n",
    "videos_en_new = pd.DataFrame(videos, columns=['id', 'description', 'channelTitle', 'sentence', 'clusterNum'])\n",
    "del videos"
   ]
  },
  {
   "cell_type": "code",
   "execution_count": 3,
   "metadata": {
    "scrolled": true
   },
   "outputs": [],
   "source": [
    "num_coupon_codes = 0\n",
    "for i, row in videos_en_new.iterrows():\n",
    "    if row['clusterNum'] == str(68):\n",
    "        num_coupon_codes += 1\n",
    "        videos_en_new.at[i, 'isCoupon'] = 1\n",
    "    else:\n",
    "        videos_en_new.at[i, 'isCoupon'] = 0"
   ]
  },
  {
   "cell_type": "code",
   "execution_count": 4,
   "metadata": {},
   "outputs": [
    {
     "name": "stdout",
     "output_type": "stream",
     "text": [
      "(77706, 6)\n"
     ]
    }
   ],
   "source": [
    "print videos_en_new.shape"
   ]
  },
  {
   "cell_type": "code",
   "execution_count": 5,
   "metadata": {},
   "outputs": [
    {
     "name": "stdout",
     "output_type": "stream",
     "text": [
      "177\n"
     ]
    }
   ],
   "source": [
    "print num_coupon_codes"
   ]
  },
  {
   "cell_type": "code",
   "execution_count": 6,
   "metadata": {},
   "outputs": [
    {
     "name": "stdout",
     "output_type": "stream",
     "text": [
      "(177, 6)\n"
     ]
    }
   ],
   "source": [
    "positives = []\n",
    "for i, row in videos_en_new.iterrows():\n",
    "    if row['isCoupon'] == 1:\n",
    "        positives.append([row.id, row.description, row.channelTitle, row.sentence, row.clusterNum, row.isCoupon])\n",
    "        \n",
    "positiveDF = pd.DataFrame(positives, columns=['id', 'description', 'channelTitle', 'sentence', 'clusterNum', 'isCoupon'])\n",
    "del positives\n",
    "print(positiveDF.shape)"
   ]
  },
  {
   "cell_type": "code",
   "execution_count": 7,
   "metadata": {
    "scrolled": false
   },
   "outputs": [],
   "source": [
    "stemmer = PorterStemmer()\n",
    "\n",
    "def tokenize(line):\n",
    "    if (line is None):\n",
    "        line = ''\n",
    "    printable = set(string.printable)\n",
    "    line = ''.join(filter(lambda x: x in printable, line)) \n",
    "    stopwords = nltk.corpus.stopwords.words('english')\n",
    "\n",
    "    tokenizer = nltk.RegexpTokenizer(r'[a-zA-Z]*\\'[a-zA-Z]*|\\w+')\n",
    "    \n",
    "    tokens = []\n",
    "    \n",
    "    line = re.sub(r'(http[s]?://|www.)(?:[a-zA-Z]|[0-9]|[$-_@.&+]*|[!*\\\\(\\\\),]|(?:%[0-9a-fA-F][0-9a-fA-F]))*', '', line).lower()\n",
    "    tokens.extend(tokenizer.tokenize(line))\n",
    "    \n",
    "    tokens_ = [f.strip(string.punctuation) for f in tokens]\n",
    "    tokens_ = [f for f in tokens_ if f != '' and f not in stopwords and len(f) != 1]\n",
    "    tokens_ = [f for f in tokens_ if not (f.isdigit() or f[0] == '-' and f[1:].isdigit())]\n",
    "    tokens_ = [stemmer.stem(f) for f in tokens_]\n",
    "\n",
    "    return tokens_\n"
   ]
  },
  {
   "cell_type": "markdown",
   "metadata": {},
   "source": [
    "# Run once"
   ]
  },
  {
   "cell_type": "code",
   "execution_count": 8,
   "metadata": {},
   "outputs": [],
   "source": [
    "# There are few coupon codes compared to the size of the dataset\n",
    "# Need to shrink the negative sample size in our training dataset\n",
    "sample_set = videos_en_new.sample(n=1000)"
   ]
  },
  {
   "cell_type": "code",
   "execution_count": 9,
   "metadata": {},
   "outputs": [
    {
     "data": {
      "text/plain": [
       "(1000, 6)"
      ]
     },
     "execution_count": 9,
     "metadata": {},
     "output_type": "execute_result"
    }
   ],
   "source": [
    "sample_set.shape"
   ]
  },
  {
   "cell_type": "code",
   "execution_count": 10,
   "metadata": {},
   "outputs": [
    {
     "data": {
      "text/plain": [
       "(1177, 6)"
      ]
     },
     "execution_count": 10,
     "metadata": {},
     "output_type": "execute_result"
    }
   ],
   "source": [
    "training_set = sample_set.append(positiveDF)\n",
    "training_set.shape"
   ]
  },
  {
   "cell_type": "code",
   "execution_count": 11,
   "metadata": {},
   "outputs": [],
   "source": [
    "y = training_set.isCoupon"
   ]
  },
  {
   "cell_type": "code",
   "execution_count": 12,
   "metadata": {},
   "outputs": [],
   "source": [
    "countVec = CountVectorizer(tokenizer=tokenize, min_df=5).fit(training_set['sentence'])"
   ]
  },
  {
   "cell_type": "code",
   "execution_count": 13,
   "metadata": {},
   "outputs": [],
   "source": [
    "lineVec = countVec.transform(training_set['sentence'])"
   ]
  },
  {
   "cell_type": "code",
   "execution_count": 14,
   "metadata": {},
   "outputs": [],
   "source": [
    "classifier = SVC(kernel=\"linear\", C=0.05)"
   ]
  },
  {
   "cell_type": "code",
   "execution_count": 15,
   "metadata": {},
   "outputs": [
    {
     "data": {
      "text/plain": [
       "SVC(C=0.05, cache_size=200, class_weight=None, coef0=0.0,\n",
       "  decision_function_shape='ovr', degree=3, gamma='auto_deprecated',\n",
       "  kernel='linear', max_iter=-1, probability=False, random_state=None,\n",
       "  shrinking=True, tol=0.001, verbose=False)"
      ]
     },
     "execution_count": 15,
     "metadata": {},
     "output_type": "execute_result"
    }
   ],
   "source": [
    "classifier.fit(lineVec, training_set['isCoupon'])"
   ]
  },
  {
   "cell_type": "code",
   "execution_count": 16,
   "metadata": {
    "scrolled": true
   },
   "outputs": [
    {
     "name": "stdout",
     "output_type": "stream",
     "text": [
      "Cross-validated scores: [1.         1.         1.         1.         0.96610169 0.98305085\n",
      " 0.94915254 1.         1.         1.         1.         1.\n",
      " 0.98305085 1.         1.         1.         0.98305085 0.94827586\n",
      " 1.         1.        ]\n"
     ]
    }
   ],
   "source": [
    "scores = cross_val_score(classifier, lineVec, y, cv=20)\n",
    "print 'Cross-validated scores:', scores"
   ]
  },
  {
   "cell_type": "code",
   "execution_count": 17,
   "metadata": {},
   "outputs": [
    {
     "name": "stdout",
     "output_type": "stream",
     "text": [
      "Cross-Predicted Accuracy: 0.9268531073446328\n"
     ]
    }
   ],
   "source": [
    "predictions = cross_val_predict(classifier, lineVec, y, cv=6)\n",
    "accuracy = metrics.r2_score(y, predictions)\n",
    "print 'Cross-Predicted Accuracy:', accuracy"
   ]
  },
  {
   "cell_type": "code",
   "execution_count": 18,
   "metadata": {},
   "outputs": [
    {
     "name": "stdout",
     "output_type": "stream",
     "text": [
      "[0.15038233 0.99404762 1.        ]\n",
      "[1.         0.94350282 0.        ]\n",
      "[0. 1.]\n"
     ]
    }
   ],
   "source": [
    "precision, recall, threshold = metrics.precision_recall_curve(y, predictions)\n",
    "print precision\n",
    "print recall \n",
    "print threshold"
   ]
  },
  {
   "cell_type": "code",
   "execution_count": 19,
   "metadata": {},
   "outputs": [
    {
     "name": "stdout",
     "output_type": "stream",
     "text": [
      "F1 Score: 0.9681159420289855\n"
     ]
    }
   ],
   "source": [
    "print 'F1 Score:', metrics.f1_score(y, predictions)"
   ]
  },
  {
   "cell_type": "code",
   "execution_count": 20,
   "metadata": {},
   "outputs": [
    {
     "data": {
      "text/plain": [
       "<matplotlib.collections.PathCollection at 0x1a1a6bad90>"
      ]
     },
     "execution_count": 20,
     "metadata": {},
     "output_type": "execute_result"
    },
    {
     "data": {
      "image/png": "[encoded data removed]",
      "text/plain": [
       "<Figure size 432x288 with 1 Axes>"
      ]
     },
     "metadata": {
      "needs_background": "light"
     },
     "output_type": "display_data"
    }
   ],
   "source": [
    "plt.scatter(y, predictions, alpha=0.007)"
   ]
  },
  {
   "cell_type": "code",
   "execution_count": null,
   "metadata": {},
   "outputs": [],
   "source": []
  },
  {
   "cell_type": "code",
   "execution_count": 21,
   "metadata": {
    "scrolled": true
   },
   "outputs": [
    {
     "name": "stdout",
     "output_type": "stream",
     "text": [
      "[\"al\",\"also\",\"anim\",\"anyth\",\"archiv\",\"area\",\"around\",\"auto\",\"avail\",\"a\",\"check\",\"checkout\",\"click\",\"contact\",\"discount\",\"facebook\",\"follow\",\"for\",\"googl\",\"hey\",\"how\",\"i\",\"if\",\"in\",\"instagram\",\"like\",\"mi\",\"music\",\"subscrib\",\"the\",\"thi\",\"to\",\"twitter\",\"use\",\"we\",\"xbox\",\"you\",\"zip\",\"band\",\"best\",\"blue\",\"bmw\",\"busi\",\"call\",\"car\",\"center\",\"challeng\",\"chang\",\"channel\",\"check\",\"checkout\",\"choos\",\"code\",\"collect\",\"com\",\"come\",\"comment\",\"commun\",\"compani\",\"contact\",\"control\",\"coupon\",\"cover\",\"creat\",\"custom\",\"day\",\"dealership\",\"discount\",\"download\",\"easi\",\"edit\",\"english\",\"enjoy\",\"entertain\",\"equip\",\"etc\",\"everi\",\"expect\",\"experi\",\"facebook\",\"famili\",\"featur\",\"film\",\"find\",\"first\",\"follow\",\"ford\",\"free\",\"freek\",\"friend\",\"full\",\"game\",\"gamerzgrip\",\"get\",\"give\",\"go\",\"googl\",\"great\",\"group\",\"guy\",\"head\",\"help\",\"home\",\"hope\",\"hous\",\"i'm\",\"includ\",\"india\",\"inform\",\"instal\",\"itani\",\"join\",\"kid\",\"kontrol\",\"latest\",\"leagu\",\"learn\",\"let\",\"level\",\"life\",\"light\",\"like\",\"line\",\"link\",\"list\",\"littl\",\"live\",\"long\",\"look\",\"lot\",\"love\",\"made\",\"make\",\"market\",\"media\",\"meet\",\"mike\",\"movi\",\"much\",\"music\",\"name\",\"nation\",\"near\",\"need\",\"new\",\"news\",\"nissan\",\"offici\",\"og\",\"old\",\"one\",\"order\",\"origin\",\"page\",\"part\",\"peopl\",\"perform\",\"play\",\"player\",\"pleas\",\"present\",\"price\",\"pro\",\"produc\",\"product\",\"promo\",\"provid\",\"purchas\",\"real\",\"record\",\"red\",\"releas\",\"relief\",\"repair\",\"report\",\"review\",\"run\",\"sale\",\"save\",\"school\",\"see\",\"seri\",\"serv\",\"servic\",\"shop\",\"show\",\"song\",\"sound\",\"south\",\"special\",\"sport\",\"spring\",\"stock\",\"stop\",\"store\",\"stori\",\"subscrib\",\"super\",\"support\",\"sure\",\"take\",\"talk\",\"team\",\"time\",\"today\",\"top\",\"toy\",\"toyota\",\"track\",\"trick\",\"tv\",\"twitter\",\"two\",\"us\",\"use\",\"video\",\"visit\",\"vs\",\"want\",\"watch\",\"way\",\"weather\",\"websit\",\"well\",\"without\",\"work\",\"world\",\"year\",\"youtub\"];\n"
     ]
    }
   ],
   "source": [
    "features = countVec.get_feature_names()\n",
    "string = \"[\"\n",
    "for item in features:\n",
    "    temp = item\n",
    "    if item[0:2] == \"b'\":\n",
    "        temp = item[2:]\n",
    "    string += '\"' + temp + '\",'\n",
    "string = string[0:-1] + \"];\"\n",
    "print string"
   ]
  },
  {
   "cell_type": "code",
   "execution_count": 22,
   "metadata": {
    "scrolled": false
   },
   "outputs": [
    {
     "name": "stdout",
     "output_type": "stream",
     "text": [
      "1.9250630231422121\n",
      "[-0.01133307459128652522, -0.00005033225226581488, -0.00178007218021877778, -0.00059335739340625926, 0, -0.02143708595085109039, 0.02292056916521977711, -0.01202593541082863822, -0.00015815478212168749, -0.01144465641794882062, -0.00016162872746363260, 0.25000000000000000000, 0, -0.01687450081455578108, 0.07462774957779809426, 0, 0, -0.01446572764845837841, 0, 0, -0.00053794889701269666, 0, 0, 0, -0.00022394050624378417, 0, -0.00014789153290095843, 0, 0, -0.01409815910525060063, 0, -0.04393926897716921021, 0, 0.07440288499494129848, 0.00477858503393171347, 0, 0, 0.07448499259727692223, 0, 0, -0.00008397920226222225, 0, -0.00119910877249944218, 0, -0.00926863673439326519, 0, 0, 0, -0.00906413876715684783, 0, 0.10000000000000000555, -0.00747129199549090642, 1.92506302314221211525, -0.00114953064930406294, -0.00013243462347404394, 0, 0, 0, 0, -0.00021562148432963113, 0.01848660507500687195, 0.07465933245286816844, -0.00032094354452042936, -0.05000000000000000278, -0.05000000000000000278, -0.00005033225226599297, -0.02143708595085109039, 0.07449327438319908179, -0.00028088501551096033, -0.01871054558125073361, 0, -0.00792702976728430590, -0.00114953064930406294, -0.00912613853978374787, -0.00941339999430335084, -0.00024973319257323262, 0.03417444484143839639, 0, 0, -0.00014789153290095843, -0.00179734473890235855, -0.00249349618549446830, 0, -0.01880483853411890616, -0.00021709442922887394, 0, 0, 0.00635549394283317637, 0.05000000000000000278, 0, -0.00008590595380888327, -0.00934901972893392719, 0, 0.00029041956289265012, 0, 0.00032742337288247693, 0, -0.00047627759017703636, -0.00754485437477692578, -0.00942727171757029407, -0.00941339999430335084, -0.04309548394678079652, 0, -0.00114953064930406294, -0.05000000000000000278, -0.00469689360186592401, 0, -0.05000000000000000278, 0.02782727946439728095, 0, 0, -0.00032742337288276489, 0, 0, -0.00239821754499888436, 0, -0.00439521162599358119, -0.05000000000000000278, -0.05000000000000000278, 0, -0.00020971661459995294, -0.01471578478728733340, -0.00032094354452043283, -0.00775691511839723957, -0.00046563962250224133, -0.00179734473890235855, -0.01423844265678952600, 0, 0, 0, 0, 0, -0.04393926897716921021, -0.01494258399098181284, 0, -0.00059335739340625926, 0, -0.00051586625564296407, 0, -0.00023800226340574271, -0.01383191688251397301, -0.00005033225226581488, -0.01357985310957030879, -0.00021562148432963113, -0.02890837794634198987, -0.00119910877249944218, -0.02143708595085109039, -0.01279684880324574205, 0, 0, -0.02505033225226581742, 0, -0.00030006544483904751, -0.00014789153290095843, -0.02841412466960557826, 0.01343292640871777965, 0, -0.00827774106826623113, 0, -0.00190171544049911462, -0.00521497452532040506, 0, -0.01392765085132775110, 0, 0.00003983990481143482, 0.07460211960584507696, -0.00780724737066305473, -0.00005054071750373867, -0.00021562148432963113, -0.05000000000000000278, 0.00024145913189922274, 0, 0.01113906241797982255, 0, -0.00054774539563972539, -0.00934901972893392892, -0.01284526815462402535, -0.00071476800716888393, 0.02500000000000000139, -0.02263456312433077822, -0.00617547988634319957, -0.02841412466960557826, 0.01278769114285311856, 0, -0.00018873609989559365, -0.03204756053105912994, 0, 0.02563032880722900669, 0, -0.00044708089110809566, -0.00119910877249944218, -0.00133955726196383139, 0, -0.00179734473890235855, -0.00044388744508995953, -0.02961323344210502195, 0, 0, -0.01408153617682477050, 0, 0, -0.00518483371590961958, -0.00551677581459498589, -0.01190244389488734865, 0.01665745937946153110, -0.00119910877249944218, -0.00044388744508995953, 0, -0.00000000000000079277, 0.02649615237831456221, -0.05000000000000000278, -0.00016162872746363260, -0.00038539000698948646, -0.05000000000000000278, 0.07477520510915611207, -0.02705538742309889638, -0.00190171544049911310, 0, -0.00617547988634319957, 0.01385224288778070384, -0.00775691511839723957, -0.00119910877249944218, -0.01529192163715111484, 0, 0, 0, -0.00119910877249944218, 0, -0.05854030490094414008];\n"
     ]
    }
   ],
   "source": [
    "b = classifier.coef_.toarray()[0]\n",
    "print b[countVec.get_feature_names().index(\"code\")]\n",
    "string = \"[\"\n",
    "for item in b:\n",
    "    if item == 0:\n",
    "        string += \"0, \"\n",
    "    else:\n",
    "        string += '%1.20f' % item + \", \"\n",
    "string = string[0:-2] + \"];\"\n",
    "print string"
   ]
  },
  {
   "cell_type": "code",
   "execution_count": 26,
   "metadata": {
    "scrolled": true
   },
   "outputs": [],
   "source": []
  },
  {
   "cell_type": "code",
   "execution_count": null,
   "metadata": {},
   "outputs": [],
   "source": []
  }
 ],
 "metadata": {
  "kernelspec": {
   "display_name": "Python 2",
   "language": "python",
   "name": "python2"
  },
  "language_info": {
   "codemirror_mode": {
    "name": "ipython",
    "version": 2
   },
   "file_extension": ".py",
   "mimetype": "text/x-python",
   "name": "python",
   "nbconvert_exporter": "python",
   "pygments_lexer": "ipython2",
   "version": "2.7.15"
  }
 },
 "nbformat": 4,
 "nbformat_minor": 2
}
