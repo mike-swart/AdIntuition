{
 "cells": [
  {
   "cell_type": "code",
   "execution_count": 1,
   "metadata": {},
   "outputs": [],
   "source": [
    "import sqlite3\n",
    "import csv\n",
    "import re\n",
    "from nltk.tokenize import word_tokenize\n",
    "from nltk.text import Text\n",
    "import operator"
   ]
  },
  {
   "cell_type": "markdown",
   "metadata": {},
   "source": [
    "# Check Frequencies of urls in PlainText description"
   ]
  },
  {
   "cell_type": "code",
   "execution_count": 2,
   "metadata": {},
   "outputs": [],
   "source": [
    "global conn\n",
    "conn = sqlite3.connect('youtube.db')\n",
    "c = conn.cursor()\n",
    "q = c.execute(\"SELECT url FROM urlNumber\")"
   ]
  },
  {
   "cell_type": "code",
   "execution_count": 3,
   "metadata": {},
   "outputs": [],
   "source": [
    "matches = {}"
   ]
  },
  {
   "cell_type": "code",
   "execution_count": 4,
   "metadata": {},
   "outputs": [],
   "source": [
    "for elem in q:\n",
    "    url = elem[0]\n",
    "    stripHTTP = re.sub(\"http[s]?://\", \"\", url)\n",
    "    try:\n",
    "        nextIndex = stripHTTP.index(\"/\")\n",
    "        stripHTTP = stripHTTP[0:nextIndex]\n",
    "    except:\n",
    "        pass\n",
    "    if stripHTTP[0:4] == \"www.\":\n",
    "        stripHTTP = stripHTTP[4:]\n",
    "    if stripHTTP not in matches:\n",
    "        matches[stripHTTP] = 0\n",
    "    matches[stripHTTP] += 1"
   ]
  },
  {
   "cell_type": "code",
   "execution_count": 5,
   "metadata": {
    "scrolled": true
   },
   "outputs": [],
   "source": [
    "sorted_x = sorted(matches.items(), key=operator.itemgetter(1))"
   ]
  },
  {
   "cell_type": "code",
   "execution_count": 6,
   "metadata": {},
   "outputs": [],
   "source": [
    "tot = c.execute(\"SELECT count(*) FROM urlNumber\")\n",
    "total = None\n",
    "for elem in tot:\n",
    "    total = elem[0]\n",
    "    break"
   ]
  },
  {
   "cell_type": "code",
   "execution_count": 7,
   "metadata": {},
   "outputs": [
    {
     "name": "stdout",
     "output_type": "stream",
     "text": [
      "youtube.com 20.95784902%\n",
      "facebook.com 8.85365414543%\n",
      "twitter.com 6.9553679548%\n",
      "goo.gl 6.80739189732%\n",
      "bit.ly 4.91255848137%\n",
      "youtu.be 4.39044962525%\n",
      "instagram.com 3.28926113088%\n",
      "vk.com 1.46175682108%\n",
      "twitch.tv 1.19860606554%\n",
      "soundcloud.com 1.15076047362%\n",
      "plus.google.com 0.908819619652%\n",
      "amzn.to 0.891062492755%\n",
      "store.playstation.com 0.783533224324%\n",
      "adf.ly 0.462671806368%\n",
      "itunes.apple.com 0.461192045794%\n",
      "tinyurl.com 0.429623820199%\n",
      "mediafire.com 0.390163538206%\n",
      "creativecommons.org 0.340098305428%\n",
      "pinterest.com 0.305077305159%\n",
      "steamcommunity.com 0.298418382572%\n",
      "smarturl.it 0.296445368473%\n",
      "play.google.com 0.285347164162%\n",
      "dictionaryvoice.com 0.280168002151%\n",
      "patreon.com 0.261917621729%\n",
      "incompetech.com 0.252545804755%\n",
      "m.youtube.com 0.187929592992%\n",
      "amazon.com 0.186203205655%\n",
      "on.fb.me 0.175844881631%\n",
      "ali.pub 0.170419092857%\n"
     ]
    }
   ],
   "source": [
    "for i in range(1,30):\n",
    "    tup = sorted_x[len(sorted_x)-i]\n",
    "    print tup[0] + \" \" + str((tup[1]/(total*1.0) * 100)) + \"%\""
   ]
  },
  {
   "cell_type": "code",
   "execution_count": 8,
   "metadata": {
    "scrolled": true
   },
   "outputs": [
    {
     "name": "stdout",
     "output_type": "stream",
     "text": [
      "405471\n"
     ]
    }
   ],
   "source": [
    "print total"
   ]
  },
  {
   "cell_type": "markdown",
   "metadata": {},
   "source": [
    "# Check Number of urls with no redirects"
   ]
  },
  {
   "cell_type": "code",
   "execution_count": 9,
   "metadata": {},
   "outputs": [],
   "source": [
    "q = c.execute(\"SELECT * FROM urlResolve\")"
   ]
  },
  {
   "cell_type": "code",
   "execution_count": 10,
   "metadata": {},
   "outputs": [],
   "source": [
    "matches = {}\n",
    "total = 0\n",
    "for elem in q:\n",
    "    total += 1\n",
    "    urlId = elem[1]\n",
    "    if urlId not in matches:\n",
    "        matches[urlId] = 0\n",
    "    matches[urlId] += 1"
   ]
  },
  {
   "cell_type": "code",
   "execution_count": 11,
   "metadata": {},
   "outputs": [],
   "source": [
    "count = 0\n",
    "tot = 0\n",
    "for key, value in matches.iteritems():\n",
    "    tot += 1\n",
    "    if value == 1:\n",
    "        count += 1"
   ]
  },
  {
   "cell_type": "code",
   "execution_count": 12,
   "metadata": {
    "scrolled": true
   },
   "outputs": [
    {
     "name": "stdout",
     "output_type": "stream",
     "text": [
      "206563\n",
      "660009\n",
      "395256\n",
      "52.2605602445\n"
     ]
    }
   ],
   "source": [
    "print count\n",
    "print total\n",
    "print tot\n",
    "print count/(tot*1.0) * 100"
   ]
  },
  {
   "cell_type": "code",
   "execution_count": 13,
   "metadata": {},
   "outputs": [],
   "source": [
    "sorted_x = sorted(matches.items(), key=operator.itemgetter(1))"
   ]
  },
  {
   "cell_type": "code",
   "execution_count": 14,
   "metadata": {},
   "outputs": [
    {
     "name": "stdout",
     "output_type": "stream",
     "text": [
      "26\n",
      "22\n",
      "22\n",
      "21\n",
      "21\n",
      "20\n",
      "19\n",
      "17\n",
      "16\n"
     ]
    }
   ],
   "source": [
    "for i in range(1,10):\n",
    "    tup = sorted_x[len(sorted_x)-i]\n",
    "    print tup[1]"
   ]
  },
  {
   "cell_type": "code",
   "execution_count": 15,
   "metadata": {},
   "outputs": [],
   "source": [
    "q = c.execute(\"SELECT * FROM urlResolve\")"
   ]
  },
  {
   "cell_type": "code",
   "execution_count": 16,
   "metadata": {},
   "outputs": [
    {
     "name": "stdout",
     "output_type": "stream",
     "text": [
      "309897\n"
     ]
    }
   ],
   "source": [
    "# Check without main social media\n",
    "matches = {}\n",
    "total = 0\n",
    "count = 0\n",
    "for elem in q:\n",
    "    total += 1\n",
    "    url = elem[2]\n",
    "    if re.search(r\"(facebook.com)|(youtube.com)|(youtu.be)|(twitter.com)|(instagram.com)\", url):\n",
    "        count+=1\n",
    "        continue\n",
    "    urlId = elem[1]\n",
    "    if urlId not in matches:\n",
    "        matches[urlId] = 0\n",
    "    matches[urlId] += 1\n",
    "print count"
   ]
  },
  {
   "cell_type": "code",
   "execution_count": 17,
   "metadata": {},
   "outputs": [],
   "source": [
    "count = 0\n",
    "tot = 0\n",
    "for key, value in matches.iteritems():\n",
    "    tot += 1\n",
    "    if value == 1:\n",
    "        count += 1"
   ]
  },
  {
   "cell_type": "code",
   "execution_count": 18,
   "metadata": {},
   "outputs": [
    {
     "name": "stdout",
     "output_type": "stream",
     "text": [
      "121267\n",
      "660009\n",
      "212127\n",
      "57.1671687244\n"
     ]
    }
   ],
   "source": [
    "print count\n",
    "print total\n",
    "print tot\n",
    "print count/(tot*1.0) * 100"
   ]
  },
  {
   "cell_type": "code",
   "execution_count": null,
   "metadata": {},
   "outputs": [],
   "source": []
  }
 ],
 "metadata": {
  "kernelspec": {
   "display_name": "Python 2",
   "language": "python",
   "name": "python2"
  },
  "language_info": {
   "codemirror_mode": {
    "name": "ipython",
    "version": 2
   },
   "file_extension": ".py",
   "mimetype": "text/x-python",
   "name": "python",
   "nbconvert_exporter": "python",
   "pygments_lexer": "ipython2",
   "version": "2.7.15"
  }
 },
 "nbformat": 4,
 "nbformat_minor": 2
}
