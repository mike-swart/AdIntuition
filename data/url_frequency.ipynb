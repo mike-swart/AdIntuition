{
 "cells": [
  {
   "cell_type": "code",
   "execution_count": 1,
   "metadata": {},
   "outputs": [],
   "source": [
    "import sqlite3\n",
    "import csv\n",
    "import re\n",
    "from nltk.tokenize import word_tokenize\n",
    "from nltk.text import Text\n",
    "import operator"
   ]
  },
  {
   "cell_type": "markdown",
   "metadata": {},
   "source": [
    "# Check Frequencies of urls in PlainText description"
   ]
  },
  {
   "cell_type": "code",
   "execution_count": 2,
   "metadata": {},
   "outputs": [],
   "source": [
    "global conn\n",
    "conn = sqlite3.connect('youtube.db')\n",
    "c = conn.cursor()\n",
    "q = c.execute(\"SELECT url FROM urlNumber\")"
   ]
  },
  {
   "cell_type": "code",
   "execution_count": 3,
   "metadata": {},
   "outputs": [],
   "source": [
    "matches = {}"
   ]
  },
  {
   "cell_type": "code",
   "execution_count": 4,
   "metadata": {},
   "outputs": [],
   "source": [
    "for elem in q:\n",
    "    url = elem[0]\n",
    "    stripHTTP = re.sub(\"http[s]?://\", \"\", url)\n",
    "    try:\n",
    "        nextIndex = stripHTTP.index(\"/\")\n",
    "        stripHTTP = stripHTTP[0:nextIndex]\n",
    "    except:\n",
    "        pass\n",
    "    if stripHTTP[0:4] == \"www.\":\n",
    "        stripHTTP = stripHTTP[4:]\n",
    "    if stripHTTP not in matches:\n",
    "        matches[stripHTTP] = 0\n",
    "    matches[stripHTTP] += 1"
   ]
  },
  {
   "cell_type": "code",
   "execution_count": 5,
   "metadata": {
    "scrolled": true
   },
   "outputs": [],
   "source": [
    "sorted_x = sorted(matches.items(), key=operator.itemgetter(1))"
   ]
  },
  {
   "cell_type": "code",
   "execution_count": 6,
   "metadata": {},
   "outputs": [],
   "source": [
    "tot = c.execute(\"SELECT count(*) FROM urlNumber\")\n",
    "total = None\n",
    "for elem in tot:\n",
    "    total = elem[0]\n",
    "    break"
   ]
  },
  {
   "cell_type": "code",
   "execution_count": 7,
   "metadata": {},
   "outputs": [
    {
     "name": "stdout",
     "output_type": "stream",
     "text": [
      "youtube.com 20.95784902%\n",
      "facebook.com 8.85365414543%\n",
      "twitter.com 6.9553679548%\n",
      "goo.gl 6.80739189732%\n",
      "bit.ly 4.91255848137%\n",
      "youtu.be 4.39044962525%\n",
      "instagram.com 3.28926113088%\n",
      "vk.com 1.46175682108%\n",
      "twitch.tv 1.19860606554%\n",
      "soundcloud.com 1.15076047362%\n",
      "plus.google.com 0.908819619652%\n",
      "amzn.to 0.891062492755%\n",
      "store.playstation.com 0.783533224324%\n",
      "adf.ly 0.462671806368%\n",
      "itunes.apple.com 0.461192045794%\n",
      "tinyurl.com 0.429623820199%\n",
      "mediafire.com 0.390163538206%\n",
      "creativecommons.org 0.340098305428%\n",
      "pinterest.com 0.305077305159%\n",
      "steamcommunity.com 0.298418382572%\n",
      "smarturl.it 0.296445368473%\n",
      "play.google.com 0.285347164162%\n",
      "dictionaryvoice.com 0.280168002151%\n",
      "patreon.com 0.261917621729%\n",
      "incompetech.com 0.252545804755%\n",
      "m.youtube.com 0.187929592992%\n",
      "amazon.com 0.186203205655%\n",
      "on.fb.me 0.175844881631%\n",
      "ali.pub 0.170419092857%\n"
     ]
    }
   ],
   "source": [
    "for i in range(1,30):\n",
    "    tup = sorted_x[len(sorted_x)-i]\n",
    "    print tup[0] + \" \" + str((tup[1]/(total*1.0) * 100)) + \"%\""
   ]
  },
  {
   "cell_type": "code",
   "execution_count": 8,
   "metadata": {
    "scrolled": true
   },
   "outputs": [
    {
     "name": "stdout",
     "output_type": "stream",
     "text": [
      "405471\n"
     ]
    }
   ],
   "source": [
    "print total"
   ]
  },
  {
   "cell_type": "markdown",
   "metadata": {},
   "source": [
    "# Check Number of urls with no redirects"
   ]
  },
  {
   "cell_type": "code",
   "execution_count": 9,
   "metadata": {},
   "outputs": [],
   "source": [
    "q = c.execute(\"SELECT * FROM urlResolve\")"
   ]
  },
  {
   "cell_type": "code",
   "execution_count": 10,
   "metadata": {},
   "outputs": [],
   "source": [
    "matches = {}\n",
    "total = 0\n",
    "for elem in q:\n",
    "    total += 1\n",
    "    urlId = elem[1]\n",
    "    if urlId not in matches:\n",
    "        matches[urlId] = 0\n",
    "    matches[urlId] += 1"
   ]
  },
  {
   "cell_type": "code",
   "execution_count": 11,
   "metadata": {},
   "outputs": [],
   "source": [
    "count = 0\n",
    "tot = 0\n",
    "for key, value in matches.iteritems():\n",
    "    tot += 1\n",
    "    if value == 1:\n",
    "        count += 1"
   ]
  },
  {
   "cell_type": "code",
   "execution_count": 12,
   "metadata": {
    "scrolled": true
   },
   "outputs": [
    {
     "name": "stdout",
     "output_type": "stream",
     "text": [
      "206563\n",
      "660009\n",
      "395256\n",
      "52.2605602445\n"
     ]
    }
   ],
   "source": [
    "print count\n",
    "print total\n",
    "print tot\n",
    "print count/(tot*1.0) * 100"
   ]
  },
  {
   "cell_type": "code",
   "execution_count": 13,
   "metadata": {},
   "outputs": [],
   "source": [
    "sorted_x = sorted(matches.items(), key=operator.itemgetter(1))"
   ]
  },
  {
   "cell_type": "code",
   "execution_count": 14,
   "metadata": {},
   "outputs": [
    {
     "name": "stdout",
     "output_type": "stream",
     "text": [
      "26\n",
      "22\n",
      "22\n",
      "21\n",
      "21\n",
      "20\n",
      "19\n",
      "17\n",
      "16\n"
     ]
    }
   ],
   "source": [
    "for i in range(1,10):\n",
    "    tup = sorted_x[len(sorted_x)-i]\n",
    "    print tup[1]"
   ]
  },
  {
   "cell_type": "code",
   "execution_count": 15,
   "metadata": {},
   "outputs": [],
   "source": [
    "q = c.execute(\"SELECT * FROM urlResolve\")"
   ]
  },
  {
   "cell_type": "code",
   "execution_count": 16,
   "metadata": {},
   "outputs": [
    {
     "name": "stdout",
     "output_type": "stream",
     "text": [
      "309897\n"
     ]
    }
   ],
   "source": [
    "# Check without main social media\n",
    "matches = {}\n",
    "total = 0\n",
    "count = 0\n",
    "for elem in q:\n",
    "    total += 1\n",
    "    url = elem[2]\n",
    "    if re.search(r\"(facebook.com)|(youtube.com)|(youtu.be)|(twitter.com)|(instagram.com)\", url):\n",
    "        count+=1\n",
    "        continue\n",
    "    urlId = elem[1]\n",
    "    if urlId not in matches:\n",
    "        matches[urlId] = 0\n",
    "    matches[urlId] += 1\n",
    "print count"
   ]
  },
  {
   "cell_type": "code",
   "execution_count": 17,
   "metadata": {},
   "outputs": [],
   "source": [
    "count = 0\n",
    "tot = 0\n",
    "for key, value in matches.iteritems():\n",
    "    tot += 1\n",
    "    if value == 1:\n",
    "        count += 1"
   ]
  },
  {
   "cell_type": "code",
   "execution_count": 18,
   "metadata": {},
   "outputs": [
    {
     "name": "stdout",
     "output_type": "stream",
     "text": [
      "121267\n",
      "660009\n",
      "212127\n",
      "57.1671687244\n"
     ]
    }
   ],
   "source": [
    "print count\n",
    "print total\n",
    "print tot\n",
    "print count/(tot*1.0) * 100"
   ]
  },
  {
   "cell_type": "markdown",
   "metadata": {},
   "source": [
    "# Check number of utm urls"
   ]
  },
  {
   "cell_type": "code",
   "execution_count": 45,
   "metadata": {
    "scrolled": true
   },
   "outputs": [],
   "source": [
    "q = c.execute(\"SELECT * FROM urlResolve\")"
   ]
  },
  {
   "cell_type": "code",
   "execution_count": 46,
   "metadata": {},
   "outputs": [],
   "source": [
    "matches = {}\n",
    "total = 0\n",
    "for elem in q:\n",
    "    total += 1\n",
    "    urlId = elem[1]\n",
    "    depth = elem[3]\n",
    "    url = elem[2]\n",
    "    if urlId not in matches:\n",
    "        matches[urlId] = {}\n",
    "    matches[urlId][depth] = url"
   ]
  },
  {
   "cell_type": "code",
   "execution_count": 47,
   "metadata": {},
   "outputs": [],
   "source": [
    "regex = \"((utm_source=.*)|(utm_term=.*)|(utm_campaign=.*)|(utm_content=.*)|(utm_medium=.*)|(aff_id=.*)|(campaignid=.*)){1}\""
   ]
  },
  {
   "cell_type": "code",
   "execution_count": 48,
   "metadata": {},
   "outputs": [],
   "source": [
    "count = 0\n",
    "total = 0\n",
    "for urlId in matches:\n",
    "    total += 1\n",
    "    size = len(matches[urlId])\n",
    "    for i in range(size):\n",
    "        url_to_check = matches[urlId][i+1]\n",
    "        if re.search(regex, url_to_check):\n",
    "            count += 1\n",
    "            break"
   ]
  },
  {
   "cell_type": "code",
   "execution_count": 49,
   "metadata": {},
   "outputs": [
    {
     "name": "stdout",
     "output_type": "stream",
     "text": [
      "3518\n",
      "395256\n",
      "0.89005606493\n"
     ]
    }
   ],
   "source": [
    "print count\n",
    "print total\n",
    "print count/(total*1.0) * 100"
   ]
  },
  {
   "cell_type": "code",
   "execution_count": 50,
   "metadata": {},
   "outputs": [],
   "source": [
    "regex1 = \"(ad.admitad.com/g/)|(ad.admitad.com/goto/)|(performance.affiliaxe.com/.*\\\\?aff_id=)|(performance.affiliaxe.com/.*&aff_id=)|(s.aliexpress.com/.*\\\\?af=)|(s.aliexpress.com/.*&af=)|(amazon.com/.*\\\\?tag=)|(amazon.com/.*&tag=)|(amazon.de/.*\\\\?tag=)|(amazon.de/.*&tag=)|(amazon.it/.*\\\\?tag=)|(amazon.it/.*&tag=)|(amazon.in/.*\\\\?tag=)|(amazon.in/.*&tag=)|(amazon.fr/.*\\\\?tag=)|(amazon.fr/.*&tag=)|(primevideo.com/.*\\\\?ref=)|(primevideo.com/.*&ref=)|(itunes.apple.com/.*\\\\?at=)|(itunes.apple.com/.*&at=)|(apple.com/.*\\\\?afid=)|(apple.com/.*&afid=)|(affiliates.audiobooks.com/.*\\\\?a_aid=.*&a_bid=)|(affiliates.audiobooks.com/.*\\\\?a_bid=.*&a_aid=)|(affiliates.audiobooks.com/.*&a_bid=.*&a_aid=)|(avantlink.com/.*\\\\?pw=)|(avantlink.com/.*&pw=)|(secure.avangate.com/.*\\\\?affiliate=)|(secure.avangate.com/.*&affiliate=)\"\n",
    "regex2 = \"(awin1.com/.*\\\\?awinaffid=)|(awin1.com/.*&awinaffid=)|(ad.zanox.com/ppc^)|(zenaps.com/rclick.php\\\\?)|(banggood.com/.*\\\\?p=)|(banggood.com/.*&p=)|(bookdepository.com/.*\\\\?a_aid=)|(bookdepository.com/.*&a_aid=)|(booking.com/.*\\\\?aid=)|(booking.com/.*&aid=)|(hop.clickbank.net^)|(anrdoezrs.net/click-)|(cj.dotomi.com^)|(dpbolvw.net/click-)|(emjcd.com^)|(jdoqocy.com/click-)|(kqzyfj.com/click-)|(qksrv.net^)|(tkqlhce.com/click-)|(designmodo.com/\\\\?u=)|(rover.ebay.com/.*\\\\?campid=)|(rover.ebay.com/.*&campid=)|(audiojungle.net/.*\\\\?ref=)|(audiojungle.net/.*&ref=)|(codecanyon.net/.*\\\\?ref=)|(codecanyon.net/.*&ref=)|(marketplace.envato.com/.*\\\\?ref=)|(marketplace.envato.com/.*&ref=)|(graphicriver.net/.*\\\\?ref=)|(graphicriver.net/.*&ref=)|(themeforest.net/.*\\\\?ref=)|(themeforest.net/.*&ref=)|(videohive.net/.*\\\\?ref=)|(videohive.net/.*&ref=)\"\n",
    "regex3 = \"(buyeasy.by/cashback/)|(buyeasy.by/redirect/)|(flipkart.com/.*\\\\?affid=)|(flipkart.com/.*&affid=)|(gtomegaracing.com/.*\\\\?tracking=)|(gtomegaracing.com/.*&tracking=)|(search.hotellook.com/.*\\\\?marker=)|(search.hotellook.com/.*&marker=)|(hotmart.net.br/.*\\\\?a=)|(hotmart.net.br/.*&a=)|(7eer.net/c/)|(evyy.net/c/)|(kontrolfreek.com/.*\\\\?a_aid=)|(kontrolfreek.com/.*&a_aid=)|(online.ladbrokes.com/promoRedirect\\\\?key=)|(online.ladbrokes.com/promoRedirect\\\\?.*&key=)|(makeupgeek.com/.*\\\\?acc=)|(makeupgeek.com/.*&acc=)|(gopjn.com/t/)|(pjatr.com/t/)|(pjtra.com/t/)|(pntra.com/t/)|(pntrac.com/t/)|(pntrs.com/t/)|(click.linksynergy.com/.*\\\\?id=)|(click.linksynergy.com/.*&id=)|(go.redirectingat.com/.*\\\\?id=)|(go.redirectingat.com/.*&id=)|(olymptrade.com/.*\\\\?affiliate_id=)|(olymptrade.com/.*&affiliate_id=)|(rstyle.me^)|(shopstyle.it^)|(shareasale.com/r.cfm^)|(shareasale.com/m-pr.cfm^)|(shareasale.com/u.cfm^)|(apessay.com/.*\\\\?rid=)|(apessay.com/.*&rid=)|(tatacliq.com/.*\\\\?cid=af:)|(tatacliq.com/.*&cid=af:)|(thermoworks.com/.*\\\\?tw=)|(thermoworks.com/.*&tw=)|(zaful.com/.*\\\\?lkid=)|(zaful.com/.*&lkid=)\""
   ]
  },
  {
   "cell_type": "code",
   "execution_count": 51,
   "metadata": {},
   "outputs": [],
   "source": [
    "count = 0\n",
    "total = 0\n",
    "for urlId in matches:\n",
    "    total += 1\n",
    "    size = len(matches[urlId])\n",
    "    for i in range(size):\n",
    "        url_to_check = matches[urlId][i+1]\n",
    "        if re.search(regex1, url_to_check) or re.search(regex2, url_to_check) or re.search(regex3, url_to_check):\n",
    "            count += 1\n",
    "            break"
   ]
  },
  {
   "cell_type": "code",
   "execution_count": 52,
   "metadata": {},
   "outputs": [
    {
     "name": "stdout",
     "output_type": "stream",
     "text": [
      "7876\n",
      "395256\n",
      "1.99263262291\n"
     ]
    }
   ],
   "source": [
    "print count\n",
    "print total\n",
    "print count/(total*1.0) * 100"
   ]
  },
  {
   "cell_type": "code",
   "execution_count": 53,
   "metadata": {},
   "outputs": [],
   "source": [
    "count = 0\n",
    "total = 0\n",
    "for urlId in matches:\n",
    "    total += 1\n",
    "    size = len(matches[urlId])\n",
    "    matches[urlId][\"matches\"] = False\n",
    "    for i in range(size):\n",
    "        url_to_check = matches[urlId][i+1]\n",
    "        if re.search(regex, url_to_check) or re.search(regex1, url_to_check) or re.search(regex2, url_to_check) or re.search(regex3, url_to_check):\n",
    "            matches[urlId][\"matches\"] = True\n",
    "            count += 1\n",
    "            break"
   ]
  },
  {
   "cell_type": "code",
   "execution_count": 54,
   "metadata": {},
   "outputs": [
    {
     "name": "stdout",
     "output_type": "stream",
     "text": [
      "10785\n",
      "395256\n",
      "2.72861133038\n"
     ]
    }
   ],
   "source": [
    "print count\n",
    "print total\n",
    "print count/(total*1.0) * 100"
   ]
  },
  {
   "cell_type": "code",
   "execution_count": null,
   "metadata": {},
   "outputs": [],
   "source": []
  }
 ],
 "metadata": {
  "kernelspec": {
   "display_name": "Python 2",
   "language": "python",
   "name": "python2"
  },
  "language_info": {
   "codemirror_mode": {
    "name": "ipython",
    "version": 2
   },
   "file_extension": ".py",
   "mimetype": "text/x-python",
   "name": "python",
   "nbconvert_exporter": "python",
   "pygments_lexer": "ipython2",
   "version": "2.7.15"
  }
 },
 "nbformat": 4,
 "nbformat_minor": 2
}
