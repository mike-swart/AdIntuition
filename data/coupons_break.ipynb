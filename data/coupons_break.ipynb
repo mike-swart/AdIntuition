{
 "cells": [
  {
   "cell_type": "code",
   "execution_count": 6,
   "metadata": {},
   "outputs": [],
   "source": [
    "import pandas as pd\n",
    "import csv\n",
    "import numpy as np\n",
    "import re\n",
    "import string\n",
    "import nltk\n",
    "from nltk.tokenize import sent_tokenize, word_tokenize\n",
    "from sklearn.feature_extraction.text import CountVectorizer, HashingVectorizer, TfidfTransformer\n",
    "from sklearn.metrics.pairwise import euclidean_distances, cosine_distances\n",
    "import fastcluster\n",
    "from scipy.spatial.distance import squareform\n",
    "from scipy.cluster.hierarchy import fcluster\n",
    "import gensim \n",
    "from gensim.models import Word2Vec\n",
    "from gensim.models.doc2vec import Doc2Vec, TaggedDocument\n",
    "import sys\n",
    "from nltk.stem.porter import PorterStemmer\n",
    "import math\n",
    "import hdbscan\n",
    "import warnings\n",
    "warnings.filterwarnings('ignore')\n",
    "sys.setrecursionlimit(100000)"
   ]
  },
  {
   "cell_type": "markdown",
   "metadata": {},
   "source": [
    "# Cluster"
   ]
  },
  {
   "cell_type": "code",
   "execution_count": 7,
   "metadata": {},
   "outputs": [],
   "source": [
    "#get all possible iterations of the username\n",
    "def get_codes_from_username(username):\n",
    "    usernames = []\n",
    "    usernames.append(re.escape(username))\n",
    "    split_regex = re.compile(\" \")\n",
    "    tokens = re.split(split_regex, username)\n",
    "    if len(tokens) > 1:\n",
    "        count = 0\n",
    "        initials = \"\"\n",
    "        total_string = \"\"\n",
    "        for token in tokens:\n",
    "            usernames.append(re.escape(token))\n",
    "            total_string += token\n",
    "            if count != 0:\n",
    "                usernames.append(re.escape(total_string))\n",
    "            count += 1\n",
    "            if len(token) > 0:\n",
    "                initials += token[0]\n",
    "        usernames.append(re.escape(initials))\n",
    "    \n",
    "    last_index_used = 0\n",
    "    for i in range(len(username)-1):\n",
    "        c = \"\"\n",
    "        nc = \"\"\n",
    "        try:\n",
    "            c = unicode(username[i], 'utf-8')\n",
    "            nc = unicode(username[i+1], 'utf-8')\n",
    "        except:\n",
    "            continue\n",
    "        if c.islower() and (nc.isupper() or nc.isnumeric()):\n",
    "            usernames.append(re.escape(username[last_index_used: i+1]))\n",
    "            usernames.append(re.escape(username[i+1:]))\n",
    "            last_index_used = i+1\n",
    "        elif c.isupper() and nc.isnumeric():\n",
    "            usernames.append(re.escape(username[last_index_used: i+1]))\n",
    "            usernames.append(re.escape(username[i+1:]))\n",
    "            last_index_used = i+1\n",
    "        elif c.isnumeric() and  not nc.isnumeric():\n",
    "            usernames.append(re.escape(username[last_index_used: i+1]))\n",
    "            usernames.append(re.escape(username[i+1:]))\n",
    "            last_index_used = i+1\n",
    "    return usernames\n",
    "\n",
    "def get_search_regex(possible_code_bases):\n",
    "    if possible_code_bases == None:\n",
    "        return \"(\" + username + \").*[0-9]*\"\n",
    "    search_str = \"(\"\n",
    "    for base in possible_code_bases:\n",
    "        search_str += base + \"|\"\n",
    "    search_str = search_str[0:-1] + \").*[0-9]*\"\n",
    "    return search_str"
   ]
  },
  {
   "cell_type": "code",
   "execution_count": 8,
   "metadata": {},
   "outputs": [],
   "source": [
    "videos = []\n",
    "count = 0\n",
    "with open(\"sentences_en1.tsv\", 'rt') as csvfile:\n",
    "    reader = csv.reader(csvfile, delimiter='\\t')\n",
    "    for row in reader:\n",
    "        count += 1\n",
    "        regexp_str = get_search_regex(get_codes_from_username(row[2]))\n",
    "        regexp = re.compile(regexp_str)\n",
    "        if re.search(regexp, row[3]):\n",
    "            videos.append([row[0], row[1], row[2], row[3]])\n",
    "        \n",
    "videos_en_new = pd.DataFrame(videos, columns=['id', 'description', 'channelTitle', 'sentence'])\n",
    "del videos"
   ]
  },
  {
   "cell_type": "code",
   "execution_count": 9,
   "metadata": {},
   "outputs": [
    {
     "name": "stdout",
     "output_type": "stream",
     "text": [
      "Total number of sentences: 1138630\n",
      "Number of videos with a possible coupon code: 170473\n",
      "Percentage: 0.149717643133\n"
     ]
    }
   ],
   "source": [
    "print(\"Total number of sentences: \" + str(count))\n",
    "print(\"Number of videos with a possible coupon code: \" + str(videos_en_new.shape[0]))\n",
    "print(\"Percentage: \" + str(videos_en_new.shape[0]/(count*1.0)))"
   ]
  },
  {
   "cell_type": "code",
   "execution_count": 19,
   "metadata": {},
   "outputs": [
    {
     "name": "stdout",
     "output_type": "stream",
     "text": [
      "0\n"
     ]
    }
   ],
   "source": [
    "with open('temp.tsv', 'wt') as csvfile:\n",
    "    writer = csv.writer(csvfile, delimiter='\\t', quoting=csv.QUOTE_MINIMAL)\n",
    "    count = 0\n",
    "    for index, row in videos_en_new.iterrows():\n",
    "        shouldPrint = False\n",
    "        iden = row[\"id\"]\n",
    "        if iden:\n",
    "            iden = iden.encode('utf-8')\n",
    "        try:\n",
    "            desc = row[\"description\"].encode('utf-8')\n",
    "        except:\n",
    "            desc = row['description']\n",
    "        try:\n",
    "            chanTitle = row[\"channelTitle\"].encode('utf-8')\n",
    "        except:\n",
    "            chanTitle = row[\"channelTitle\"]\n",
    "            shouldPrint = True\n",
    "        try:\n",
    "            sent = row['sentence'].encode('utf-8')\n",
    "        except:\n",
    "            desc = row['sentence']\n",
    "            \n",
    "        if shouldPrint:\n",
    "            writer.writerow([iden, desc, chanTitle, sent])\n",
    "            break\n",
    "    print(count)"
   ]
  },
  {
   "cell_type": "code",
   "execution_count": null,
   "metadata": {},
   "outputs": [],
   "source": []
  }
 ],
 "metadata": {
  "kernelspec": {
   "display_name": "Python 2",
   "language": "python",
   "name": "python2"
  },
  "language_info": {
   "codemirror_mode": {
    "name": "ipython",
    "version": 2
   },
   "file_extension": ".py",
   "mimetype": "text/x-python",
   "name": "python",
   "nbconvert_exporter": "python",
   "pygments_lexer": "ipython2",
   "version": "2.7.15"
  }
 },
 "nbformat": 4,
 "nbformat_minor": 2
}
